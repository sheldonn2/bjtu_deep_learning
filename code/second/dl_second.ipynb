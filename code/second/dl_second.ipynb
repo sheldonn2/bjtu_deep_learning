{
  "nbformat": 4,
  "nbformat_minor": 0,
  "metadata": {
    "colab": {
      "name": "dl-second.ipynb",
      "provenance": [],
      "collapsed_sections": [],
      "toc_visible": true
    },
    "kernelspec": {
      "name": "python3",
      "display_name": "Python 3"
    },
    "language_info": {
      "name": "python"
    },
    "widgets": {
      "application/vnd.jupyter.widget-state+json": {
        "8de5bb73d78c425980fe9222faf3c0e2": {
          "model_module": "@jupyter-widgets/controls",
          "model_name": "HBoxModel",
          "model_module_version": "1.5.0",
          "state": {
            "_dom_classes": [],
            "_model_module": "@jupyter-widgets/controls",
            "_model_module_version": "1.5.0",
            "_model_name": "HBoxModel",
            "_view_count": null,
            "_view_module": "@jupyter-widgets/controls",
            "_view_module_version": "1.5.0",
            "_view_name": "HBoxView",
            "box_style": "",
            "children": [
              "IPY_MODEL_4a44973ffb3349deb1b429962dd241b3",
              "IPY_MODEL_d4aea1a45e084865b3a8fd2c1b57f2ca",
              "IPY_MODEL_38c65487e8154cc19ff55f755cd3cf7e"
            ],
            "layout": "IPY_MODEL_8a563f98cf6a44d88ee222f20b2d60d4"
          }
        },
        "4a44973ffb3349deb1b429962dd241b3": {
          "model_module": "@jupyter-widgets/controls",
          "model_name": "HTMLModel",
          "model_module_version": "1.5.0",
          "state": {
            "_dom_classes": [],
            "_model_module": "@jupyter-widgets/controls",
            "_model_module_version": "1.5.0",
            "_model_name": "HTMLModel",
            "_view_count": null,
            "_view_module": "@jupyter-widgets/controls",
            "_view_module_version": "1.5.0",
            "_view_name": "HTMLView",
            "description": "",
            "description_tooltip": null,
            "layout": "IPY_MODEL_d04183031d344bfd8ed8bed7eaa749ec",
            "placeholder": "​",
            "style": "IPY_MODEL_9894a155f6fe4a2aa9d1507edceb6f5d",
            "value": "100%"
          }
        },
        "d4aea1a45e084865b3a8fd2c1b57f2ca": {
          "model_module": "@jupyter-widgets/controls",
          "model_name": "FloatProgressModel",
          "model_module_version": "1.5.0",
          "state": {
            "_dom_classes": [],
            "_model_module": "@jupyter-widgets/controls",
            "_model_module_version": "1.5.0",
            "_model_name": "FloatProgressModel",
            "_view_count": null,
            "_view_module": "@jupyter-widgets/controls",
            "_view_module_version": "1.5.0",
            "_view_name": "ProgressView",
            "bar_style": "success",
            "description": "",
            "description_tooltip": null,
            "layout": "IPY_MODEL_cea4c6a01b9d40f99f423456e1e983f4",
            "max": 9912422,
            "min": 0,
            "orientation": "horizontal",
            "style": "IPY_MODEL_6cb90cbbaf8e46d2bcbafa8f228153dc",
            "value": 9912422
          }
        },
        "38c65487e8154cc19ff55f755cd3cf7e": {
          "model_module": "@jupyter-widgets/controls",
          "model_name": "HTMLModel",
          "model_module_version": "1.5.0",
          "state": {
            "_dom_classes": [],
            "_model_module": "@jupyter-widgets/controls",
            "_model_module_version": "1.5.0",
            "_model_name": "HTMLModel",
            "_view_count": null,
            "_view_module": "@jupyter-widgets/controls",
            "_view_module_version": "1.5.0",
            "_view_name": "HTMLView",
            "description": "",
            "description_tooltip": null,
            "layout": "IPY_MODEL_b16d135a25954278858b308128d86820",
            "placeholder": "​",
            "style": "IPY_MODEL_05cc83367c7a42ec9a191763cefdaff0",
            "value": " 9912422/9912422 [00:00&lt;00:00, 124134392.01it/s]"
          }
        },
        "8a563f98cf6a44d88ee222f20b2d60d4": {
          "model_module": "@jupyter-widgets/base",
          "model_name": "LayoutModel",
          "model_module_version": "1.2.0",
          "state": {
            "_model_module": "@jupyter-widgets/base",
            "_model_module_version": "1.2.0",
            "_model_name": "LayoutModel",
            "_view_count": null,
            "_view_module": "@jupyter-widgets/base",
            "_view_module_version": "1.2.0",
            "_view_name": "LayoutView",
            "align_content": null,
            "align_items": null,
            "align_self": null,
            "border": null,
            "bottom": null,
            "display": null,
            "flex": null,
            "flex_flow": null,
            "grid_area": null,
            "grid_auto_columns": null,
            "grid_auto_flow": null,
            "grid_auto_rows": null,
            "grid_column": null,
            "grid_gap": null,
            "grid_row": null,
            "grid_template_areas": null,
            "grid_template_columns": null,
            "grid_template_rows": null,
            "height": null,
            "justify_content": null,
            "justify_items": null,
            "left": null,
            "margin": null,
            "max_height": null,
            "max_width": null,
            "min_height": null,
            "min_width": null,
            "object_fit": null,
            "object_position": null,
            "order": null,
            "overflow": null,
            "overflow_x": null,
            "overflow_y": null,
            "padding": null,
            "right": null,
            "top": null,
            "visibility": null,
            "width": null
          }
        },
        "d04183031d344bfd8ed8bed7eaa749ec": {
          "model_module": "@jupyter-widgets/base",
          "model_name": "LayoutModel",
          "model_module_version": "1.2.0",
          "state": {
            "_model_module": "@jupyter-widgets/base",
            "_model_module_version": "1.2.0",
            "_model_name": "LayoutModel",
            "_view_count": null,
            "_view_module": "@jupyter-widgets/base",
            "_view_module_version": "1.2.0",
            "_view_name": "LayoutView",
            "align_content": null,
            "align_items": null,
            "align_self": null,
            "border": null,
            "bottom": null,
            "display": null,
            "flex": null,
            "flex_flow": null,
            "grid_area": null,
            "grid_auto_columns": null,
            "grid_auto_flow": null,
            "grid_auto_rows": null,
            "grid_column": null,
            "grid_gap": null,
            "grid_row": null,
            "grid_template_areas": null,
            "grid_template_columns": null,
            "grid_template_rows": null,
            "height": null,
            "justify_content": null,
            "justify_items": null,
            "left": null,
            "margin": null,
            "max_height": null,
            "max_width": null,
            "min_height": null,
            "min_width": null,
            "object_fit": null,
            "object_position": null,
            "order": null,
            "overflow": null,
            "overflow_x": null,
            "overflow_y": null,
            "padding": null,
            "right": null,
            "top": null,
            "visibility": null,
            "width": null
          }
        },
        "9894a155f6fe4a2aa9d1507edceb6f5d": {
          "model_module": "@jupyter-widgets/controls",
          "model_name": "DescriptionStyleModel",
          "model_module_version": "1.5.0",
          "state": {
            "_model_module": "@jupyter-widgets/controls",
            "_model_module_version": "1.5.0",
            "_model_name": "DescriptionStyleModel",
            "_view_count": null,
            "_view_module": "@jupyter-widgets/base",
            "_view_module_version": "1.2.0",
            "_view_name": "StyleView",
            "description_width": ""
          }
        },
        "cea4c6a01b9d40f99f423456e1e983f4": {
          "model_module": "@jupyter-widgets/base",
          "model_name": "LayoutModel",
          "model_module_version": "1.2.0",
          "state": {
            "_model_module": "@jupyter-widgets/base",
            "_model_module_version": "1.2.0",
            "_model_name": "LayoutModel",
            "_view_count": null,
            "_view_module": "@jupyter-widgets/base",
            "_view_module_version": "1.2.0",
            "_view_name": "LayoutView",
            "align_content": null,
            "align_items": null,
            "align_self": null,
            "border": null,
            "bottom": null,
            "display": null,
            "flex": null,
            "flex_flow": null,
            "grid_area": null,
            "grid_auto_columns": null,
            "grid_auto_flow": null,
            "grid_auto_rows": null,
            "grid_column": null,
            "grid_gap": null,
            "grid_row": null,
            "grid_template_areas": null,
            "grid_template_columns": null,
            "grid_template_rows": null,
            "height": null,
            "justify_content": null,
            "justify_items": null,
            "left": null,
            "margin": null,
            "max_height": null,
            "max_width": null,
            "min_height": null,
            "min_width": null,
            "object_fit": null,
            "object_position": null,
            "order": null,
            "overflow": null,
            "overflow_x": null,
            "overflow_y": null,
            "padding": null,
            "right": null,
            "top": null,
            "visibility": null,
            "width": null
          }
        },
        "6cb90cbbaf8e46d2bcbafa8f228153dc": {
          "model_module": "@jupyter-widgets/controls",
          "model_name": "ProgressStyleModel",
          "model_module_version": "1.5.0",
          "state": {
            "_model_module": "@jupyter-widgets/controls",
            "_model_module_version": "1.5.0",
            "_model_name": "ProgressStyleModel",
            "_view_count": null,
            "_view_module": "@jupyter-widgets/base",
            "_view_module_version": "1.2.0",
            "_view_name": "StyleView",
            "bar_color": null,
            "description_width": ""
          }
        },
        "b16d135a25954278858b308128d86820": {
          "model_module": "@jupyter-widgets/base",
          "model_name": "LayoutModel",
          "model_module_version": "1.2.0",
          "state": {
            "_model_module": "@jupyter-widgets/base",
            "_model_module_version": "1.2.0",
            "_model_name": "LayoutModel",
            "_view_count": null,
            "_view_module": "@jupyter-widgets/base",
            "_view_module_version": "1.2.0",
            "_view_name": "LayoutView",
            "align_content": null,
            "align_items": null,
            "align_self": null,
            "border": null,
            "bottom": null,
            "display": null,
            "flex": null,
            "flex_flow": null,
            "grid_area": null,
            "grid_auto_columns": null,
            "grid_auto_flow": null,
            "grid_auto_rows": null,
            "grid_column": null,
            "grid_gap": null,
            "grid_row": null,
            "grid_template_areas": null,
            "grid_template_columns": null,
            "grid_template_rows": null,
            "height": null,
            "justify_content": null,
            "justify_items": null,
            "left": null,
            "margin": null,
            "max_height": null,
            "max_width": null,
            "min_height": null,
            "min_width": null,
            "object_fit": null,
            "object_position": null,
            "order": null,
            "overflow": null,
            "overflow_x": null,
            "overflow_y": null,
            "padding": null,
            "right": null,
            "top": null,
            "visibility": null,
            "width": null
          }
        },
        "05cc83367c7a42ec9a191763cefdaff0": {
          "model_module": "@jupyter-widgets/controls",
          "model_name": "DescriptionStyleModel",
          "model_module_version": "1.5.0",
          "state": {
            "_model_module": "@jupyter-widgets/controls",
            "_model_module_version": "1.5.0",
            "_model_name": "DescriptionStyleModel",
            "_view_count": null,
            "_view_module": "@jupyter-widgets/base",
            "_view_module_version": "1.2.0",
            "_view_name": "StyleView",
            "description_width": ""
          }
        },
        "89182419f4db4526ae622c2bc06b80c0": {
          "model_module": "@jupyter-widgets/controls",
          "model_name": "HBoxModel",
          "model_module_version": "1.5.0",
          "state": {
            "_dom_classes": [],
            "_model_module": "@jupyter-widgets/controls",
            "_model_module_version": "1.5.0",
            "_model_name": "HBoxModel",
            "_view_count": null,
            "_view_module": "@jupyter-widgets/controls",
            "_view_module_version": "1.5.0",
            "_view_name": "HBoxView",
            "box_style": "",
            "children": [
              "IPY_MODEL_f059370729b0411bb6c9ec10d087e4c0",
              "IPY_MODEL_03eae719535747a3981e55a94151d833",
              "IPY_MODEL_f6ebd3b9495f48bd93b72aeb651d109f"
            ],
            "layout": "IPY_MODEL_51ef33134d3b4d07b56b96018fd1fc41"
          }
        },
        "f059370729b0411bb6c9ec10d087e4c0": {
          "model_module": "@jupyter-widgets/controls",
          "model_name": "HTMLModel",
          "model_module_version": "1.5.0",
          "state": {
            "_dom_classes": [],
            "_model_module": "@jupyter-widgets/controls",
            "_model_module_version": "1.5.0",
            "_model_name": "HTMLModel",
            "_view_count": null,
            "_view_module": "@jupyter-widgets/controls",
            "_view_module_version": "1.5.0",
            "_view_name": "HTMLView",
            "description": "",
            "description_tooltip": null,
            "layout": "IPY_MODEL_2c794da1a0d94d6196a3d7fb50872e5b",
            "placeholder": "​",
            "style": "IPY_MODEL_cd7f7b2434b849e78d73bebab539d1d8",
            "value": "100%"
          }
        },
        "03eae719535747a3981e55a94151d833": {
          "model_module": "@jupyter-widgets/controls",
          "model_name": "FloatProgressModel",
          "model_module_version": "1.5.0",
          "state": {
            "_dom_classes": [],
            "_model_module": "@jupyter-widgets/controls",
            "_model_module_version": "1.5.0",
            "_model_name": "FloatProgressModel",
            "_view_count": null,
            "_view_module": "@jupyter-widgets/controls",
            "_view_module_version": "1.5.0",
            "_view_name": "ProgressView",
            "bar_style": "success",
            "description": "",
            "description_tooltip": null,
            "layout": "IPY_MODEL_c118baad111b4ad38da35b0c239a0ef7",
            "max": 28881,
            "min": 0,
            "orientation": "horizontal",
            "style": "IPY_MODEL_d61796edb8744bd483628e3d1b47b947",
            "value": 28881
          }
        },
        "f6ebd3b9495f48bd93b72aeb651d109f": {
          "model_module": "@jupyter-widgets/controls",
          "model_name": "HTMLModel",
          "model_module_version": "1.5.0",
          "state": {
            "_dom_classes": [],
            "_model_module": "@jupyter-widgets/controls",
            "_model_module_version": "1.5.0",
            "_model_name": "HTMLModel",
            "_view_count": null,
            "_view_module": "@jupyter-widgets/controls",
            "_view_module_version": "1.5.0",
            "_view_name": "HTMLView",
            "description": "",
            "description_tooltip": null,
            "layout": "IPY_MODEL_9b66d0e7d357439eab3800b0ab1a10f2",
            "placeholder": "​",
            "style": "IPY_MODEL_3714a01c465f47ef87a495162ed4003f",
            "value": " 28881/28881 [00:00&lt;00:00, 724352.81it/s]"
          }
        },
        "51ef33134d3b4d07b56b96018fd1fc41": {
          "model_module": "@jupyter-widgets/base",
          "model_name": "LayoutModel",
          "model_module_version": "1.2.0",
          "state": {
            "_model_module": "@jupyter-widgets/base",
            "_model_module_version": "1.2.0",
            "_model_name": "LayoutModel",
            "_view_count": null,
            "_view_module": "@jupyter-widgets/base",
            "_view_module_version": "1.2.0",
            "_view_name": "LayoutView",
            "align_content": null,
            "align_items": null,
            "align_self": null,
            "border": null,
            "bottom": null,
            "display": null,
            "flex": null,
            "flex_flow": null,
            "grid_area": null,
            "grid_auto_columns": null,
            "grid_auto_flow": null,
            "grid_auto_rows": null,
            "grid_column": null,
            "grid_gap": null,
            "grid_row": null,
            "grid_template_areas": null,
            "grid_template_columns": null,
            "grid_template_rows": null,
            "height": null,
            "justify_content": null,
            "justify_items": null,
            "left": null,
            "margin": null,
            "max_height": null,
            "max_width": null,
            "min_height": null,
            "min_width": null,
            "object_fit": null,
            "object_position": null,
            "order": null,
            "overflow": null,
            "overflow_x": null,
            "overflow_y": null,
            "padding": null,
            "right": null,
            "top": null,
            "visibility": null,
            "width": null
          }
        },
        "2c794da1a0d94d6196a3d7fb50872e5b": {
          "model_module": "@jupyter-widgets/base",
          "model_name": "LayoutModel",
          "model_module_version": "1.2.0",
          "state": {
            "_model_module": "@jupyter-widgets/base",
            "_model_module_version": "1.2.0",
            "_model_name": "LayoutModel",
            "_view_count": null,
            "_view_module": "@jupyter-widgets/base",
            "_view_module_version": "1.2.0",
            "_view_name": "LayoutView",
            "align_content": null,
            "align_items": null,
            "align_self": null,
            "border": null,
            "bottom": null,
            "display": null,
            "flex": null,
            "flex_flow": null,
            "grid_area": null,
            "grid_auto_columns": null,
            "grid_auto_flow": null,
            "grid_auto_rows": null,
            "grid_column": null,
            "grid_gap": null,
            "grid_row": null,
            "grid_template_areas": null,
            "grid_template_columns": null,
            "grid_template_rows": null,
            "height": null,
            "justify_content": null,
            "justify_items": null,
            "left": null,
            "margin": null,
            "max_height": null,
            "max_width": null,
            "min_height": null,
            "min_width": null,
            "object_fit": null,
            "object_position": null,
            "order": null,
            "overflow": null,
            "overflow_x": null,
            "overflow_y": null,
            "padding": null,
            "right": null,
            "top": null,
            "visibility": null,
            "width": null
          }
        },
        "cd7f7b2434b849e78d73bebab539d1d8": {
          "model_module": "@jupyter-widgets/controls",
          "model_name": "DescriptionStyleModel",
          "model_module_version": "1.5.0",
          "state": {
            "_model_module": "@jupyter-widgets/controls",
            "_model_module_version": "1.5.0",
            "_model_name": "DescriptionStyleModel",
            "_view_count": null,
            "_view_module": "@jupyter-widgets/base",
            "_view_module_version": "1.2.0",
            "_view_name": "StyleView",
            "description_width": ""
          }
        },
        "c118baad111b4ad38da35b0c239a0ef7": {
          "model_module": "@jupyter-widgets/base",
          "model_name": "LayoutModel",
          "model_module_version": "1.2.0",
          "state": {
            "_model_module": "@jupyter-widgets/base",
            "_model_module_version": "1.2.0",
            "_model_name": "LayoutModel",
            "_view_count": null,
            "_view_module": "@jupyter-widgets/base",
            "_view_module_version": "1.2.0",
            "_view_name": "LayoutView",
            "align_content": null,
            "align_items": null,
            "align_self": null,
            "border": null,
            "bottom": null,
            "display": null,
            "flex": null,
            "flex_flow": null,
            "grid_area": null,
            "grid_auto_columns": null,
            "grid_auto_flow": null,
            "grid_auto_rows": null,
            "grid_column": null,
            "grid_gap": null,
            "grid_row": null,
            "grid_template_areas": null,
            "grid_template_columns": null,
            "grid_template_rows": null,
            "height": null,
            "justify_content": null,
            "justify_items": null,
            "left": null,
            "margin": null,
            "max_height": null,
            "max_width": null,
            "min_height": null,
            "min_width": null,
            "object_fit": null,
            "object_position": null,
            "order": null,
            "overflow": null,
            "overflow_x": null,
            "overflow_y": null,
            "padding": null,
            "right": null,
            "top": null,
            "visibility": null,
            "width": null
          }
        },
        "d61796edb8744bd483628e3d1b47b947": {
          "model_module": "@jupyter-widgets/controls",
          "model_name": "ProgressStyleModel",
          "model_module_version": "1.5.0",
          "state": {
            "_model_module": "@jupyter-widgets/controls",
            "_model_module_version": "1.5.0",
            "_model_name": "ProgressStyleModel",
            "_view_count": null,
            "_view_module": "@jupyter-widgets/base",
            "_view_module_version": "1.2.0",
            "_view_name": "StyleView",
            "bar_color": null,
            "description_width": ""
          }
        },
        "9b66d0e7d357439eab3800b0ab1a10f2": {
          "model_module": "@jupyter-widgets/base",
          "model_name": "LayoutModel",
          "model_module_version": "1.2.0",
          "state": {
            "_model_module": "@jupyter-widgets/base",
            "_model_module_version": "1.2.0",
            "_model_name": "LayoutModel",
            "_view_count": null,
            "_view_module": "@jupyter-widgets/base",
            "_view_module_version": "1.2.0",
            "_view_name": "LayoutView",
            "align_content": null,
            "align_items": null,
            "align_self": null,
            "border": null,
            "bottom": null,
            "display": null,
            "flex": null,
            "flex_flow": null,
            "grid_area": null,
            "grid_auto_columns": null,
            "grid_auto_flow": null,
            "grid_auto_rows": null,
            "grid_column": null,
            "grid_gap": null,
            "grid_row": null,
            "grid_template_areas": null,
            "grid_template_columns": null,
            "grid_template_rows": null,
            "height": null,
            "justify_content": null,
            "justify_items": null,
            "left": null,
            "margin": null,
            "max_height": null,
            "max_width": null,
            "min_height": null,
            "min_width": null,
            "object_fit": null,
            "object_position": null,
            "order": null,
            "overflow": null,
            "overflow_x": null,
            "overflow_y": null,
            "padding": null,
            "right": null,
            "top": null,
            "visibility": null,
            "width": null
          }
        },
        "3714a01c465f47ef87a495162ed4003f": {
          "model_module": "@jupyter-widgets/controls",
          "model_name": "DescriptionStyleModel",
          "model_module_version": "1.5.0",
          "state": {
            "_model_module": "@jupyter-widgets/controls",
            "_model_module_version": "1.5.0",
            "_model_name": "DescriptionStyleModel",
            "_view_count": null,
            "_view_module": "@jupyter-widgets/base",
            "_view_module_version": "1.2.0",
            "_view_name": "StyleView",
            "description_width": ""
          }
        },
        "2e8d49f7625845018329379bb78523d6": {
          "model_module": "@jupyter-widgets/controls",
          "model_name": "HBoxModel",
          "model_module_version": "1.5.0",
          "state": {
            "_dom_classes": [],
            "_model_module": "@jupyter-widgets/controls",
            "_model_module_version": "1.5.0",
            "_model_name": "HBoxModel",
            "_view_count": null,
            "_view_module": "@jupyter-widgets/controls",
            "_view_module_version": "1.5.0",
            "_view_name": "HBoxView",
            "box_style": "",
            "children": [
              "IPY_MODEL_da64a5f9421b4887aa7eab0de4a58c62",
              "IPY_MODEL_48fab5fe15384d4f90e0a2ba0d9ab955",
              "IPY_MODEL_c9f610318ed74aefb07ce2a82922a029"
            ],
            "layout": "IPY_MODEL_4cd376d1ffe84810ab1d62cb735cf051"
          }
        },
        "da64a5f9421b4887aa7eab0de4a58c62": {
          "model_module": "@jupyter-widgets/controls",
          "model_name": "HTMLModel",
          "model_module_version": "1.5.0",
          "state": {
            "_dom_classes": [],
            "_model_module": "@jupyter-widgets/controls",
            "_model_module_version": "1.5.0",
            "_model_name": "HTMLModel",
            "_view_count": null,
            "_view_module": "@jupyter-widgets/controls",
            "_view_module_version": "1.5.0",
            "_view_name": "HTMLView",
            "description": "",
            "description_tooltip": null,
            "layout": "IPY_MODEL_59d0f30f2ab6456a94d4a09f4348c7b5",
            "placeholder": "​",
            "style": "IPY_MODEL_cda6f3fd3f494a67aec6c2bae53eccd9",
            "value": "100%"
          }
        },
        "48fab5fe15384d4f90e0a2ba0d9ab955": {
          "model_module": "@jupyter-widgets/controls",
          "model_name": "FloatProgressModel",
          "model_module_version": "1.5.0",
          "state": {
            "_dom_classes": [],
            "_model_module": "@jupyter-widgets/controls",
            "_model_module_version": "1.5.0",
            "_model_name": "FloatProgressModel",
            "_view_count": null,
            "_view_module": "@jupyter-widgets/controls",
            "_view_module_version": "1.5.0",
            "_view_name": "ProgressView",
            "bar_style": "success",
            "description": "",
            "description_tooltip": null,
            "layout": "IPY_MODEL_3bc6857cd9cb48ebb8836c49b2644077",
            "max": 1648877,
            "min": 0,
            "orientation": "horizontal",
            "style": "IPY_MODEL_126e06e443c1436cb19f195e609f584e",
            "value": 1648877
          }
        },
        "c9f610318ed74aefb07ce2a82922a029": {
          "model_module": "@jupyter-widgets/controls",
          "model_name": "HTMLModel",
          "model_module_version": "1.5.0",
          "state": {
            "_dom_classes": [],
            "_model_module": "@jupyter-widgets/controls",
            "_model_module_version": "1.5.0",
            "_model_name": "HTMLModel",
            "_view_count": null,
            "_view_module": "@jupyter-widgets/controls",
            "_view_module_version": "1.5.0",
            "_view_name": "HTMLView",
            "description": "",
            "description_tooltip": null,
            "layout": "IPY_MODEL_60a11e71a28c419483199effda7a9822",
            "placeholder": "​",
            "style": "IPY_MODEL_77296088c422400885758e0ab6ade7f7",
            "value": " 1648877/1648877 [00:00&lt;00:00, 34905826.46it/s]"
          }
        },
        "4cd376d1ffe84810ab1d62cb735cf051": {
          "model_module": "@jupyter-widgets/base",
          "model_name": "LayoutModel",
          "model_module_version": "1.2.0",
          "state": {
            "_model_module": "@jupyter-widgets/base",
            "_model_module_version": "1.2.0",
            "_model_name": "LayoutModel",
            "_view_count": null,
            "_view_module": "@jupyter-widgets/base",
            "_view_module_version": "1.2.0",
            "_view_name": "LayoutView",
            "align_content": null,
            "align_items": null,
            "align_self": null,
            "border": null,
            "bottom": null,
            "display": null,
            "flex": null,
            "flex_flow": null,
            "grid_area": null,
            "grid_auto_columns": null,
            "grid_auto_flow": null,
            "grid_auto_rows": null,
            "grid_column": null,
            "grid_gap": null,
            "grid_row": null,
            "grid_template_areas": null,
            "grid_template_columns": null,
            "grid_template_rows": null,
            "height": null,
            "justify_content": null,
            "justify_items": null,
            "left": null,
            "margin": null,
            "max_height": null,
            "max_width": null,
            "min_height": null,
            "min_width": null,
            "object_fit": null,
            "object_position": null,
            "order": null,
            "overflow": null,
            "overflow_x": null,
            "overflow_y": null,
            "padding": null,
            "right": null,
            "top": null,
            "visibility": null,
            "width": null
          }
        },
        "59d0f30f2ab6456a94d4a09f4348c7b5": {
          "model_module": "@jupyter-widgets/base",
          "model_name": "LayoutModel",
          "model_module_version": "1.2.0",
          "state": {
            "_model_module": "@jupyter-widgets/base",
            "_model_module_version": "1.2.0",
            "_model_name": "LayoutModel",
            "_view_count": null,
            "_view_module": "@jupyter-widgets/base",
            "_view_module_version": "1.2.0",
            "_view_name": "LayoutView",
            "align_content": null,
            "align_items": null,
            "align_self": null,
            "border": null,
            "bottom": null,
            "display": null,
            "flex": null,
            "flex_flow": null,
            "grid_area": null,
            "grid_auto_columns": null,
            "grid_auto_flow": null,
            "grid_auto_rows": null,
            "grid_column": null,
            "grid_gap": null,
            "grid_row": null,
            "grid_template_areas": null,
            "grid_template_columns": null,
            "grid_template_rows": null,
            "height": null,
            "justify_content": null,
            "justify_items": null,
            "left": null,
            "margin": null,
            "max_height": null,
            "max_width": null,
            "min_height": null,
            "min_width": null,
            "object_fit": null,
            "object_position": null,
            "order": null,
            "overflow": null,
            "overflow_x": null,
            "overflow_y": null,
            "padding": null,
            "right": null,
            "top": null,
            "visibility": null,
            "width": null
          }
        },
        "cda6f3fd3f494a67aec6c2bae53eccd9": {
          "model_module": "@jupyter-widgets/controls",
          "model_name": "DescriptionStyleModel",
          "model_module_version": "1.5.0",
          "state": {
            "_model_module": "@jupyter-widgets/controls",
            "_model_module_version": "1.5.0",
            "_model_name": "DescriptionStyleModel",
            "_view_count": null,
            "_view_module": "@jupyter-widgets/base",
            "_view_module_version": "1.2.0",
            "_view_name": "StyleView",
            "description_width": ""
          }
        },
        "3bc6857cd9cb48ebb8836c49b2644077": {
          "model_module": "@jupyter-widgets/base",
          "model_name": "LayoutModel",
          "model_module_version": "1.2.0",
          "state": {
            "_model_module": "@jupyter-widgets/base",
            "_model_module_version": "1.2.0",
            "_model_name": "LayoutModel",
            "_view_count": null,
            "_view_module": "@jupyter-widgets/base",
            "_view_module_version": "1.2.0",
            "_view_name": "LayoutView",
            "align_content": null,
            "align_items": null,
            "align_self": null,
            "border": null,
            "bottom": null,
            "display": null,
            "flex": null,
            "flex_flow": null,
            "grid_area": null,
            "grid_auto_columns": null,
            "grid_auto_flow": null,
            "grid_auto_rows": null,
            "grid_column": null,
            "grid_gap": null,
            "grid_row": null,
            "grid_template_areas": null,
            "grid_template_columns": null,
            "grid_template_rows": null,
            "height": null,
            "justify_content": null,
            "justify_items": null,
            "left": null,
            "margin": null,
            "max_height": null,
            "max_width": null,
            "min_height": null,
            "min_width": null,
            "object_fit": null,
            "object_position": null,
            "order": null,
            "overflow": null,
            "overflow_x": null,
            "overflow_y": null,
            "padding": null,
            "right": null,
            "top": null,
            "visibility": null,
            "width": null
          }
        },
        "126e06e443c1436cb19f195e609f584e": {
          "model_module": "@jupyter-widgets/controls",
          "model_name": "ProgressStyleModel",
          "model_module_version": "1.5.0",
          "state": {
            "_model_module": "@jupyter-widgets/controls",
            "_model_module_version": "1.5.0",
            "_model_name": "ProgressStyleModel",
            "_view_count": null,
            "_view_module": "@jupyter-widgets/base",
            "_view_module_version": "1.2.0",
            "_view_name": "StyleView",
            "bar_color": null,
            "description_width": ""
          }
        },
        "60a11e71a28c419483199effda7a9822": {
          "model_module": "@jupyter-widgets/base",
          "model_name": "LayoutModel",
          "model_module_version": "1.2.0",
          "state": {
            "_model_module": "@jupyter-widgets/base",
            "_model_module_version": "1.2.0",
            "_model_name": "LayoutModel",
            "_view_count": null,
            "_view_module": "@jupyter-widgets/base",
            "_view_module_version": "1.2.0",
            "_view_name": "LayoutView",
            "align_content": null,
            "align_items": null,
            "align_self": null,
            "border": null,
            "bottom": null,
            "display": null,
            "flex": null,
            "flex_flow": null,
            "grid_area": null,
            "grid_auto_columns": null,
            "grid_auto_flow": null,
            "grid_auto_rows": null,
            "grid_column": null,
            "grid_gap": null,
            "grid_row": null,
            "grid_template_areas": null,
            "grid_template_columns": null,
            "grid_template_rows": null,
            "height": null,
            "justify_content": null,
            "justify_items": null,
            "left": null,
            "margin": null,
            "max_height": null,
            "max_width": null,
            "min_height": null,
            "min_width": null,
            "object_fit": null,
            "object_position": null,
            "order": null,
            "overflow": null,
            "overflow_x": null,
            "overflow_y": null,
            "padding": null,
            "right": null,
            "top": null,
            "visibility": null,
            "width": null
          }
        },
        "77296088c422400885758e0ab6ade7f7": {
          "model_module": "@jupyter-widgets/controls",
          "model_name": "DescriptionStyleModel",
          "model_module_version": "1.5.0",
          "state": {
            "_model_module": "@jupyter-widgets/controls",
            "_model_module_version": "1.5.0",
            "_model_name": "DescriptionStyleModel",
            "_view_count": null,
            "_view_module": "@jupyter-widgets/base",
            "_view_module_version": "1.2.0",
            "_view_name": "StyleView",
            "description_width": ""
          }
        },
        "a48761af967d48b0bc1964ef3d63b0ca": {
          "model_module": "@jupyter-widgets/controls",
          "model_name": "HBoxModel",
          "model_module_version": "1.5.0",
          "state": {
            "_dom_classes": [],
            "_model_module": "@jupyter-widgets/controls",
            "_model_module_version": "1.5.0",
            "_model_name": "HBoxModel",
            "_view_count": null,
            "_view_module": "@jupyter-widgets/controls",
            "_view_module_version": "1.5.0",
            "_view_name": "HBoxView",
            "box_style": "",
            "children": [
              "IPY_MODEL_3b4fe24a2a114499a83a769a296b8656",
              "IPY_MODEL_0e61600141064eefaddbff23f7d3a6f9",
              "IPY_MODEL_3f4323832ff140b4b673f2755a105121"
            ],
            "layout": "IPY_MODEL_337b222cf7c34b5f8942b3056e705313"
          }
        },
        "3b4fe24a2a114499a83a769a296b8656": {
          "model_module": "@jupyter-widgets/controls",
          "model_name": "HTMLModel",
          "model_module_version": "1.5.0",
          "state": {
            "_dom_classes": [],
            "_model_module": "@jupyter-widgets/controls",
            "_model_module_version": "1.5.0",
            "_model_name": "HTMLModel",
            "_view_count": null,
            "_view_module": "@jupyter-widgets/controls",
            "_view_module_version": "1.5.0",
            "_view_name": "HTMLView",
            "description": "",
            "description_tooltip": null,
            "layout": "IPY_MODEL_5340eb06abd940fda8dc04fb0d3f3b4f",
            "placeholder": "​",
            "style": "IPY_MODEL_81692fb4ad62462fa76a4672371443f0",
            "value": "100%"
          }
        },
        "0e61600141064eefaddbff23f7d3a6f9": {
          "model_module": "@jupyter-widgets/controls",
          "model_name": "FloatProgressModel",
          "model_module_version": "1.5.0",
          "state": {
            "_dom_classes": [],
            "_model_module": "@jupyter-widgets/controls",
            "_model_module_version": "1.5.0",
            "_model_name": "FloatProgressModel",
            "_view_count": null,
            "_view_module": "@jupyter-widgets/controls",
            "_view_module_version": "1.5.0",
            "_view_name": "ProgressView",
            "bar_style": "success",
            "description": "",
            "description_tooltip": null,
            "layout": "IPY_MODEL_7d9cbd4d8dcd4857958b61d17690f76e",
            "max": 4542,
            "min": 0,
            "orientation": "horizontal",
            "style": "IPY_MODEL_6606793a2ea5459398af702863671cb5",
            "value": 4542
          }
        },
        "3f4323832ff140b4b673f2755a105121": {
          "model_module": "@jupyter-widgets/controls",
          "model_name": "HTMLModel",
          "model_module_version": "1.5.0",
          "state": {
            "_dom_classes": [],
            "_model_module": "@jupyter-widgets/controls",
            "_model_module_version": "1.5.0",
            "_model_name": "HTMLModel",
            "_view_count": null,
            "_view_module": "@jupyter-widgets/controls",
            "_view_module_version": "1.5.0",
            "_view_name": "HTMLView",
            "description": "",
            "description_tooltip": null,
            "layout": "IPY_MODEL_db4cd6bfc78f44d08d5d6bddf261d02c",
            "placeholder": "​",
            "style": "IPY_MODEL_956662cadd794f048339f7c880b4a69c",
            "value": " 4542/4542 [00:00&lt;00:00, 51938.94it/s]"
          }
        },
        "337b222cf7c34b5f8942b3056e705313": {
          "model_module": "@jupyter-widgets/base",
          "model_name": "LayoutModel",
          "model_module_version": "1.2.0",
          "state": {
            "_model_module": "@jupyter-widgets/base",
            "_model_module_version": "1.2.0",
            "_model_name": "LayoutModel",
            "_view_count": null,
            "_view_module": "@jupyter-widgets/base",
            "_view_module_version": "1.2.0",
            "_view_name": "LayoutView",
            "align_content": null,
            "align_items": null,
            "align_self": null,
            "border": null,
            "bottom": null,
            "display": null,
            "flex": null,
            "flex_flow": null,
            "grid_area": null,
            "grid_auto_columns": null,
            "grid_auto_flow": null,
            "grid_auto_rows": null,
            "grid_column": null,
            "grid_gap": null,
            "grid_row": null,
            "grid_template_areas": null,
            "grid_template_columns": null,
            "grid_template_rows": null,
            "height": null,
            "justify_content": null,
            "justify_items": null,
            "left": null,
            "margin": null,
            "max_height": null,
            "max_width": null,
            "min_height": null,
            "min_width": null,
            "object_fit": null,
            "object_position": null,
            "order": null,
            "overflow": null,
            "overflow_x": null,
            "overflow_y": null,
            "padding": null,
            "right": null,
            "top": null,
            "visibility": null,
            "width": null
          }
        },
        "5340eb06abd940fda8dc04fb0d3f3b4f": {
          "model_module": "@jupyter-widgets/base",
          "model_name": "LayoutModel",
          "model_module_version": "1.2.0",
          "state": {
            "_model_module": "@jupyter-widgets/base",
            "_model_module_version": "1.2.0",
            "_model_name": "LayoutModel",
            "_view_count": null,
            "_view_module": "@jupyter-widgets/base",
            "_view_module_version": "1.2.0",
            "_view_name": "LayoutView",
            "align_content": null,
            "align_items": null,
            "align_self": null,
            "border": null,
            "bottom": null,
            "display": null,
            "flex": null,
            "flex_flow": null,
            "grid_area": null,
            "grid_auto_columns": null,
            "grid_auto_flow": null,
            "grid_auto_rows": null,
            "grid_column": null,
            "grid_gap": null,
            "grid_row": null,
            "grid_template_areas": null,
            "grid_template_columns": null,
            "grid_template_rows": null,
            "height": null,
            "justify_content": null,
            "justify_items": null,
            "left": null,
            "margin": null,
            "max_height": null,
            "max_width": null,
            "min_height": null,
            "min_width": null,
            "object_fit": null,
            "object_position": null,
            "order": null,
            "overflow": null,
            "overflow_x": null,
            "overflow_y": null,
            "padding": null,
            "right": null,
            "top": null,
            "visibility": null,
            "width": null
          }
        },
        "81692fb4ad62462fa76a4672371443f0": {
          "model_module": "@jupyter-widgets/controls",
          "model_name": "DescriptionStyleModel",
          "model_module_version": "1.5.0",
          "state": {
            "_model_module": "@jupyter-widgets/controls",
            "_model_module_version": "1.5.0",
            "_model_name": "DescriptionStyleModel",
            "_view_count": null,
            "_view_module": "@jupyter-widgets/base",
            "_view_module_version": "1.2.0",
            "_view_name": "StyleView",
            "description_width": ""
          }
        },
        "7d9cbd4d8dcd4857958b61d17690f76e": {
          "model_module": "@jupyter-widgets/base",
          "model_name": "LayoutModel",
          "model_module_version": "1.2.0",
          "state": {
            "_model_module": "@jupyter-widgets/base",
            "_model_module_version": "1.2.0",
            "_model_name": "LayoutModel",
            "_view_count": null,
            "_view_module": "@jupyter-widgets/base",
            "_view_module_version": "1.2.0",
            "_view_name": "LayoutView",
            "align_content": null,
            "align_items": null,
            "align_self": null,
            "border": null,
            "bottom": null,
            "display": null,
            "flex": null,
            "flex_flow": null,
            "grid_area": null,
            "grid_auto_columns": null,
            "grid_auto_flow": null,
            "grid_auto_rows": null,
            "grid_column": null,
            "grid_gap": null,
            "grid_row": null,
            "grid_template_areas": null,
            "grid_template_columns": null,
            "grid_template_rows": null,
            "height": null,
            "justify_content": null,
            "justify_items": null,
            "left": null,
            "margin": null,
            "max_height": null,
            "max_width": null,
            "min_height": null,
            "min_width": null,
            "object_fit": null,
            "object_position": null,
            "order": null,
            "overflow": null,
            "overflow_x": null,
            "overflow_y": null,
            "padding": null,
            "right": null,
            "top": null,
            "visibility": null,
            "width": null
          }
        },
        "6606793a2ea5459398af702863671cb5": {
          "model_module": "@jupyter-widgets/controls",
          "model_name": "ProgressStyleModel",
          "model_module_version": "1.5.0",
          "state": {
            "_model_module": "@jupyter-widgets/controls",
            "_model_module_version": "1.5.0",
            "_model_name": "ProgressStyleModel",
            "_view_count": null,
            "_view_module": "@jupyter-widgets/base",
            "_view_module_version": "1.2.0",
            "_view_name": "StyleView",
            "bar_color": null,
            "description_width": ""
          }
        },
        "db4cd6bfc78f44d08d5d6bddf261d02c": {
          "model_module": "@jupyter-widgets/base",
          "model_name": "LayoutModel",
          "model_module_version": "1.2.0",
          "state": {
            "_model_module": "@jupyter-widgets/base",
            "_model_module_version": "1.2.0",
            "_model_name": "LayoutModel",
            "_view_count": null,
            "_view_module": "@jupyter-widgets/base",
            "_view_module_version": "1.2.0",
            "_view_name": "LayoutView",
            "align_content": null,
            "align_items": null,
            "align_self": null,
            "border": null,
            "bottom": null,
            "display": null,
            "flex": null,
            "flex_flow": null,
            "grid_area": null,
            "grid_auto_columns": null,
            "grid_auto_flow": null,
            "grid_auto_rows": null,
            "grid_column": null,
            "grid_gap": null,
            "grid_row": null,
            "grid_template_areas": null,
            "grid_template_columns": null,
            "grid_template_rows": null,
            "height": null,
            "justify_content": null,
            "justify_items": null,
            "left": null,
            "margin": null,
            "max_height": null,
            "max_width": null,
            "min_height": null,
            "min_width": null,
            "object_fit": null,
            "object_position": null,
            "order": null,
            "overflow": null,
            "overflow_x": null,
            "overflow_y": null,
            "padding": null,
            "right": null,
            "top": null,
            "visibility": null,
            "width": null
          }
        },
        "956662cadd794f048339f7c880b4a69c": {
          "model_module": "@jupyter-widgets/controls",
          "model_name": "DescriptionStyleModel",
          "model_module_version": "1.5.0",
          "state": {
            "_model_module": "@jupyter-widgets/controls",
            "_model_module_version": "1.5.0",
            "_model_name": "DescriptionStyleModel",
            "_view_count": null,
            "_view_module": "@jupyter-widgets/base",
            "_view_module_version": "1.2.0",
            "_view_name": "StyleView",
            "description_width": ""
          }
        }
      }
    }
  },
  "cells": [
    {
      "cell_type": "markdown",
      "source": [
        "# 导入需要的库函数"
      ],
      "metadata": {
        "id": "NgS8pFUviAGC"
      }
    },
    {
      "cell_type": "code",
      "source": [
        "import torch\n",
        "import numpy as np\n",
        "import matplotlib.pyplot as plt\n",
        "import torch.utils.data as Data\n",
        "from torch.nn import init\n",
        "from torch import nn\n",
        "import torchvision  \n",
        "import torchvision.transforms as transforms \n",
        "import copy"
      ],
      "metadata": {
        "id": "WgdW7ldnh_Uo"
      },
      "execution_count": 3,
      "outputs": []
    },
    {
      "cell_type": "markdown",
      "source": [
        "# 定义需要的工具函数"
      ],
      "metadata": {
        "id": "kMfe9FYas5WB"
      }
    },
    {
      "cell_type": "code",
      "source": [
        "def Draw_Curve(*args,xlabel = \"epoch\",ylabel = \"loss\"):\n",
        "  for i in args:\n",
        "    x = np.linspace(0,len(i[0]),len(i[0]))\n",
        "    plt.plot(x,i[0],label=i[1],linewidth=1.5)  \n",
        "  plt.xlabel(xlabel)\n",
        "  plt.ylabel(ylabel)\n",
        "  plt.legend()\n",
        "  plt.show()\n",
        "\n",
        "def evaluate_accuracy(data_iter,net,loss_func):\n",
        "  acc_sum,n,test_l_sum,c= 0.0,0,0.0,0\n",
        "  for X,y in data_iter:\n",
        "    acc_sum += (net(X).argmax(dim = 1) == y).sum().item()\n",
        "    l = loss_func(net(X),y)\n",
        "    test_l_sum += l.sum().item()\n",
        "    c += 1\n",
        "    n += y.shape[0]\n",
        "  return acc_sum/n,test_l_sum/c\n"
      ],
      "metadata": {
        "id": "eIigHUbBs9gu"
      },
      "execution_count": 4,
      "outputs": []
    },
    {
      "cell_type": "markdown",
      "source": [
        "# 数据集生成"
      ],
      "metadata": {
        "id": "htr_-1J1gusR"
      }
    },
    {
      "cell_type": "markdown",
      "source": [
        "## 生成回归数据集"
      ],
      "metadata": {
        "id": "06Cdj8R0hIBo"
      }
    },
    {
      "cell_type": "code",
      "source": [
        "#设置维度500，训练集7000，测试集3000\n",
        "num_inputs_regression = 500\n",
        "num_train_regression = 7000\n",
        "num_test_regression = 3000\n",
        "#生成回归函数\n",
        "true_w_regression = torch.ones(num_inputs_regression,1)*0.0056\n",
        "true_b_regression = 0.028\n",
        "#生成数据\n",
        "features_regression = torch.randn((num_train_regression+num_test_regression,num_inputs_regression))\n",
        "labels_regression = torch.matmul(features_regression,true_w_regression)+true_b_regression\n",
        "labels_regression += torch.tensor(np.random.normal(0,0.01,size=labels_regression.size()),dtype = torch.float)\n",
        "train_features_regression,test_features_regression = features_regression[:num_train_regression,:],features_regression[num_train_regression:,:]\n",
        "train_labels_regression,test_labels_regression = labels_regression[:num_train_regression],labels_regression[num_train_regression:]"
      ],
      "metadata": {
        "id": "nxD9AUd5h5_W"
      },
      "execution_count": 5,
      "outputs": []
    },
    {
      "cell_type": "markdown",
      "source": [
        "## 生成二分类数据集"
      ],
      "metadata": {
        "id": "ANjxXdDShS22"
      }
    },
    {
      "cell_type": "code",
      "execution_count": 6,
      "metadata": {
        "id": "ArPE_-Pogdwr",
        "colab": {
          "base_uri": "https://localhost:8080/"
        },
        "outputId": "6d0a4a9d-7b06-434d-f383-088b3510d990"
      },
      "outputs": [
        {
          "output_type": "stream",
          "name": "stdout",
          "text": [
            "torch.Size([14000, 200]) torch.Size([14000, 1]) torch.Size([6000, 200]) torch.Size([6000, 1])\n"
          ]
        }
      ],
      "source": [
        "#设置维度200，每一类10000个数据，训练集7000，测试集3000，服从均值互为相反数且方差相同的正态分布\n",
        "num_inputs_binary = 200\n",
        "num_train_binary = 7000\n",
        "num_test_binary = 3000\n",
        "\n",
        "#生成标签为0的数据\n",
        "features_binary_0 = torch.normal(-3,1,(num_train_binary+num_test_binary,num_inputs_binary),dtype = torch.float)\n",
        "labels_binary_0 = torch.zeros(10000,1)\n",
        "#标签为0的数据集划分\n",
        "train_features_binary_0 = features_binary_0[:num_train_binary]\n",
        "train_labels_binary_0 = labels_binary_0[:num_train_binary]\n",
        "test_features_binary_0 = features_binary_0[num_train_binary:]\n",
        "test_labels_binary_0 = labels_binary_0[num_train_binary:]\n",
        "\n",
        "#生成标签为1的数据\n",
        "features_binary_1 = torch.normal(3,1,(num_train_binary+num_test_binary,num_inputs_binary),dtype = torch.float)\n",
        "labels_binary_1 = torch.ones(10000,1)\n",
        "#标签为0的数据集划分\n",
        "train_features_binary_1 = features_binary_1[:num_train_binary]\n",
        "train_labels_binary_1 = labels_binary_1[:num_train_binary]\n",
        "test_features_binary_1 = features_binary_1[num_train_binary:]\n",
        "test_labels_binary_1 = labels_binary_1[num_train_binary:]\n",
        "#合并数据\n",
        "train_features_binary = torch.cat((train_features_binary_0,train_features_binary_1),0)\n",
        "train_labels_binary = torch.cat((train_labels_binary_0,train_labels_binary_1),0)\n",
        "test_features_binary = torch.cat((test_features_binary_0,test_features_binary_1),0)\n",
        "test_labels_binary = torch.cat((test_labels_binary_0,test_labels_binary_1),0)\n",
        "print(train_features_binary.shape,train_labels_binary.shape,test_features_binary.shape,test_labels_binary.shape)\n"
      ]
    },
    {
      "cell_type": "markdown",
      "source": [
        "## 下载MNIST数据集"
      ],
      "metadata": {
        "id": "OCMCaFe-hSpX"
      }
    },
    {
      "cell_type": "code",
      "source": [
        "mnist_train = torchvision.datasets.MNIST(root='/content/sample_data', train=True, download=True, transform=transforms.ToTensor())\n",
        "mnist_test = torchvision.datasets.MNIST(root='/content/sample_data', train=False, download=True, transform=transforms.ToTensor())"
      ],
      "metadata": {
        "id": "jmqYRimXq9bj",
        "colab": {
          "base_uri": "https://localhost:8080/",
          "height": 423,
          "referenced_widgets": [
            "8de5bb73d78c425980fe9222faf3c0e2",
            "4a44973ffb3349deb1b429962dd241b3",
            "d4aea1a45e084865b3a8fd2c1b57f2ca",
            "38c65487e8154cc19ff55f755cd3cf7e",
            "8a563f98cf6a44d88ee222f20b2d60d4",
            "d04183031d344bfd8ed8bed7eaa749ec",
            "9894a155f6fe4a2aa9d1507edceb6f5d",
            "cea4c6a01b9d40f99f423456e1e983f4",
            "6cb90cbbaf8e46d2bcbafa8f228153dc",
            "b16d135a25954278858b308128d86820",
            "05cc83367c7a42ec9a191763cefdaff0",
            "89182419f4db4526ae622c2bc06b80c0",
            "f059370729b0411bb6c9ec10d087e4c0",
            "03eae719535747a3981e55a94151d833",
            "f6ebd3b9495f48bd93b72aeb651d109f",
            "51ef33134d3b4d07b56b96018fd1fc41",
            "2c794da1a0d94d6196a3d7fb50872e5b",
            "cd7f7b2434b849e78d73bebab539d1d8",
            "c118baad111b4ad38da35b0c239a0ef7",
            "d61796edb8744bd483628e3d1b47b947",
            "9b66d0e7d357439eab3800b0ab1a10f2",
            "3714a01c465f47ef87a495162ed4003f",
            "2e8d49f7625845018329379bb78523d6",
            "da64a5f9421b4887aa7eab0de4a58c62",
            "48fab5fe15384d4f90e0a2ba0d9ab955",
            "c9f610318ed74aefb07ce2a82922a029",
            "4cd376d1ffe84810ab1d62cb735cf051",
            "59d0f30f2ab6456a94d4a09f4348c7b5",
            "cda6f3fd3f494a67aec6c2bae53eccd9",
            "3bc6857cd9cb48ebb8836c49b2644077",
            "126e06e443c1436cb19f195e609f584e",
            "60a11e71a28c419483199effda7a9822",
            "77296088c422400885758e0ab6ade7f7",
            "a48761af967d48b0bc1964ef3d63b0ca",
            "3b4fe24a2a114499a83a769a296b8656",
            "0e61600141064eefaddbff23f7d3a6f9",
            "3f4323832ff140b4b673f2755a105121",
            "337b222cf7c34b5f8942b3056e705313",
            "5340eb06abd940fda8dc04fb0d3f3b4f",
            "81692fb4ad62462fa76a4672371443f0",
            "7d9cbd4d8dcd4857958b61d17690f76e",
            "6606793a2ea5459398af702863671cb5",
            "db4cd6bfc78f44d08d5d6bddf261d02c",
            "956662cadd794f048339f7c880b4a69c"
          ]
        },
        "outputId": "1661b5e3-9c2f-432c-ce7b-c9dc96458df4"
      },
      "execution_count": 7,
      "outputs": [
        {
          "output_type": "stream",
          "name": "stdout",
          "text": [
            "Downloading http://yann.lecun.com/exdb/mnist/train-images-idx3-ubyte.gz\n",
            "Downloading http://yann.lecun.com/exdb/mnist/train-images-idx3-ubyte.gz to /content/sample_data/MNIST/raw/train-images-idx3-ubyte.gz\n"
          ]
        },
        {
          "output_type": "display_data",
          "data": {
            "text/plain": [
              "  0%|          | 0/9912422 [00:00<?, ?it/s]"
            ],
            "application/vnd.jupyter.widget-view+json": {
              "version_major": 2,
              "version_minor": 0,
              "model_id": "8de5bb73d78c425980fe9222faf3c0e2"
            }
          },
          "metadata": {}
        },
        {
          "output_type": "stream",
          "name": "stdout",
          "text": [
            "Extracting /content/sample_data/MNIST/raw/train-images-idx3-ubyte.gz to /content/sample_data/MNIST/raw\n",
            "\n",
            "Downloading http://yann.lecun.com/exdb/mnist/train-labels-idx1-ubyte.gz\n",
            "Downloading http://yann.lecun.com/exdb/mnist/train-labels-idx1-ubyte.gz to /content/sample_data/MNIST/raw/train-labels-idx1-ubyte.gz\n"
          ]
        },
        {
          "output_type": "display_data",
          "data": {
            "text/plain": [
              "  0%|          | 0/28881 [00:00<?, ?it/s]"
            ],
            "application/vnd.jupyter.widget-view+json": {
              "version_major": 2,
              "version_minor": 0,
              "model_id": "89182419f4db4526ae622c2bc06b80c0"
            }
          },
          "metadata": {}
        },
        {
          "output_type": "stream",
          "name": "stdout",
          "text": [
            "Extracting /content/sample_data/MNIST/raw/train-labels-idx1-ubyte.gz to /content/sample_data/MNIST/raw\n",
            "\n",
            "Downloading http://yann.lecun.com/exdb/mnist/t10k-images-idx3-ubyte.gz\n",
            "Downloading http://yann.lecun.com/exdb/mnist/t10k-images-idx3-ubyte.gz to /content/sample_data/MNIST/raw/t10k-images-idx3-ubyte.gz\n"
          ]
        },
        {
          "output_type": "display_data",
          "data": {
            "text/plain": [
              "  0%|          | 0/1648877 [00:00<?, ?it/s]"
            ],
            "application/vnd.jupyter.widget-view+json": {
              "version_major": 2,
              "version_minor": 0,
              "model_id": "2e8d49f7625845018329379bb78523d6"
            }
          },
          "metadata": {}
        },
        {
          "output_type": "stream",
          "name": "stdout",
          "text": [
            "Extracting /content/sample_data/MNIST/raw/t10k-images-idx3-ubyte.gz to /content/sample_data/MNIST/raw\n",
            "\n",
            "Downloading http://yann.lecun.com/exdb/mnist/t10k-labels-idx1-ubyte.gz\n",
            "Downloading http://yann.lecun.com/exdb/mnist/t10k-labels-idx1-ubyte.gz to /content/sample_data/MNIST/raw/t10k-labels-idx1-ubyte.gz\n"
          ]
        },
        {
          "output_type": "display_data",
          "data": {
            "text/plain": [
              "  0%|          | 0/4542 [00:00<?, ?it/s]"
            ],
            "application/vnd.jupyter.widget-view+json": {
              "version_major": 2,
              "version_minor": 0,
              "model_id": "a48761af967d48b0bc1964ef3d63b0ca"
            }
          },
          "metadata": {}
        },
        {
          "output_type": "stream",
          "name": "stdout",
          "text": [
            "Extracting /content/sample_data/MNIST/raw/t10k-labels-idx1-ubyte.gz to /content/sample_data/MNIST/raw\n",
            "\n"
          ]
        }
      ]
    },
    {
      "cell_type": "markdown",
      "source": [
        "# 手动实现回归"
      ],
      "metadata": {
        "id": "q3qKcUkKsfqj"
      }
    },
    {
      "cell_type": "markdown",
      "source": [
        "## 数据加载"
      ],
      "metadata": {
        "id": "jU27eE0ksfTV"
      }
    },
    {
      "cell_type": "code",
      "source": [
        "batch_size = 64\n",
        "dataset = Data.TensorDataset(train_features_regression, train_labels_regression)\n",
        "train_reg_iter = Data.DataLoader(dataset=dataset,batch_size=batch_size,shuffle=True,num_workers=0,)\n",
        "dataset = Data.TensorDataset(test_features_regression, test_labels_regression)\n",
        "test_reg_iter = Data.DataLoader(dataset=dataset,batch_size=batch_size,shuffle=True,num_workers=0,)"
      ],
      "metadata": {
        "id": "FuV8zEcjsnl5"
      },
      "execution_count": 8,
      "outputs": []
    },
    {
      "cell_type": "markdown",
      "source": [
        "## 参数初始化"
      ],
      "metadata": {
        "id": "-pLIc5ycvg7K"
      }
    },
    {
      "cell_type": "code",
      "source": [
        "num_outputs_regression,num_hiddens_regression = 1,128\n",
        "\n",
        "W1 = torch.tensor(np.random.normal(0,0.01,(num_hiddens_regression,num_inputs_regression)),dtype = torch.float)\n",
        "b1 = torch.zeros(1,dtype = torch.float)\n",
        "W2 = torch.tensor(np.random.normal(0,0.01,(num_outputs_regression,num_hiddens_regression)),dtype = torch.float)\n",
        "b2 = torch.zeros(1,dtype = torch.float)\n",
        "\n",
        "params = [W1,b1,W2,b2]\n",
        "\n",
        "for param in params:\n",
        "  param.requires_grad_(requires_grad = True)"
      ],
      "metadata": {
        "id": "PqUsEJApvhcc"
      },
      "execution_count": 9,
      "outputs": []
    },
    {
      "cell_type": "markdown",
      "source": [
        "## 定义损失函数和优化器"
      ],
      "metadata": {
        "id": "Gpetw8sVxbBG"
      }
    },
    {
      "cell_type": "code",
      "source": [
        "# def squared_loss(y_hat,y):\n",
        "#   return (y_hat-y.view(y_hat.size()))**2/2\n",
        "loss = torch.nn.MSELoss()\n",
        "def SGD(paras,lr,batch_size):\n",
        "  for param in params:\n",
        "    param.data -= lr * param.grad/batch_size"
      ],
      "metadata": {
        "id": "oKH5hCKtxbdC"
      },
      "execution_count": 10,
      "outputs": []
    },
    {
      "cell_type": "markdown",
      "source": [
        "## 定义激活函数和网络模型"
      ],
      "metadata": {
        "id": "ZqDwr7d_xb-N"
      }
    },
    {
      "cell_type": "code",
      "source": [
        "def relu(x):\n",
        "  x = torch.max(input=x,other=torch.tensor(0.0))\n",
        "  return x\n",
        "\n",
        "def net_reg(X):\n",
        "  X = X.view((-1,num_inputs_regression))\n",
        "  H = relu(torch.matmul(X,W1.t())+b1)\n",
        "  return torch.matmul(H,W2.t())+b2"
      ],
      "metadata": {
        "id": "Sj6kkREQxcGG"
      },
      "execution_count": 11,
      "outputs": []
    },
    {
      "cell_type": "markdown",
      "source": [
        "## 定义训练函数"
      ],
      "metadata": {
        "id": "83AK1-Loz_VR"
      }
    },
    {
      "cell_type": "code",
      "source": [
        "#定义模型训练函数\n",
        "def train_reg(net,train_iter,test_iter,loss,num_epochs,batch_size,params=None,lr=None,optimizer=None):\n",
        "  train_loss,train_acc = [],[]\n",
        "  test_loss,test_acc = [],[]\n",
        "  for epoch in range(num_epochs): # 训练模型一共需要num_epochs个迭代周期\n",
        "    train_l_sum, train_acc_sum, n, c = 0.0, 0.0, 0, 0\n",
        "    #在每一个迭代周期中，会使用训练数据集中所有样本一次\n",
        "    for X, y in train_iter: # x和y分别是小批量样本的特征和标签\n",
        "      y_hat = net(X)\n",
        "      l = loss(y_hat, y.view(-1,1)) # l是有关小批量X和y的损失\n",
        "      l.backward() # 小批量的损失对模型参数求梯度\n",
        "      optimizer(params,lr,batch_size)\n",
        "      for param in params:\n",
        "        param.grad.data.zero_()\n",
        "      train_l_sum += l.item()\n",
        "      # train_acc_sum += (y_hat.argmax(dim=1) == y).sum().item()\n",
        "      # n += y.shape[0]\n",
        "      c += 1\n",
        "    # print(train_l_sum,train_acc_sum)\n",
        "    # train_loss.append(train_l_sum/c)\n",
        "    # train_acc.append(train_acc_sum/n)\n",
        "    # test_acce,test_losse = evaluate_accuracy(test_iter,net,loss)\n",
        "    # test_loss.append(test_losse)\n",
        "    # test_acc.append(test_acce)\n",
        "    train_labels = train_labels_regression.view(-1,1)\n",
        "    test_labels = test_labels_regression.view(-1,1)\n",
        "    #detach().numpy()待转换类型的PyTorch Tensor变量带有梯度，直接将其转换为numpy数据将破坏计算图，\n",
        "    #因此numpy拒绝进行数据转换，实际上这是对开发者的一种提醒。如果自己在转换数据时不需要保留梯度信息，可以在变量转换之前添加detach()调用。\n",
        "    train_loss.append(loss(net(train_features_regression),train_labels).detach().numpy())\n",
        "    test_loss.append(loss(net(test_features_regression),test_labels).detach().numpy())\n",
        "    print('epoch %d, train_loss %.4f, test_loss %.4f'%(epoch+1,train_loss[epoch],test_loss[epoch]))\n",
        "  return train_loss,test_loss\n"
      ],
      "metadata": {
        "id": "SRsiC6vzz_mV"
      },
      "execution_count": 12,
      "outputs": []
    },
    {
      "cell_type": "markdown",
      "source": [
        "## 运行训练"
      ],
      "metadata": {
        "id": "GETT2ZN37Q8W"
      }
    },
    {
      "cell_type": "code",
      "source": [
        "lr = 0.01\n",
        "num_epochs = 20\n",
        "train_loss_reg,test_loss_reg = train_reg(net_reg,train_reg_iter,test_reg_iter,loss,num_epochs,batch_size,params,lr,SGD)\n"
      ],
      "metadata": {
        "id": "BSxvRuvr7RPR",
        "colab": {
          "base_uri": "https://localhost:8080/"
        },
        "outputId": "72e89637-5d15-430b-d4ff-de2a924a1d58"
      },
      "execution_count": 13,
      "outputs": [
        {
          "output_type": "stream",
          "name": "stdout",
          "text": [
            "epoch 1, train_loss 0.0173, test_loss 0.0173\n",
            "epoch 2, train_loss 0.0172, test_loss 0.0172\n",
            "epoch 3, train_loss 0.0171, test_loss 0.0171\n",
            "epoch 4, train_loss 0.0170, test_loss 0.0171\n",
            "epoch 5, train_loss 0.0170, test_loss 0.0170\n",
            "epoch 6, train_loss 0.0169, test_loss 0.0169\n",
            "epoch 7, train_loss 0.0168, test_loss 0.0169\n",
            "epoch 8, train_loss 0.0168, test_loss 0.0168\n",
            "epoch 9, train_loss 0.0167, test_loss 0.0168\n",
            "epoch 10, train_loss 0.0167, test_loss 0.0168\n",
            "epoch 11, train_loss 0.0167, test_loss 0.0167\n",
            "epoch 12, train_loss 0.0166, test_loss 0.0167\n",
            "epoch 13, train_loss 0.0166, test_loss 0.0167\n",
            "epoch 14, train_loss 0.0166, test_loss 0.0166\n",
            "epoch 15, train_loss 0.0166, test_loss 0.0166\n",
            "epoch 16, train_loss 0.0165, test_loss 0.0166\n",
            "epoch 17, train_loss 0.0165, test_loss 0.0166\n",
            "epoch 18, train_loss 0.0165, test_loss 0.0166\n",
            "epoch 19, train_loss 0.0165, test_loss 0.0166\n",
            "epoch 20, train_loss 0.0165, test_loss 0.0165\n"
          ]
        }
      ]
    },
    {
      "cell_type": "markdown",
      "source": [
        "## 绘制loss曲线"
      ],
      "metadata": {
        "id": "BJxEY2MGA10I"
      }
    },
    {
      "cell_type": "code",
      "source": [
        "# print(train_loss_reg)\n",
        "Draw_Curve([train_loss_reg,\"train_loss\"],ylabel = \"loss\")\n",
        "Draw_Curve([test_loss_reg,\"test_loss\"],ylabel = \"loss\")"
      ],
      "metadata": {
        "id": "LO4ndPEKA2Cl",
        "colab": {
          "base_uri": "https://localhost:8080/",
          "height": 541
        },
        "outputId": "87f32a72-53e2-469b-da3b-cd3f31ebbb83"
      },
      "execution_count": 15,
      "outputs": [
        {
          "output_type": "display_data",
          "data": {
            "text/plain": [
              "<Figure size 432x288 with 1 Axes>"
            ],
            "image/png": "[encoded data removed]"
          },
          "metadata": {
            "needs_background": "light"
          }
        },
        {
          "output_type": "display_data",
          "data": {
            "text/plain": [
              "<Figure size 432x288 with 1 Axes>"
            ],
            "image/png": "[encoded data removed]"
          },
          "metadata": {
            "needs_background": "light"
          }
        }
      ]
    },
    {
      "cell_type": "markdown",
      "source": [
        "# 手动实现二分类"
      ],
      "metadata": {
        "id": "2oCfZ06mJxub"
      }
    },
    {
      "cell_type": "markdown",
      "source": [
        "## 数据加载"
      ],
      "metadata": {
        "id": "XQ4koy67KLOj"
      }
    },
    {
      "cell_type": "code",
      "source": [
        "batch_size = 128\n",
        "train_binary_dataset = Data.TensorDataset(train_features_binary,train_labels_binary)\n",
        "train_binary_iter = Data.DataLoader(dataset = train_binary_dataset,batch_size = batch_size,shuffle = True)\n",
        "\n",
        "test_binary_dataset = Data.TensorDataset(test_features_binary,test_labels_binary)\n",
        "test_binary_iter = Data.DataLoader(dataset = test_binary_dataset,batch_size = batch_size,shuffle = True)"
      ],
      "metadata": {
        "id": "RGzv0p5CJ2nx"
      },
      "execution_count": 16,
      "outputs": []
    },
    {
      "cell_type": "markdown",
      "source": [
        "## 参数初始化"
      ],
      "metadata": {
        "id": "YPzr3aaBKhUW"
      }
    },
    {
      "cell_type": "code",
      "source": [
        "num_outputs_binary,num_hiddens_binary = 1,128\n",
        "\n",
        "W1 = torch.tensor(np.random.normal(0,0.01,(num_hiddens_binary,num_inputs_binary)),dtype = torch.float)\n",
        "b1 = torch.zeros(1,dtype = torch.float)\n",
        "W2 = torch.tensor(np.random.normal(0,0.01,(num_outputs_binary,num_hiddens_binary)),dtype = torch.float)\n",
        "b2 = torch.zeros(1,dtype = torch.float)\n",
        "\n",
        "params = [W1,b1,W2,b2]\n",
        "\n",
        "for param in params:\n",
        "  param.requires_grad_(requires_grad = True)"
      ],
      "metadata": {
        "id": "EMfehbx9Khgd"
      },
      "execution_count": 24,
      "outputs": []
    },
    {
      "cell_type": "markdown",
      "source": [
        "## 定义损失函数等参数\n",
        "其他参数如激活函数、网络模型、优化器均采用回归时使用的参数"
      ],
      "metadata": {
        "id": "RHn-JHdqLK8X"
      }
    },
    {
      "cell_type": "code",
      "source": [
        "loss = torch.nn.BCEWithLogitsLoss()\n",
        "def net_bin(X):\n",
        "  X = X.view((-1,num_inputs_binary))\n",
        "  H = relu(torch.matmul(X,W1.t())+b1)\n",
        "  return torch.matmul(H,W2.t())+b2"
      ],
      "metadata": {
        "id": "RiE3OOPyLLlR"
      },
      "execution_count": 25,
      "outputs": []
    },
    {
      "cell_type": "markdown",
      "source": [
        "## 定义训练函数"
      ],
      "metadata": {
        "id": "e_44no_vLMhq"
      }
    },
    {
      "cell_type": "code",
      "source": [
        "#定义模型训练函数\n",
        "def train_bin(net,train_iter,test_iter,loss,num_epochs,batch_size,params=None,lr=None,optimizer=None):\n",
        "  train_loss,train_acc = [],[]\n",
        "  test_loss,test_acc = [],[]\n",
        "  for epoch in range(num_epochs): # 训练模型一共需要num_epochs个迭代周期\n",
        "    train_l_sum, train_acc_sum, n, c = 0.0, 0.0, 0, 0\n",
        "    #在每一个迭代周期中，会使用训练数据集中所有样本一次\n",
        "    for X, y in train_iter: # x和y分别是小批量样本的特征和标签\n",
        "      y_hat = net(X)\n",
        "      l = loss(y_hat, y.view(-1,1)) # l是有关小批量X和y的损失\n",
        "      l.backward() # 小批量的损失对模型参数求梯度\n",
        "      optimizer(params,lr,batch_size)\n",
        "      for param in params:\n",
        "        param.grad.data.zero_()\n",
        "      train_l_sum += l.item()\n",
        "      train_acc_sum += (y_hat.argmax(dim=1) == y).sum().item()\n",
        "      n += y.shape[0]\n",
        "      c += 1\n",
        "    # print(train_l_sum,train_acc_sum)\n",
        "    train_labels = train_labels_binary.view(-1,1)\n",
        "    test_labels = test_labels_binary.view(-1,1)\n",
        "    #detach().numpy()待转换类型的PyTorch Tensor变量带有梯度，直接将其转换为numpy数据将破坏计算图，\n",
        "    #因此numpy拒绝进行数据转换，实际上这是对开发者的一种提醒。如果自己在转换数据时不需要保留梯度信息，可以在变量转换之前添加detach()调用。\n",
        "    # train_loss.append(train_l_sum/c)\n",
        "    # train_acc.append(train_acc_sum/n)\n",
        "    # test_acce,test_losse = evaluate_accuracy(test_iter,net,loss)\n",
        "    # test_loss.append(test_losse)\n",
        "    # test_acc.append(test_acce)\n",
        "    train_loss.append(loss(net(train_features_binary),train_labels).detach().numpy())\n",
        "    test_loss.append(loss(net(test_features_binary),test_labels).detach().numpy())\n",
        "    print('epoch %d, train_loss %.4f, test_loss %.4f'%(epoch+1,train_loss[epoch],test_loss[epoch]))\n",
        "  return train_loss,test_loss"
      ],
      "metadata": {
        "id": "o_bw-E8eLMos"
      },
      "execution_count": 26,
      "outputs": []
    },
    {
      "cell_type": "markdown",
      "source": [
        "## 训练"
      ],
      "metadata": {
        "id": "shVCPvawOL9S"
      }
    },
    {
      "cell_type": "code",
      "source": [
        "lr = 0.01\n",
        "num_epochs = 30\n",
        "train_loss_bin,test_loss_bin = train_bin(net_bin,train_binary_iter,test_binary_iter,loss,num_epochs,batch_size,params,lr,SGD)"
      ],
      "metadata": {
        "id": "Zg--pA5uOMFJ",
        "colab": {
          "base_uri": "https://localhost:8080/"
        },
        "outputId": "a645054a-e727-4632-9def-f4246f43f1a3"
      },
      "execution_count": 27,
      "outputs": [
        {
          "output_type": "stream",
          "name": "stdout",
          "text": [
            "epoch 1, train_loss 0.6627, test_loss 0.6626\n",
            "epoch 2, train_loss 0.6408, test_loss 0.6407\n",
            "epoch 3, train_loss 0.6183, test_loss 0.6182\n",
            "epoch 4, train_loss 0.5949, test_loss 0.5949\n",
            "epoch 5, train_loss 0.5704, test_loss 0.5703\n",
            "epoch 6, train_loss 0.5445, test_loss 0.5445\n",
            "epoch 7, train_loss 0.5173, test_loss 0.5172\n",
            "epoch 8, train_loss 0.4888, test_loss 0.4887\n",
            "epoch 9, train_loss 0.4593, test_loss 0.4592\n",
            "epoch 10, train_loss 0.4291, test_loss 0.4291\n",
            "epoch 11, train_loss 0.3987, test_loss 0.3987\n",
            "epoch 12, train_loss 0.3686, test_loss 0.3686\n",
            "epoch 13, train_loss 0.3392, test_loss 0.3392\n",
            "epoch 14, train_loss 0.3109, test_loss 0.3109\n",
            "epoch 15, train_loss 0.2842, test_loss 0.2842\n",
            "epoch 16, train_loss 0.2591, test_loss 0.2591\n",
            "epoch 17, train_loss 0.2360, test_loss 0.2360\n",
            "epoch 18, train_loss 0.2149, test_loss 0.2149\n",
            "epoch 19, train_loss 0.1957, test_loss 0.1957\n",
            "epoch 20, train_loss 0.1784, test_loss 0.1784\n",
            "epoch 21, train_loss 0.1628, test_loss 0.1628\n",
            "epoch 22, train_loss 0.1489, test_loss 0.1489\n",
            "epoch 23, train_loss 0.1365, test_loss 0.1365\n",
            "epoch 24, train_loss 0.1254, test_loss 0.1254\n",
            "epoch 25, train_loss 0.1155, test_loss 0.1155\n",
            "epoch 26, train_loss 0.1066, test_loss 0.1066\n",
            "epoch 27, train_loss 0.0987, test_loss 0.0987\n",
            "epoch 28, train_loss 0.0916, test_loss 0.0916\n",
            "epoch 29, train_loss 0.0852, test_loss 0.0852\n",
            "epoch 30, train_loss 0.0795, test_loss 0.0795\n"
          ]
        }
      ]
    },
    {
      "cell_type": "markdown",
      "source": [
        "## 绘制loss曲线"
      ],
      "metadata": {
        "id": "PzTsgnzjRDtc"
      }
    },
    {
      "cell_type": "code",
      "source": [
        "# print(train_loss_reg)\n",
        "Draw_Curve([train_loss_bin,\"train_loss\"],ylabel = \"loss\")\n",
        "Draw_Curve([test_loss_bin,\"test_loss\"],ylabel = \"loss\")"
      ],
      "metadata": {
        "id": "w7FpCBI_RDtk",
        "colab": {
          "base_uri": "https://localhost:8080/",
          "height": 541
        },
        "outputId": "021fb1a6-a89e-4364-fc0a-d393a2858426"
      },
      "execution_count": 28,
      "outputs": [
        {
          "output_type": "display_data",
          "data": {
            "text/plain": [
              "<Figure size 432x288 with 1 Axes>"
            ],
            "image/png": "[encoded data removed]"
          },
          "metadata": {
            "needs_background": "light"
          }
        },
        {
          "output_type": "display_data",
          "data": {
            "text/plain": [
              "<Figure size 432x288 with 1 Axes>"
            ],
            "image/png": "[encoded data removed]"
          },
          "metadata": {
            "needs_background": "light"
          }
        }
      ]
    },
    {
      "cell_type": "markdown",
      "source": [
        "# 手动实现手写数字"
      ],
      "metadata": {
        "id": "K6lmQ9lURm0x"
      }
    },
    {
      "cell_type": "markdown",
      "source": [
        "## 数据加载"
      ],
      "metadata": {
        "id": "OnxbTyRpR1lb"
      }
    },
    {
      "cell_type": "code",
      "source": [
        "batch_size = 64\n",
        "train_iter = torch.utils.data.DataLoader(mnist_train, batch_size=batch_size, shuffle=True,num_workers=0)  \n",
        "test_iter = torch.utils.data.DataLoader(mnist_test, batch_size=batch_size, shuffle=False,num_workers=0)"
      ],
      "metadata": {
        "id": "V7f29sBnRnCT"
      },
      "execution_count": 29,
      "outputs": []
    },
    {
      "cell_type": "markdown",
      "source": [
        "## 参数初始化"
      ],
      "metadata": {
        "id": "-i4YznX8S6VB"
      }
    },
    {
      "cell_type": "code",
      "source": [
        "num_inputs_mnist,num_outputs_mnist,num_hiddens_mnist = 28*28,10,128\n",
        "\n",
        "W1 = torch.tensor(np.random.normal(0,0.01,(num_hiddens_mnist,num_inputs_mnist)),dtype = torch.float)\n",
        "b1 = torch.zeros(1,dtype = torch.float)\n",
        "W2 = torch.tensor(np.random.normal(0,0.01,(num_outputs_mnist,num_hiddens_mnist)),dtype = torch.float)\n",
        "b2 = torch.zeros(1,dtype = torch.float)\n",
        "\n",
        "params = [W1,b1,W2,b2]\n",
        "\n",
        "for param in params:\n",
        "  param.requires_grad_(requires_grad = True)"
      ],
      "metadata": {
        "id": "JPRyPRCaS6VI"
      },
      "execution_count": 30,
      "outputs": []
    },
    {
      "cell_type": "markdown",
      "source": [
        "## 定义损失函数等参数\n",
        "其他参数如激活函数、网络模型、优化器均采用回归时使用的参数"
      ],
      "metadata": {
        "id": "BKpDWFvUS6VI"
      }
    },
    {
      "cell_type": "code",
      "source": [
        "loss = torch.nn.CrossEntropyLoss()\n",
        "def net_mnist(X):\n",
        "  X = X.view((-1,num_inputs_mnist))\n",
        "  H = relu(torch.matmul(X,W1.t())+b1)\n",
        "  return torch.matmul(H,W2.t())+b2\n",
        "def mySGD(paras,lr):\n",
        "  for param in params:\n",
        "    param.data -= lr * param.grad"
      ],
      "metadata": {
        "id": "_ob9PGehS6VJ"
      },
      "execution_count": 31,
      "outputs": []
    },
    {
      "cell_type": "markdown",
      "source": [
        "## 定义训练函数"
      ],
      "metadata": {
        "id": "hn83A3O9S6VJ"
      }
    },
    {
      "cell_type": "code",
      "source": [
        "def train_mnist(net,train_iter,test_iter,loss,num_epochs,batch_size,params=None,lr=None,optimizer=None):\n",
        "  train_loss,train_acc = [],[]\n",
        "  test_loss,test_acc = [],[]\n",
        "  for epoch in range(num_epochs): # 训练模型一共需要num_epochs个迭代周期\n",
        "    train_l_sum, train_acc_sum, n, c = 0.0, 0.0, 0, 0\n",
        "  # 在每一个迭代周期中，会使用训练数据集中所有样本一次\n",
        "    for X, y in train_iter: # x和y分别是小批量样本的特征和标签\n",
        "      y_hat = net(X)\n",
        "      l = loss(y_hat, y).sum() # l是有关小批量X和y的损失\n",
        "      #梯度清零\n",
        "      if optimizer is not None:\n",
        "        optimizer.zero_grad()\n",
        "      elif params is not None and params[0].grad is not None:\n",
        "        for param in params:\n",
        "          param.grad.data.zero_()\n",
        "      l.backward()# 小批量的损失对模型参数求梯度\n",
        "      if optimizer is None:\n",
        "        mySGD(params,lr)\n",
        "      else:\n",
        "        optimizer.step()\n",
        "      #计算每个epoch的loss\n",
        "      train_l_sum += l.item()*y.shape[0]\n",
        "    #计算训练样本的准确率\n",
        "      train_acc_sum += (y_hat.argmax(dim=1)==y).sum().item()\n",
        "    #每一个epoch的所有样本数\n",
        "      n+= y.shape[0]\n",
        "    train_loss.append(train_l_sum/n)\n",
        "    train_acc.append(train_acc_sum/n)\n",
        "    test_acce,test_losse = evaluate_accuracy(test_iter,net,loss)\n",
        "    test_loss.append(test_losse)\n",
        "    test_acc.append(test_acce)\n",
        "    print('epoch %d, train_loss %.6f,test_loss %f,train_acc %.6f,test_acc %.6f'%(epoch+1, train_loss[epoch],test_loss[epoch],train_acc_sum/n,test_acce))\n",
        "  return train_loss,test_loss"
      ],
      "metadata": {
        "id": "aHPMafIEkVhG"
      },
      "execution_count": 32,
      "outputs": []
    },
    {
      "cell_type": "markdown",
      "source": [
        "## 训练"
      ],
      "metadata": {
        "id": "UzRh7VUFS6VJ"
      }
    },
    {
      "cell_type": "code",
      "source": [
        "lr = 0.01\n",
        "num_epochs = 20\n",
        "train_loss_mnist,test_loss_mnist = train_mnist(net_mnist,train_iter,test_iter,loss,num_epochs,batch_size,params,lr)"
      ],
      "metadata": {
        "id": "c4_ULjWqS6VJ",
        "colab": {
          "base_uri": "https://localhost:8080/"
        },
        "outputId": "daf4338a-615e-4b55-9c92-1869b157fad6"
      },
      "execution_count": 33,
      "outputs": [
        {
          "output_type": "stream",
          "name": "stdout",
          "text": [
            "epoch 1, train_loss 1.760408,test_loss 0.890876,train_acc 0.616900,test_acc 0.796300\n",
            "epoch 2, train_loss 0.641365,test_loss 0.479484,train_acc 0.840433,test_acc 0.873900\n",
            "epoch 3, train_loss 0.443301,test_loss 0.385041,train_acc 0.880283,test_acc 0.892800\n",
            "epoch 4, train_loss 0.382538,test_loss 0.347719,train_acc 0.893200,test_acc 0.902300\n",
            "epoch 5, train_loss 0.352068,test_loss 0.325223,train_acc 0.900200,test_acc 0.907000\n",
            "epoch 6, train_loss 0.332468,test_loss 0.309508,train_acc 0.905683,test_acc 0.911300\n",
            "epoch 7, train_loss 0.318174,test_loss 0.298158,train_acc 0.908683,test_acc 0.913900\n",
            "epoch 8, train_loss 0.306179,test_loss 0.289462,train_acc 0.912300,test_acc 0.916600\n",
            "epoch 9, train_loss 0.295600,test_loss 0.280647,train_acc 0.915333,test_acc 0.921800\n",
            "epoch 10, train_loss 0.286336,test_loss 0.271464,train_acc 0.918267,test_acc 0.923800\n",
            "epoch 11, train_loss 0.277620,test_loss 0.264444,train_acc 0.920450,test_acc 0.925500\n",
            "epoch 12, train_loss 0.269202,test_loss 0.257643,train_acc 0.923367,test_acc 0.927300\n",
            "epoch 13, train_loss 0.261070,test_loss 0.250821,train_acc 0.925250,test_acc 0.928400\n",
            "epoch 14, train_loss 0.253311,test_loss 0.244749,train_acc 0.927833,test_acc 0.930600\n",
            "epoch 15, train_loss 0.245765,test_loss 0.237463,train_acc 0.929800,test_acc 0.933000\n",
            "epoch 16, train_loss 0.238458,test_loss 0.229151,train_acc 0.932117,test_acc 0.935200\n",
            "epoch 17, train_loss 0.231368,test_loss 0.222989,train_acc 0.934150,test_acc 0.936500\n",
            "epoch 18, train_loss 0.224477,test_loss 0.217913,train_acc 0.936317,test_acc 0.936500\n",
            "epoch 19, train_loss 0.217752,test_loss 0.211555,train_acc 0.938733,test_acc 0.939600\n",
            "epoch 20, train_loss 0.211451,test_loss 0.206193,train_acc 0.940550,test_acc 0.940200\n"
          ]
        }
      ]
    },
    {
      "cell_type": "markdown",
      "source": [
        "## 绘制loss曲线"
      ],
      "metadata": {
        "id": "wsZ7cM53S6VJ"
      }
    },
    {
      "cell_type": "code",
      "source": [
        "# print(train_loss_reg)\n",
        "Draw_Curve([train_loss_mnist,\"train_loss\"],ylabel = \"loss\")\n",
        "Draw_Curve([test_loss_mnist,\"test_loss\"],ylabel = \"loss\")"
      ],
      "metadata": {
        "id": "ML3spDV-S6VJ",
        "colab": {
          "base_uri": "https://localhost:8080/",
          "height": 541
        },
        "outputId": "38c3447b-77bd-4416-c32a-6b542310cdb4"
      },
      "execution_count": 34,
      "outputs": [
        {
          "output_type": "display_data",
          "data": {
            "text/plain": [
              "<Figure size 432x288 with 1 Axes>"
            ],
            "image/png": "[encoded data removed]"
          },
          "metadata": {
            "needs_background": "light"
          }
        },
        {
          "output_type": "display_data",
          "data": {
            "text/plain": [
              "<Figure size 432x288 with 1 Axes>"
            ],
            "image/png": "[encoded data removed]"
          },
          "metadata": {
            "needs_background": "light"
          }
        }
      ]
    },
    {
      "cell_type": "markdown",
      "source": [
        "# torch.nn实现回归网络"
      ],
      "metadata": {
        "id": "XYUmhk1i0z1N"
      }
    },
    {
      "cell_type": "markdown",
      "source": [
        "## 参数初始化和网络实现"
      ],
      "metadata": {
        "id": "O6qz-7Aa1gbq"
      }
    },
    {
      "cell_type": "code",
      "source": [
        "class Net_reg_nn(nn.Module):\n",
        "  def __init__(self):\n",
        "    super(Net_reg_nn,self).__init__()\n",
        "    #定义输入输出和隐藏层的神经元数量\n",
        "    num_inputs_reg_nn,num_hiddens_reg_nn,num_outputs_reg_nn = 500,128,1\n",
        "    #定义模型结构\n",
        "    self.input_layer = lambda x: x.view(x.shape[0],-1)\n",
        "    self.hidden_layer = nn.Sequential(\n",
        "      nn.Linear(num_inputs_reg_nn,num_hiddens_reg_nn),\n",
        "      nn.ReLU()\n",
        "    )\n",
        "    self.output_layer = nn.Linear(num_hiddens_reg_nn,num_outputs_reg_nn)\n",
        "    #初始化参数\n",
        "    for h_param in self.hidden_layer.parameters():\n",
        "      torch.nn.init.normal_(h_param,mean = 0,std = 0.01)\n",
        "    for o_param in self.output_layer.parameters():\n",
        "      torch.nn.init.normal_(o_param,mean = 0,std = 0.01)\n",
        "  #定义模型前向传播过程\n",
        "  def forward(self,x):\n",
        "    flatten_input = self.input_layer(x)\n",
        "    hidden_output = self.hidden_layer(flatten_input)\n",
        "    final_output = self.output_layer(hidden_output)\n",
        "    return final_output\n"
      ],
      "metadata": {
        "id": "A8VCpGZe1rAY"
      },
      "execution_count": 35,
      "outputs": []
    },
    {
      "cell_type": "markdown",
      "source": [
        "## 定义训练函数"
      ],
      "metadata": {
        "id": "D1FLxIvA6L6O"
      }
    },
    {
      "cell_type": "code",
      "source": [
        "def train_reg_nn(net, train_iter, loss_func, num_epoch, lr, optimizer):\n",
        "  train_loss_list,train_acc_list,test_loss_list,test_acc_list = [],[],[],[]\n",
        "  for epoch in range(num_epoch):\n",
        "    train_l_sum,train_acc_sum,n,c = 0.0,0.0,0,0\n",
        "    for X,y in train_iter:\n",
        "      y_hat = net(X)\n",
        "      l = loss_func(y_hat,y)\n",
        "      #梯度清理\n",
        "      optimizer.zero_grad()\n",
        "      l.backward()\n",
        "      optimizer.step()\n",
        "      train_l_sum += l.item()\n",
        "      train_acc_sum += (y_hat.argmax(dim=1) == y).sum().item()\n",
        "      n += y.shape[0]\n",
        "      c += 1\n",
        "    test_acc,test_loss = evaluate_accuracy(test_reg_iter,net,loss_func)\n",
        "    train_loss_list.append(train_l_sum/c)\n",
        "    train_acc_list.append(train_acc_sum/n)\n",
        "    test_loss_list.append(test_loss)\n",
        "    test_acc_list.append(test_acc)\n",
        "    print('epoch %d, train loss %.4f, test loss %.4f'%(epoch+1, train_l_sum/c, test_loss))\n",
        "    # print('epoch %d, train loss %.4f, train acc %.3f, test loss %.4f, test acc %.3f'\n",
        "    # %(epoch+1, train_l_sum/c, train_acc_sum/n, test_loss,test_acc))\n",
        "  return train_loss_list,test_loss_list"
      ],
      "metadata": {
        "id": "8Bkwupsm6PmB"
      },
      "execution_count": 38,
      "outputs": []
    },
    {
      "cell_type": "markdown",
      "source": [
        "## 训练模型"
      ],
      "metadata": {
        "id": "qHlqBFju9gjz"
      }
    },
    {
      "cell_type": "code",
      "source": [
        "net = Net_reg_nn()\n",
        "num_epochs = 20\n",
        "lr = 0.01\n",
        "loss = torch.nn.MSELoss()\n",
        "optimizer = torch.optim.SGD(net.parameters(),lr)\n",
        "train_reg_loss_nn,test_reg_loss_nn=train_reg_nn(net,train_reg_iter,loss,num_epochs,lr,optimizer)"
      ],
      "metadata": {
        "id": "Zhf4oe_m9jE8",
        "colab": {
          "base_uri": "https://localhost:8080/"
        },
        "outputId": "47d2a377-dc2b-4672-81ec-c2cb92873764"
      },
      "execution_count": 39,
      "outputs": [
        {
          "output_type": "stream",
          "name": "stdout",
          "text": [
            "epoch 1, train loss 0.0166, test loss 0.0162\n",
            "epoch 2, train loss 0.0159, test loss 0.0157\n",
            "epoch 3, train loss 0.0154, test loss 0.0153\n",
            "epoch 4, train loss 0.0149, test loss 0.0148\n",
            "epoch 5, train loss 0.0143, test loss 0.0143\n",
            "epoch 6, train loss 0.0137, test loss 0.0137\n",
            "epoch 7, train loss 0.0129, test loss 0.0129\n",
            "epoch 8, train loss 0.0121, test loss 0.0121\n",
            "epoch 9, train loss 0.0111, test loss 0.0112\n",
            "epoch 10, train loss 0.0100, test loss 0.0102\n",
            "epoch 11, train loss 0.0089, test loss 0.0091\n",
            "epoch 12, train loss 0.0078, test loss 0.0080\n",
            "epoch 13, train loss 0.0066, test loss 0.0069\n",
            "epoch 14, train loss 0.0056, test loss 0.0060\n",
            "epoch 15, train loss 0.0046, test loss 0.0051\n",
            "epoch 16, train loss 0.0038, test loss 0.0043\n",
            "epoch 17, train loss 0.0032, test loss 0.0037\n",
            "epoch 18, train loss 0.0026, test loss 0.0032\n",
            "epoch 19, train loss 0.0022, test loss 0.0028\n",
            "epoch 20, train loss 0.0019, test loss 0.0025\n"
          ]
        }
      ]
    },
    {
      "cell_type": "markdown",
      "source": [
        "## 绘制loss曲线"
      ],
      "metadata": {
        "id": "zkq28QLI_gUk"
      }
    },
    {
      "cell_type": "code",
      "source": [
        "Draw_Curve([train_reg_loss_nn,\"train_loss\"],[test_reg_loss_nn,\"test_loss\"],ylabel = \"loss\")"
      ],
      "metadata": {
        "colab": {
          "base_uri": "https://localhost:8080/",
          "height": 279
        },
        "id": "F3ChbNY1_jKj",
        "outputId": "9363da37-43e9-4be9-b18c-4d3244e62d0c"
      },
      "execution_count": 40,
      "outputs": [
        {
          "output_type": "display_data",
          "data": {
            "text/plain": [
              "<Figure size 432x288 with 1 Axes>"
            ],
            "image/png": "[encoded data removed]"
          },
          "metadata": {
            "needs_background": "light"
          }
        }
      ]
    },
    {
      "cell_type": "markdown",
      "source": [
        "# torch.nn实现二分类"
      ],
      "metadata": {
        "id": "B106gYd_Ob_0"
      }
    },
    {
      "cell_type": "markdown",
      "source": [
        "## 参数初始化和网络实现"
      ],
      "metadata": {
        "id": "2z9AKJIlOn_H"
      }
    },
    {
      "cell_type": "code",
      "source": [
        "class Net_bin_nn(nn.Module):\n",
        "  def __init__(self):\n",
        "    super(Net_bin_nn,self).__init__()\n",
        "    #定义输入输出和隐藏层的神经元数量\n",
        "    num_inputs_bin_nn,num_hiddens_bin_nn,num_outputs_bin_nn = 200,128,1\n",
        "    #定义模型结构\n",
        "    self.input_layer = lambda x: x.view(x.shape[0],-1)\n",
        "    self.hidden_layer = nn.Sequential(\n",
        "      nn.Linear(num_inputs_bin_nn,num_hiddens_bin_nn),\n",
        "      nn.ReLU()\n",
        "    )\n",
        "    self.output_layer = nn.Linear(num_hiddens_bin_nn,num_outputs_bin_nn)\n",
        "    #初始化参数\n",
        "    for h_param in self.hidden_layer.parameters():\n",
        "      torch.nn.init.normal_(h_param,mean = 0,std = 0.01)\n",
        "    for o_param in self.output_layer.parameters():\n",
        "      torch.nn.init.normal_(o_param,mean = 0,std = 0.01)\n",
        "  #定义模型前向传播过程\n",
        "  def forward(self,x):\n",
        "    flatten_input = self.input_layer(x)\n",
        "    hidden_output = self.hidden_layer(flatten_input)\n",
        "    final_output = self.output_layer(hidden_output)\n",
        "    return final_output\n",
        "\n"
      ],
      "metadata": {
        "id": "1RnoQG-sOteH"
      },
      "execution_count": 41,
      "outputs": []
    },
    {
      "cell_type": "markdown",
      "source": [
        "## 定义训练函数"
      ],
      "metadata": {
        "id": "Y3giZv9ZPUVE"
      }
    },
    {
      "cell_type": "code",
      "source": [
        "def train_bin_nn(net, train_iter, loss_func, num_epoch, lr, optimizer):\n",
        "  train_loss_list,train_acc_list,test_loss_list,test_acc_list = [],[],[],[]\n",
        "  for epoch in range(num_epoch):\n",
        "    train_l_sum,train_acc_sum,n,c = 0.0,0.0,0,0\n",
        "    for X,y in train_iter:\n",
        "      y_hat = net(X)\n",
        "      l = loss_func(y_hat,y.view(-1,1))\n",
        "      #梯度清理\n",
        "      optimizer.zero_grad()\n",
        "      l.backward()\n",
        "      optimizer.step()\n",
        "      train_l_sum += l.item()\n",
        "      train_acc_sum += (y_hat.argmax(dim=1) == y).sum().item()\n",
        "      n += y.shape[0]\n",
        "      c += 1\n",
        "    test_acc,test_loss = evaluate_accuracy(test_binary_iter,net,loss_func)\n",
        "    train_loss_list.append(train_l_sum/c)\n",
        "    train_acc_list.append(train_acc_sum/n)\n",
        "    test_loss_list.append(test_loss)\n",
        "    test_acc_list.append(test_acc)\n",
        "    print('epoch %d, train loss %.4f, test loss %.4f'%(epoch+1, train_l_sum/c, test_loss))\n",
        "    # print('epoch %d, train loss %.4f, train acc %.3f, test loss %.4f, test acc %.3f'\n",
        "    # %(epoch+1, train_l_sum/c, train_acc_sum/n, test_loss,test_acc))\n",
        "  return train_loss_list,test_loss_list"
      ],
      "metadata": {
        "id": "LSkj79dYPUVK"
      },
      "execution_count": 42,
      "outputs": []
    },
    {
      "cell_type": "markdown",
      "source": [
        "## 训练模型"
      ],
      "metadata": {
        "id": "h20ujD_5PgGW"
      }
    },
    {
      "cell_type": "code",
      "source": [
        "net = Net_bin_nn()\n",
        "num_epochs = 20\n",
        "lr = 0.01\n",
        "loss = torch.nn.BCEWithLogitsLoss()\n",
        "optimizer = torch.optim.SGD(net.parameters(),lr)\n",
        "train_bin_loss_nn,test_bin_loss_nn=train_bin_nn(net,train_binary_iter,loss,num_epochs,lr,optimizer)"
      ],
      "metadata": {
        "colab": {
          "base_uri": "https://localhost:8080/"
        },
        "id": "TFkKPy8ePgGW",
        "outputId": "2f408872-61b6-4b7b-a33a-918ce59be087"
      },
      "execution_count": 45,
      "outputs": [
        {
          "output_type": "stream",
          "name": "stdout",
          "text": [
            "epoch 1, train loss 0.0941, test loss 0.0063\n",
            "epoch 2, train loss 0.0038, test loss 0.0024\n",
            "epoch 3, train loss 0.0018, test loss 0.0014\n",
            "epoch 4, train loss 0.0012, test loss 0.0010\n",
            "epoch 5, train loss 0.0008, test loss 0.0007\n",
            "epoch 6, train loss 0.0007, test loss 0.0006\n",
            "epoch 7, train loss 0.0005, test loss 0.0005\n",
            "epoch 8, train loss 0.0005, test loss 0.0004\n",
            "epoch 9, train loss 0.0004, test loss 0.0004\n",
            "epoch 10, train loss 0.0003, test loss 0.0003\n",
            "epoch 11, train loss 0.0003, test loss 0.0003\n",
            "epoch 12, train loss 0.0003, test loss 0.0003\n",
            "epoch 13, train loss 0.0002, test loss 0.0002\n",
            "epoch 14, train loss 0.0002, test loss 0.0002\n",
            "epoch 15, train loss 0.0002, test loss 0.0002\n",
            "epoch 16, train loss 0.0002, test loss 0.0002\n",
            "epoch 17, train loss 0.0002, test loss 0.0002\n",
            "epoch 18, train loss 0.0002, test loss 0.0002\n",
            "epoch 19, train loss 0.0002, test loss 0.0002\n",
            "epoch 20, train loss 0.0001, test loss 0.0001\n"
          ]
        }
      ]
    },
    {
      "cell_type": "markdown",
      "source": [
        "## 绘制loss曲线"
      ],
      "metadata": {
        "id": "HcIe6kLJPgGW"
      }
    },
    {
      "cell_type": "code",
      "source": [
        "Draw_Curve([train_bin_loss_nn,\"train_loss\"],[test_bin_loss_nn,\"test_loss\"],ylabel = \"loss\")"
      ],
      "metadata": {
        "colab": {
          "base_uri": "https://localhost:8080/",
          "height": 279
        },
        "outputId": "daf67b01-8d79-4cc8-ecb6-7ad51414f1dc",
        "id": "ldcwo66vPgGW"
      },
      "execution_count": 46,
      "outputs": [
        {
          "output_type": "display_data",
          "data": {
            "text/plain": [
              "<Figure size 432x288 with 1 Axes>"
            ],
            "image/png": "[encoded data removed]"
          },
          "metadata": {
            "needs_background": "light"
          }
        }
      ]
    },
    {
      "cell_type": "markdown",
      "source": [
        "# torch.nn实现MNIST"
      ],
      "metadata": {
        "id": "mkNn_ZmVSa-s"
      }
    },
    {
      "cell_type": "markdown",
      "source": [
        "## 参数初始化和网络实现"
      ],
      "metadata": {
        "id": "OHS4_suQSa-u"
      }
    },
    {
      "cell_type": "code",
      "source": [
        "class Net_mnist_nn(nn.Module):\n",
        "  def __init__(self):\n",
        "    super(Net_mnist_nn,self).__init__()\n",
        "    #定义输入输出和隐藏层的神经元数量\n",
        "    num_inputs_mnist_nn,num_hiddens_mnist_nn,num_outputs_mnist_nn = 28*28,64,10\n",
        "    #定义模型结构\n",
        "    self.input_layer = lambda x: x.view(x.shape[0],-1)\n",
        "    self.hidden_layer = nn.Sequential(\n",
        "      nn.Linear(num_inputs_mnist_nn,num_hiddens_mnist_nn),\n",
        "      nn.ReLU()\n",
        "      # nn.Tanh()\n",
        "      # nn.LeakyReLU()\n",
        "\n",
        "    )\n",
        "    # self.hidden_layer2 = nn.Sequential(\n",
        "    #   nn.Linear(num_hiddens_mnist_nn,num_hiddens_mnist_nn),\n",
        "    #   nn.ReLU()\n",
        "    #   # nn.Tanh()\n",
        "    #   # nn.LeakyReLU()\n",
        "\n",
        "    # )\n",
        "    # self.hidden_layer3 = nn.Sequential(\n",
        "    #   nn.Linear(num_hiddens_mnist_nn,num_hiddens_mnist_nn),\n",
        "    #   nn.ReLU()\n",
        "    #   # nn.Tanh()\n",
        "    #   # nn.LeakyReLU()\n",
        "\n",
        "    # )\n",
        "    self.output_layer = nn.Linear(num_hiddens_mnist_nn,num_outputs_mnist_nn)\n",
        "    #初始化参数\n",
        "    for h_param in self.hidden_layer.parameters():\n",
        "      torch.nn.init.normal_(h_param,mean = 0,std = 0.01)\n",
        "    # for h_param in self.hidden_layer2.parameters():\n",
        "    #   torch.nn.init.normal_(h_param,mean = 0,std = 0.01)\n",
        "    # for h_param in self.hidden_layer3.parameters():\n",
        "    #   torch.nn.init.normal_(h_param,mean = 0,std = 0.01)\n",
        "    for o_param in self.output_layer.parameters():\n",
        "      torch.nn.init.normal_(o_param,mean = 0,std = 0.01)\n",
        "  #定义模型前向传播过程\n",
        "  def forward(self,x):\n",
        "    flatten_input = self.input_layer(x)\n",
        "    hidden_output = self.hidden_layer(flatten_input)\n",
        "    # hidden3_hidden2 = self.hidden_layer2(hidden_hidden2)\n",
        "    # hidden3_output = self.hidden_layer3(hidden3_hidden2)\n",
        "    final_output = self.output_layer(hidden_output)\n",
        "    return final_output"
      ],
      "metadata": {
        "id": "mGgf29lUSa-u"
      },
      "execution_count": 47,
      "outputs": []
    },
    {
      "cell_type": "markdown",
      "source": [
        "## 定义训练函数"
      ],
      "metadata": {
        "id": "IC2-kGX8Sa-v"
      }
    },
    {
      "cell_type": "code",
      "source": [
        "def train_mnist_nn(net, train_iter, loss_func, num_epoch, lr, optimizer):\n",
        "  train_loss_list,train_acc_list,test_loss_list,test_acc_list = [],[],[],[]\n",
        "  for epoch in range(num_epoch):\n",
        "    train_l_sum,train_acc_sum,n,c = 0.0,0.0,0,0\n",
        "    for X,y in train_iter:\n",
        "      y_hat = net(X)\n",
        "      l = loss_func(y_hat,y)\n",
        "      #梯度清理\n",
        "      optimizer.zero_grad()\n",
        "      l.backward()\n",
        "      optimizer.step()\n",
        "      train_l_sum += l.item()\n",
        "      train_acc_sum += (y_hat.argmax(dim=1) == y).sum().item()\n",
        "      n += y.shape[0]\n",
        "      c += 1\n",
        "    # print('正确的数量为：%d'%train_acc_sum)\n",
        "    test_acc,test_loss = evaluate_accuracy(test_iter,net,loss_func)\n",
        "    train_loss_list.append(train_l_sum/c)\n",
        "    train_acc_list.append(train_acc_sum/n)\n",
        "    test_loss_list.append(test_loss)\n",
        "    test_acc_list.append(test_acc)\n",
        "    # print('epoch %d, train loss %.4f, test loss %.4f'%(epoch+1, train_l_sum/n, test_loss))\n",
        "    print('epoch %d, train loss %.4f, train acc %.3f, test loss %.4f, test acc %.3f'\n",
        "    %(epoch+1, train_l_sum/c, train_acc_sum/n, test_loss,test_acc))\n",
        "  return train_loss_list,test_loss_list"
      ],
      "metadata": {
        "id": "xLW6tBvDSa-v"
      },
      "execution_count": 49,
      "outputs": []
    },
    {
      "cell_type": "markdown",
      "source": [
        "## 训练模型"
      ],
      "metadata": {
        "id": "8gH5MtQ1Sa-w"
      }
    },
    {
      "cell_type": "code",
      "source": [
        "net = Net_mnist_nn()\n",
        "num_epochs = 10\n",
        "lr = 0.01\n",
        "loss = torch.nn.CrossEntropyLoss()\n",
        "optimizer = torch.optim.SGD(net.parameters(),lr)\n",
        "train_mnist_loss_nn,test_mnist_loss_nn=train_mnist_nn(net,train_iter,loss,num_epochs,lr,optimizer)"
      ],
      "metadata": {
        "id": "ibydwj1MSa-w",
        "colab": {
          "base_uri": "https://localhost:8080/"
        },
        "outputId": "e2bcc66a-2185-4bd1-a7c1-85375bef7331"
      },
      "execution_count": 55,
      "outputs": [
        {
          "output_type": "stream",
          "name": "stdout",
          "text": [
            "epoch 1, train loss 1.9824, train acc 0.437, test loss 1.1664, test acc 0.735\n",
            "epoch 2, train loss 0.7780, train acc 0.806, test loss 0.5483, test acc 0.859\n",
            "epoch 3, train loss 0.4922, train acc 0.870, test loss 0.4188, test acc 0.888\n",
            "epoch 4, train loss 0.4080, train acc 0.889, test loss 0.3663, test acc 0.898\n",
            "epoch 5, train loss 0.3684, train acc 0.897, test loss 0.3388, test acc 0.904\n",
            "epoch 6, train loss 0.3443, train acc 0.903, test loss 0.3190, test acc 0.909\n",
            "epoch 7, train loss 0.3276, train acc 0.907, test loss 0.3065, test acc 0.912\n",
            "epoch 8, train loss 0.3144, train acc 0.910, test loss 0.2958, test acc 0.914\n",
            "epoch 9, train loss 0.3037, train acc 0.913, test loss 0.2865, test acc 0.919\n",
            "epoch 10, train loss 0.2939, train acc 0.916, test loss 0.2791, test acc 0.921\n"
          ]
        }
      ]
    },
    {
      "cell_type": "markdown",
      "source": [
        "## 绘制loss曲线"
      ],
      "metadata": {
        "id": "nZghxHwISa-x"
      }
    },
    {
      "cell_type": "code",
      "source": [
        "Draw_Curve([train_mnist_loss_nn,\"train_loss\"],[test_mnist_loss_nn,\"test_loss\"],ylabel = \"loss\")"
      ],
      "metadata": {
        "id": "jaHR-LG9Sa-x",
        "colab": {
          "base_uri": "https://localhost:8080/",
          "height": 279
        },
        "outputId": "8011bfab-eae8-4ae7-b2ab-329062d9ef18"
      },
      "execution_count": 51,
      "outputs": [
        {
          "output_type": "display_data",
          "data": {
            "text/plain": [
              "<Figure size 432x288 with 1 Axes>"
            ],
            "image/png": "[encoded data removed]"
          },
          "metadata": {
            "needs_background": "light"
          }
        }
      ]
    },
    {
      "cell_type": "markdown",
      "source": [
        "# 更改激活函数"
      ],
      "metadata": {
        "id": "fOniuu8JljkJ"
      }
    },
    {
      "cell_type": "code",
      "source": [
        "#tanh\n",
        "net = Net_mnist_nn()\n",
        "num_epochs = 10\n",
        "lr = 0.01\n",
        "loss = torch.nn.CrossEntropyLoss()\n",
        "optimizer = torch.optim.SGD(net.parameters(),lr)\n",
        "train_mnist_loss_nn_tanh,test_mnist_loss_nn_tanh=train_mnist_nn(net,train_iter,loss,num_epochs,lr,optimizer)"
      ],
      "metadata": {
        "id": "hDDynoTclpUK",
        "colab": {
          "base_uri": "https://localhost:8080/"
        },
        "outputId": "6311f70a-5b06-41cf-e46b-ad5bcac96ecb"
      },
      "execution_count": 52,
      "outputs": [
        {
          "output_type": "stream",
          "name": "stdout",
          "text": [
            "epoch 1, train loss 2.2526, train acc 0.317, test loss 2.1094, test acc 0.431\n",
            "epoch 2, train loss 1.6422, train acc 0.624, test loss 1.1272, test acc 0.752\n",
            "epoch 3, train loss 0.8911, train acc 0.785, test loss 0.6949, test acc 0.827\n",
            "epoch 4, train loss 0.6281, train acc 0.838, test loss 0.5406, test acc 0.857\n",
            "epoch 5, train loss 0.5188, train acc 0.863, test loss 0.4634, test acc 0.876\n",
            "epoch 6, train loss 0.4594, train acc 0.877, test loss 0.4189, test acc 0.886\n",
            "epoch 7, train loss 0.4217, train acc 0.885, test loss 0.3898, test acc 0.889\n",
            "epoch 8, train loss 0.3960, train acc 0.891, test loss 0.3674, test acc 0.898\n",
            "epoch 9, train loss 0.3769, train acc 0.896, test loss 0.3518, test acc 0.900\n",
            "epoch 10, train loss 0.3622, train acc 0.899, test loss 0.3391, test acc 0.903\n"
          ]
        }
      ]
    },
    {
      "cell_type": "code",
      "source": [
        "#LeakyReLu\n",
        "net = Net_mnist_nn()\n",
        "num_epochs = 10\n",
        "lr = 0.01\n",
        "loss = torch.nn.CrossEntropyLoss()\n",
        "optimizer = torch.optim.SGD(net.parameters(),lr)\n",
        "train_mnist_loss_nn_LR,test_mnist_loss_nn_LR=train_mnist_nn(net,train_iter,loss,num_epochs,lr,optimizer)"
      ],
      "metadata": {
        "id": "27GzGInYmZdL",
        "colab": {
          "base_uri": "https://localhost:8080/"
        },
        "outputId": "efac5e55-957f-427c-9119-ed693b500545"
      },
      "execution_count": 53,
      "outputs": [
        {
          "output_type": "stream",
          "name": "stdout",
          "text": [
            "epoch 1, train loss 2.2546, train acc 0.317, test loss 2.1134, test acc 0.397\n",
            "epoch 2, train loss 1.6564, train acc 0.592, test loss 1.1546, test acc 0.715\n",
            "epoch 3, train loss 0.9174, train acc 0.772, test loss 0.7191, test acc 0.818\n",
            "epoch 4, train loss 0.6453, train acc 0.831, test loss 0.5546, test acc 0.852\n",
            "epoch 5, train loss 0.5290, train acc 0.859, test loss 0.4729, test acc 0.872\n",
            "epoch 6, train loss 0.4649, train acc 0.875, test loss 0.4242, test acc 0.884\n",
            "epoch 7, train loss 0.4245, train acc 0.884, test loss 0.3908, test acc 0.892\n",
            "epoch 8, train loss 0.3966, train acc 0.891, test loss 0.3678, test acc 0.896\n",
            "epoch 9, train loss 0.3761, train acc 0.896, test loss 0.3508, test acc 0.900\n",
            "epoch 10, train loss 0.3602, train acc 0.900, test loss 0.3381, test acc 0.904\n"
          ]
        }
      ]
    },
    {
      "cell_type": "code",
      "source": [
        "Draw_Curve([train_mnist_loss_nn,\"ReLU\"],[train_mnist_loss_nn_tanh,\"tanh\"],[train_mnist_loss_nn_LR,\"LeakyReLu\"],ylabel = \"loss\")"
      ],
      "metadata": {
        "colab": {
          "base_uri": "https://localhost:8080/",
          "height": 279
        },
        "id": "eSFYFizGy0Rf",
        "outputId": "4d7b83c3-f00b-4d6c-f712-8fa9bd329204"
      },
      "execution_count": 56,
      "outputs": [
        {
          "output_type": "display_data",
          "data": {
            "text/plain": [
              "<Figure size 432x288 with 1 Axes>"
            ],
            "image/png": "[encoded data removed]"
          },
          "metadata": {
            "needs_background": "light"
          }
        }
      ]
    },
    {
      "cell_type": "markdown",
      "source": [
        "# 更改隐藏神经元数量"
      ],
      "metadata": {
        "id": "oaF5wCfFyDiB"
      }
    },
    {
      "cell_type": "code",
      "source": [
        "#256\n",
        "net = Net_mnist_nn()\n",
        "num_epochs = 10\n",
        "lr = 0.005\n",
        "loss = torch.nn.CrossEntropyLoss()\n",
        "optimizer = torch.optim.SGD(net.parameters(),lr)\n",
        "train_mnist_loss_nn_256,test_mnist_loss_nn_256=train_mnist_nn(net,train_iter,loss,num_epochs,lr,optimizer)"
      ],
      "metadata": {
        "colab": {
          "base_uri": "https://localhost:8080/"
        },
        "id": "E95Pl-jfyJBI",
        "outputId": "92995d99-a1f4-43c1-b6aa-a4099bff8f3e"
      },
      "execution_count": null,
      "outputs": [
        {
          "output_type": "stream",
          "name": "stdout",
          "text": [
            "正确的数量为：34802\n",
            "epoch 1, train loss 2.1550, train acc 0.580, test loss 1.7988, test acc 0.692\n",
            "正确的数量为：44772\n",
            "epoch 2, train loss 1.2599, train acc 0.746, test loss 0.8490, test acc 0.811\n",
            "正确的数量为：49840\n",
            "epoch 3, train loss 0.7117, train acc 0.831, test loss 0.5810, test acc 0.856\n",
            "正确的数量为：51771\n",
            "epoch 4, train loss 0.5414, train acc 0.863, test loss 0.4738, test acc 0.878\n",
            "正确的数量为：52711\n",
            "epoch 5, train loss 0.4631, train acc 0.879, test loss 0.4180, test acc 0.890\n",
            "正确的数量为：53238\n",
            "epoch 6, train loss 0.4185, train acc 0.887, test loss 0.3848, test acc 0.896\n",
            "正确的数量为：53596\n",
            "epoch 7, train loss 0.3898, train acc 0.893, test loss 0.3610, test acc 0.899\n",
            "正确的数量为：53844\n",
            "epoch 8, train loss 0.3695, train acc 0.897, test loss 0.3450, test acc 0.903\n",
            "正确的数量为：54042\n",
            "epoch 9, train loss 0.3542, train acc 0.901, test loss 0.3321, test acc 0.904\n",
            "正确的数量为：54218\n",
            "epoch 10, train loss 0.3419, train acc 0.904, test loss 0.3216, test acc 0.907\n"
          ]
        }
      ]
    },
    {
      "cell_type": "code",
      "source": [
        "#64\n",
        "net = Net_mnist_nn()\n",
        "num_epochs = 10\n",
        "lr = 0.005\n",
        "loss = torch.nn.CrossEntropyLoss()\n",
        "optimizer = torch.optim.SGD(net.parameters(),lr)\n",
        "train_mnist_loss_nn_64,test_mnist_loss_nn_64=train_mnist_nn(net,train_iter,loss,num_epochs,lr,optimizer)"
      ],
      "metadata": {
        "colab": {
          "base_uri": "https://localhost:8080/"
        },
        "id": "oMzDV0xEzbcv",
        "outputId": "4fafac49-5fda-462d-d6fb-5a4c2f6795e4"
      },
      "execution_count": null,
      "outputs": [
        {
          "output_type": "stream",
          "name": "stdout",
          "text": [
            "正确的数量为：20439\n",
            "epoch 1, train loss 2.2603, train acc 0.341, test loss 2.1354, test acc 0.435\n",
            "正确的数量为：37537\n",
            "epoch 2, train loss 1.6891, train acc 0.626, test loss 1.1660, test acc 0.747\n",
            "正确的数量为：47151\n",
            "epoch 3, train loss 0.9093, train acc 0.786, test loss 0.7025, test acc 0.825\n",
            "正确的数量为：50412\n",
            "epoch 4, train loss 0.6296, train acc 0.840, test loss 0.5382, test acc 0.862\n",
            "正确的数量为：51947\n",
            "epoch 5, train loss 0.5151, train acc 0.866, test loss 0.4591, test acc 0.880\n",
            "正确的数量为：52742\n",
            "epoch 6, train loss 0.4537, train acc 0.879, test loss 0.4134, test acc 0.889\n",
            "正确的数量为：53226\n",
            "epoch 7, train loss 0.4161, train acc 0.887, test loss 0.3841, test acc 0.893\n",
            "正确的数量为：53539\n",
            "epoch 8, train loss 0.3905, train acc 0.892, test loss 0.3618, test acc 0.898\n",
            "正确的数量为：53810\n",
            "epoch 9, train loss 0.3718, train acc 0.897, test loss 0.3480, test acc 0.902\n",
            "正确的数量为：53986\n",
            "epoch 10, train loss 0.3568, train acc 0.900, test loss 0.3352, test acc 0.906\n"
          ]
        }
      ]
    },
    {
      "cell_type": "code",
      "source": [
        "Draw_Curve([train_mnist_loss_nn,\"128\"],[train_mnist_loss_nn_256,\"256\"],[train_mnist_loss_nn_64,\"64\"],ylabel = \"loss\")"
      ],
      "metadata": {
        "colab": {
          "base_uri": "https://localhost:8080/",
          "height": 279
        },
        "id": "bSyUEwjy0awu",
        "outputId": "2cbeb729-28dc-4ccb-cd7c-da919c2fa3bb"
      },
      "execution_count": null,
      "outputs": [
        {
          "output_type": "display_data",
          "data": {
            "text/plain": [
              "<Figure size 432x288 with 1 Axes>"
            ],
            "image/png": "[encoded data removed]"
          },
          "metadata": {
            "needs_background": "light"
          }
        }
      ]
    },
    {
      "cell_type": "markdown",
      "source": [
        "# 更改隐藏层数"
      ],
      "metadata": {
        "id": "nDzgnUYO0rqE"
      }
    },
    {
      "cell_type": "code",
      "source": [
        "#2层，每一层64个神经元\n",
        "net = Net_mnist_nn()\n",
        "num_epochs = 10\n",
        "lr = 0.005\n",
        "loss = torch.nn.CrossEntropyLoss()\n",
        "optimizer = torch.optim.SGD(net.parameters(),lr)\n",
        "train_mnist_loss_nn_2,test_mnist_loss_nn_2=train_mnist_nn(net,train_iter,loss,num_epochs,lr,optimizer)"
      ],
      "metadata": {
        "colab": {
          "base_uri": "https://localhost:8080/"
        },
        "id": "sSV9Irwx0wEz",
        "outputId": "59e9e4dc-77c7-47aa-b4a9-5855cde026cf"
      },
      "execution_count": null,
      "outputs": [
        {
          "output_type": "stream",
          "name": "stdout",
          "text": [
            "正确的数量为：6766\n",
            "epoch 1, train loss 2.3019, train acc 0.113, test loss 2.3014, test acc 0.114\n",
            "正确的数量为：6742\n",
            "epoch 2, train loss 2.3012, train acc 0.112, test loss 2.3008, test acc 0.114\n",
            "正确的数量为：6742\n",
            "epoch 3, train loss 2.3007, train acc 0.112, test loss 2.3003, test acc 0.114\n",
            "正确的数量为：6742\n",
            "epoch 4, train loss 2.3001, train acc 0.112, test loss 2.2995, test acc 0.114\n",
            "正确的数量为：6742\n",
            "epoch 5, train loss 2.2988, train acc 0.112, test loss 2.2973, test acc 0.114\n",
            "正确的数量为：7335\n",
            "epoch 6, train loss 2.2939, train acc 0.122, test loss 2.2867, test acc 0.178\n",
            "正确的数量为：12326\n",
            "epoch 7, train loss 2.2517, train acc 0.205, test loss 2.1728, test acc 0.209\n",
            "正确的数量为：13389\n",
            "epoch 8, train loss 2.0546, train acc 0.223, test loss 1.9150, test acc 0.274\n",
            "正确的数量为：19004\n",
            "epoch 9, train loss 1.7656, train acc 0.317, test loss 1.6373, test acc 0.368\n",
            "正确的数量为：24863\n",
            "epoch 10, train loss 1.5767, train acc 0.414, test loss 1.4911, test acc 0.481\n"
          ]
        }
      ]
    },
    {
      "cell_type": "code",
      "source": [
        "#3层，每一层64个神经元\n",
        "net = Net_mnist_nn()\n",
        "num_epochs = 10\n",
        "lr = 0.005\n",
        "loss = torch.nn.CrossEntropyLoss()\n",
        "optimizer = torch.optim.SGD(net.parameters(),lr)\n",
        "train_mnist_loss_nn_3,test_mnist_loss_nn_3=train_mnist_nn(net,train_iter,loss,num_epochs,lr,optimizer)"
      ],
      "metadata": {
        "colab": {
          "base_uri": "https://localhost:8080/"
        },
        "id": "hfYNHu_G1_8M",
        "outputId": "f9e3281b-da08-4127-de3c-689f8fe006a1"
      },
      "execution_count": null,
      "outputs": [
        {
          "output_type": "stream",
          "name": "stdout",
          "text": [
            "正确的数量为：6255\n",
            "epoch 1, train loss 2.3024, train acc 0.104, test loss 2.3018, test acc 0.114\n",
            "正确的数量为：6742\n",
            "epoch 2, train loss 2.3016, train acc 0.112, test loss 2.3014, test acc 0.114\n",
            "正确的数量为：6742\n",
            "epoch 3, train loss 2.3014, train acc 0.112, test loss 2.3012, test acc 0.114\n",
            "正确的数量为：6742\n",
            "epoch 4, train loss 2.3012, train acc 0.112, test loss 2.3011, test acc 0.114\n",
            "正确的数量为：6742\n",
            "epoch 5, train loss 2.3012, train acc 0.112, test loss 2.3011, test acc 0.114\n",
            "正确的数量为：6742\n",
            "epoch 6, train loss 2.3012, train acc 0.112, test loss 2.3010, test acc 0.114\n",
            "正确的数量为：6742\n",
            "epoch 7, train loss 2.3012, train acc 0.112, test loss 2.3010, test acc 0.114\n",
            "正确的数量为：6742\n",
            "epoch 8, train loss 2.3012, train acc 0.112, test loss 2.3010, test acc 0.114\n",
            "正确的数量为：6742\n",
            "epoch 9, train loss 2.3012, train acc 0.112, test loss 2.3010, test acc 0.114\n",
            "正确的数量为：6742\n",
            "epoch 10, train loss 2.3012, train acc 0.112, test loss 2.3010, test acc 0.114\n"
          ]
        }
      ]
    },
    {
      "cell_type": "code",
      "source": [
        "Draw_Curve([train_mnist_loss_nn_64,\"1\"],[train_mnist_loss_nn_2,\"2\"],[train_mnist_loss_nn_3,\"3\"],ylabel = \"loss\")"
      ],
      "metadata": {
        "colab": {
          "base_uri": "https://localhost:8080/",
          "height": 279
        },
        "id": "O3RkZdrd3M-v",
        "outputId": "f2e164e8-f908-400e-ea3e-36b4c6dde64c"
      },
      "execution_count": null,
      "outputs": [
        {
          "output_type": "display_data",
          "data": {
            "text/plain": [
              "<Figure size 432x288 with 1 Axes>"
            ],
            "image/png": "[encoded data removed]"
          },
          "metadata": {
            "needs_background": "light"
          }
        }
      ]
    },
    {
      "cell_type": "markdown",
      "source": [
        "# 实现dropout"
      ],
      "metadata": {
        "id": "qqfvNZiz4cBE"
      }
    },
    {
      "cell_type": "markdown",
      "source": [
        "## 手动实现dropout"
      ],
      "metadata": {
        "id": "tR8WkoRT6TXW"
      }
    },
    {
      "cell_type": "code",
      "source": [
        "def dropout(X,drop_prob):\n",
        "  X = X.float()\n",
        "  assert 0 <= drop_prob <= 1\n",
        "  keep_prob = 1 - drop_prob\n",
        "  if keep_prob == 0:\n",
        "    return torch.zeros_like(X)\n",
        "  mask = (torch.rand(X.shape) < keep_prob).float()\n",
        "  return mask * X / keep_prob"
      ],
      "metadata": {
        "id": "uWXTD3s76WXU"
      },
      "execution_count": null,
      "outputs": []
    },
    {
      "cell_type": "code",
      "source": [
        "num_inputs_mnist,num_outputs_mnist,num_hiddens_mnist = 28*28,10,128\n",
        "\n",
        "W1 = torch.tensor(np.random.normal(0,0.01,(num_hiddens_mnist,num_inputs_mnist)),dtype = torch.float)\n",
        "b1 = torch.zeros(1,dtype = torch.float)\n",
        "W2 = torch.tensor(np.random.normal(0,0.01,(num_outputs_mnist,num_hiddens_mnist)),dtype = torch.float)\n",
        "b2 = torch.zeros(1,dtype = torch.float)\n",
        "\n",
        "params = [W1,b1,W2,b2]\n",
        "\n",
        "for param in params:\n",
        "  param.requires_grad_(requires_grad = True)"
      ],
      "metadata": {
        "id": "96m_x3i58ZZG"
      },
      "execution_count": null,
      "outputs": []
    },
    {
      "cell_type": "code",
      "source": [
        "drop_prob1 = 0.1\n",
        "drop_prob2 = 0.2\n",
        "drop_prob3 = 0.5\n",
        "\n",
        "def net_drop(X, is_training=True):\n",
        "  X = X.view(-1, num_inputs_mnist)\n",
        "  H1 = (torch.matmul(X, W1.t()) + b1).relu()\n",
        "  if is_training:\n",
        "    H1 = dropout(H1, drop_prob3)     #修改丢弃率\n",
        "  return (torch.matmul(H1,W2.t()) + b2).relu()"
      ],
      "metadata": {
        "id": "zwC66MYu7W3A"
      },
      "execution_count": null,
      "outputs": []
    },
    {
      "cell_type": "code",
      "source": [
        "def evaluate_accuracy_drop(data_iter,net,loss_func):\n",
        "  acc_sum,n,test_l_sum,c= 0.0,0,0.0,0\n",
        "  for X,y in data_iter:\n",
        "    acc_sum += (net(X,is_training=False).argmax(dim = 1) == y).sum().item()\n",
        "    l = loss_func(net(X),y)\n",
        "    test_l_sum += l.sum().item()\n",
        "    c += 1\n",
        "    n += y.shape[0]\n",
        "  return acc_sum/n,test_l_sum/c"
      ],
      "metadata": {
        "id": "FmsZ_u1Q9QoV"
      },
      "execution_count": null,
      "outputs": []
    },
    {
      "cell_type": "code",
      "source": [
        "def train_mnist_nn(net, train_iter, loss_func, num_epoch, lr, optimizer):\n",
        "  train_loss_list,train_acc_list,test_loss_list,test_acc_list = [],[],[],[]\n",
        "  for epoch in range(num_epoch):\n",
        "    train_l_sum,train_acc_sum,n,c = 0.0,0.0,0,0\n",
        "    for X,y in train_iter:\n",
        "      y_hat = net(X)\n",
        "      l = loss_func(y_hat,y)\n",
        "      #梯度清理\n",
        "      optimizer.zero_grad()\n",
        "      l.backward()\n",
        "      optimizer.step()\n",
        "      train_l_sum += l.item()\n",
        "      train_acc_sum += (y_hat.argmax(dim=1) == y).sum().item()\n",
        "      n += y.shape[0]\n",
        "      c += 1\n",
        "    test_acc,test_loss = evaluate_accuracy_drop(test_iter,net,loss_func)\n",
        "    train_loss_list.append(train_l_sum/c)\n",
        "    train_acc_list.append(train_acc_sum/n)\n",
        "    test_loss_list.append(test_loss)\n",
        "    test_acc_list.append(test_acc)\n",
        "    # print('epoch %d, train loss %.4f, test loss %.4f'%(epoch+1, train_l_sum/n, test_loss))\n",
        "    print('epoch %d, train loss %.4f, train acc %.3f, test loss %.4f, test acc %.3f'\n",
        "    %(epoch+1, train_l_sum/c, train_acc_sum/n, test_loss,test_acc))\n",
        "  return train_loss_list,test_loss_list"
      ],
      "metadata": {
        "id": "Gntl59qM-DWF"
      },
      "execution_count": null,
      "outputs": []
    },
    {
      "cell_type": "code",
      "source": [
        "#0.1丢弃率\n",
        "num_epochs = 10\n",
        "lr = 0.01\n",
        "loss = torch.nn.CrossEntropyLoss()\n",
        "optimizer = torch.optim.SGD([W1,b1,W2,b2],lr)\n",
        "train_mnist_loss_nn_drop,test_mnist_loss_nn_drop=train_mnist_nn(net_drop,train_iter,loss,num_epochs,lr,optimizer)"
      ],
      "metadata": {
        "colab": {
          "base_uri": "https://localhost:8080/"
        },
        "id": "KrDodlvI9rJ1",
        "outputId": "75777546-5b11-40bb-c934-840764b50c81"
      },
      "execution_count": null,
      "outputs": [
        {
          "output_type": "stream",
          "name": "stdout",
          "text": [
            "epoch 1, train loss 1.8325, train acc 0.544, test loss 0.9695, test acc 0.787\n",
            "epoch 2, train loss 0.6955, train acc 0.819, test loss 0.5240, test acc 0.869\n",
            "epoch 3, train loss 0.4817, train acc 0.866, test loss 0.4185, test acc 0.894\n",
            "epoch 4, train loss 0.4124, train acc 0.883, test loss 0.3770, test acc 0.900\n",
            "epoch 5, train loss 0.3753, train acc 0.892, test loss 0.3463, test acc 0.906\n",
            "epoch 6, train loss 0.3510, train acc 0.899, test loss 0.3292, test acc 0.911\n",
            "epoch 7, train loss 0.3314, train acc 0.904, test loss 0.3111, test acc 0.916\n",
            "epoch 8, train loss 0.3166, train acc 0.908, test loss 0.3011, test acc 0.919\n",
            "epoch 9, train loss 0.3018, train acc 0.913, test loss 0.2874, test acc 0.921\n",
            "epoch 10, train loss 0.2884, train acc 0.917, test loss 0.2745, test acc 0.925\n"
          ]
        }
      ]
    },
    {
      "cell_type": "code",
      "source": [
        "#0.2丢弃率\n",
        "num_epochs = 10\n",
        "lr = 0.01\n",
        "loss = torch.nn.CrossEntropyLoss()\n",
        "optimizer = torch.optim.SGD([W1,b1,W2,b2],lr)\n",
        "train_mnist_loss_nn_drop2,test_mnist_loss_nn_drop2=train_mnist_nn(net_drop,train_iter,loss,num_epochs,lr,optimizer)"
      ],
      "metadata": {
        "colab": {
          "base_uri": "https://localhost:8080/"
        },
        "id": "1b4ueiQK_S9H",
        "outputId": "8845b8b1-9ea3-4073-dc60-75b68d2715ff"
      },
      "execution_count": null,
      "outputs": [
        {
          "output_type": "stream",
          "name": "stdout",
          "text": [
            "epoch 1, train loss 1.8305, train acc 0.566, test loss 0.9902, test acc 0.795\n",
            "epoch 2, train loss 0.7162, train acc 0.811, test loss 0.5453, test acc 0.873\n",
            "epoch 3, train loss 0.4976, train acc 0.862, test loss 0.4364, test acc 0.892\n",
            "epoch 4, train loss 0.4262, train acc 0.879, test loss 0.3861, test acc 0.903\n",
            "epoch 5, train loss 0.3845, train acc 0.891, test loss 0.3571, test acc 0.909\n",
            "epoch 6, train loss 0.3598, train acc 0.897, test loss 0.3374, test acc 0.913\n",
            "epoch 7, train loss 0.3375, train acc 0.903, test loss 0.3148, test acc 0.918\n",
            "epoch 8, train loss 0.3195, train acc 0.908, test loss 0.3047, test acc 0.920\n",
            "epoch 9, train loss 0.3046, train acc 0.913, test loss 0.2857, test acc 0.925\n",
            "epoch 10, train loss 0.2919, train acc 0.916, test loss 0.2782, test acc 0.927\n"
          ]
        }
      ]
    },
    {
      "cell_type": "code",
      "source": [
        "#0.5丢弃率\n",
        "num_epochs = 10\n",
        "lr = 0.01\n",
        "loss = torch.nn.CrossEntropyLoss()\n",
        "optimizer = torch.optim.SGD([W1,b1,W2,b2],lr)\n",
        "train_mnist_loss_nn_drop5,test_mnist_loss_nn_drop5=train_mnist_nn(net_drop,train_iter,loss,num_epochs,lr,optimizer)"
      ],
      "metadata": {
        "colab": {
          "base_uri": "https://localhost:8080/"
        },
        "id": "zm5OAi4h_3uh",
        "outputId": "ebf47cc7-a1ae-41d1-f8a2-e70e0c429906"
      },
      "execution_count": null,
      "outputs": [
        {
          "output_type": "stream",
          "name": "stdout",
          "text": [
            "epoch 1, train loss 1.8829, train acc 0.486, test loss 1.1114, test acc 0.774\n",
            "epoch 2, train loss 0.8322, train acc 0.763, test loss 0.6466, test acc 0.861\n",
            "epoch 3, train loss 0.5889, train acc 0.831, test loss 0.5174, test acc 0.889\n",
            "epoch 4, train loss 0.4976, train acc 0.858, test loss 0.4505, test acc 0.901\n",
            "epoch 5, train loss 0.4473, train acc 0.872, test loss 0.4121, test acc 0.907\n",
            "epoch 6, train loss 0.4116, train acc 0.882, test loss 0.3808, test acc 0.914\n",
            "epoch 7, train loss 0.3856, train acc 0.890, test loss 0.3579, test acc 0.917\n",
            "epoch 8, train loss 0.3634, train acc 0.895, test loss 0.3470, test acc 0.922\n",
            "epoch 9, train loss 0.3476, train acc 0.900, test loss 0.3274, test acc 0.925\n",
            "epoch 10, train loss 0.3356, train acc 0.904, test loss 0.3131, test acc 0.928\n"
          ]
        }
      ]
    },
    {
      "cell_type": "code",
      "source": [
        "Draw_Curve([train_mnist_loss_nn_drop,\"dropout0.1\"],[train_mnist_loss_nn_drop2,\"dropout0.2\"],[train_mnist_loss_nn_drop5,\"dropout0.5\"],ylabel = \"loss\")"
      ],
      "metadata": {
        "colab": {
          "base_uri": "https://localhost:8080/",
          "height": 279
        },
        "id": "0nwdWUxIAmXv",
        "outputId": "f253aca8-f5e1-4cb1-d49b-e6aa8e954916"
      },
      "execution_count": null,
      "outputs": [
        {
          "output_type": "display_data",
          "data": {
            "text/plain": [
              "<Figure size 432x288 with 1 Axes>"
            ],
            "image/png": "[encoded data removed]"
          },
          "metadata": {
            "needs_background": "light"
          }
        }
      ]
    },
    {
      "cell_type": "markdown",
      "source": [
        "## torch.nn实现dropout"
      ],
      "metadata": {
        "id": "do2ch2Y0AdU9"
      }
    },
    {
      "cell_type": "code",
      "source": [
        "drop_prob1 = 0.1\n",
        "drop_prob2 = 0.2\n",
        "drop_prob3 = 0.5\n",
        "class Net_mnist_nn(nn.Module):\n",
        "  def __init__(self):\n",
        "    super(Net_mnist_nn,self).__init__()\n",
        "    #定义输入输出和隐藏层的神经元数量\n",
        "    num_inputs_mnist_nn,num_hiddens_mnist_nn,num_outputs_mnist_nn = 28*28,64,10\n",
        "    #定义模型结构\n",
        "    self.input_layer = lambda x: x.view(x.shape[0],-1)\n",
        "    self.hidden_layer = nn.Sequential(\n",
        "      nn.Linear(num_inputs_mnist_nn,num_hiddens_mnist_nn),\n",
        "      nn.ReLU()\n",
        "    )\n",
        "    self.dropout = nn.Dropout(drop_prob1)   #修改丢弃率\n",
        "    self.output_layer = nn.Linear(num_hiddens_mnist_nn,num_outputs_mnist_nn)\n",
        "    #初始化参数\n",
        "    for h_param in self.hidden_layer.parameters():\n",
        "      torch.nn.init.normal_(h_param,mean = 0,std = 0.01)\n",
        "    for o_param in self.output_layer.parameters():\n",
        "      torch.nn.init.normal_(o_param,mean = 0,std = 0.01)\n",
        "  #定义模型前向传播过程\n",
        "  def forward(self,x):\n",
        "    flatten_input = self.input_layer(x)\n",
        "    hidden_drop = self.hidden_layer(flatten_input)\n",
        "    drop_output = self.dropout(hidden_drop)\n",
        "    final_output = self.output_layer(drop_output)\n",
        "    return final_output"
      ],
      "metadata": {
        "id": "VU7yatTYBak0"
      },
      "execution_count": null,
      "outputs": []
    },
    {
      "cell_type": "code",
      "source": [
        "def evaluate_accuracy_dropn(data_iter,net,loss_func):\n",
        "  acc_sum,n,test_l_sum,c= 0.0,0,0.0,0\n",
        "  for X,y in data_iter:\n",
        "    if isinstance(net,torch.nn.Module):\n",
        "      net.eval()\n",
        "      acc_sum += (net(X).argmax(dim = 1) == y).sum().item()\n",
        "      l = loss_func(net(X),y)\n",
        "      test_l_sum += l.sum().item()\n",
        "      net.train()\n",
        "    c += 1\n",
        "    n += y.shape[0]\n",
        "  return acc_sum/n,test_l_sum/c"
      ],
      "metadata": {
        "id": "X2YFNmI9C3VD"
      },
      "execution_count": null,
      "outputs": []
    },
    {
      "cell_type": "code",
      "source": [
        "def train_mnist_nn_dropn(net, train_iter, loss_func, num_epoch, lr, optimizer):\n",
        "  train_loss_list,train_acc_list,test_loss_list,test_acc_list = [],[],[],[]\n",
        "  for epoch in range(num_epoch):\n",
        "    train_l_sum,train_acc_sum,n,c = 0.0,0.0,0,0\n",
        "    for X,y in train_iter:\n",
        "      y_hat = net(X)\n",
        "      l = loss_func(y_hat,y)\n",
        "      #梯度清理\n",
        "      optimizer.zero_grad()\n",
        "      l.backward()\n",
        "      optimizer.step()\n",
        "      train_l_sum += l.item()\n",
        "      train_acc_sum += (y_hat.argmax(dim=1) == y).sum().item()\n",
        "      n += y.shape[0]\n",
        "      c += 1\n",
        "    test_acc,test_loss = evaluate_accuracy_dropn(test_iter,net,loss_func)\n",
        "    train_loss_list.append(train_l_sum/c)\n",
        "    train_acc_list.append(train_acc_sum/n)\n",
        "    test_loss_list.append(test_loss)\n",
        "    test_acc_list.append(test_acc)\n",
        "    # print('epoch %d, train loss %.4f, test loss %.4f'%(epoch+1, train_l_sum/n, test_loss))\n",
        "    print('epoch %d, train loss %.4f, train acc %.3f, test loss %.4f, test acc %.3f'\n",
        "    %(epoch+1, train_l_sum/c, train_acc_sum/n, test_loss,test_acc))\n",
        "  return train_loss_list,test_loss_list"
      ],
      "metadata": {
        "id": "n8tdNw3CCoWJ"
      },
      "execution_count": null,
      "outputs": []
    },
    {
      "cell_type": "code",
      "source": [
        "#丢弃率0.1\n",
        "net = Net_mnist_nn()\n",
        "num_epochs = 10\n",
        "lr = 0.01\n",
        "loss = torch.nn.CrossEntropyLoss()\n",
        "optimizer = torch.optim.SGD(net.parameters(),lr)\n",
        "train_mnist_loss_nn_dropn1,test_mnist_loss_nn_dropn1=train_mnist_nn_dropn(net,train_iter,loss,num_epochs,lr,optimizer)"
      ],
      "metadata": {
        "colab": {
          "base_uri": "https://localhost:8080/"
        },
        "id": "pDUx7Yb5Dvxt",
        "outputId": "1318f37b-ab38-4e4e-dc68-face45c0b8f8"
      },
      "execution_count": null,
      "outputs": [
        {
          "output_type": "stream",
          "name": "stdout",
          "text": [
            "epoch 1, train loss 1.9474, train acc 0.511, test loss 1.1270, test acc 0.757\n",
            "epoch 2, train loss 0.8028, train acc 0.789, test loss 0.5495, test acc 0.862\n",
            "epoch 3, train loss 0.5381, train acc 0.850, test loss 0.4263, test acc 0.889\n",
            "epoch 4, train loss 0.4534, train acc 0.871, test loss 0.3732, test acc 0.897\n",
            "epoch 5, train loss 0.4087, train acc 0.883, test loss 0.3424, test acc 0.905\n",
            "epoch 6, train loss 0.3781, train acc 0.891, test loss 0.3219, test acc 0.910\n",
            "epoch 7, train loss 0.3588, train acc 0.897, test loss 0.3048, test acc 0.915\n",
            "epoch 8, train loss 0.3387, train acc 0.901, test loss 0.2908, test acc 0.917\n",
            "epoch 9, train loss 0.3258, train acc 0.907, test loss 0.2784, test acc 0.922\n",
            "epoch 10, train loss 0.3115, train acc 0.910, test loss 0.2686, test acc 0.924\n"
          ]
        }
      ]
    },
    {
      "cell_type": "code",
      "source": [
        "#丢弃率0.2\n",
        "net = Net_mnist_nn()\n",
        "num_epochs = 10\n",
        "lr = 0.01\n",
        "loss = torch.nn.CrossEntropyLoss()\n",
        "optimizer = torch.optim.SGD(net.parameters(),lr)\n",
        "train_mnist_loss_nn_dropn2,test_mnist_loss_nn_dropn2=train_mnist_nn(net,train_iter,loss,num_epochs,lr,optimizer)"
      ],
      "metadata": {
        "colab": {
          "base_uri": "https://localhost:8080/"
        },
        "id": "cgYyrT4BEzPp",
        "outputId": "9ea636bd-95c3-4412-9737-64bba9112daa"
      },
      "execution_count": null,
      "outputs": [
        {
          "output_type": "stream",
          "name": "stdout",
          "text": [
            "epoch 1, train loss 2.0090, train acc 0.474, test loss 1.2192, test acc 0.735\n",
            "epoch 2, train loss 0.8802, train acc 0.756, test loss 0.5739, test acc 0.857\n",
            "epoch 3, train loss 0.5829, train acc 0.835, test loss 0.4350, test acc 0.887\n",
            "epoch 4, train loss 0.4858, train acc 0.862, test loss 0.3775, test acc 0.897\n",
            "epoch 5, train loss 0.4353, train acc 0.876, test loss 0.3452, test acc 0.903\n",
            "epoch 6, train loss 0.3999, train acc 0.886, test loss 0.3224, test acc 0.910\n",
            "epoch 7, train loss 0.3755, train acc 0.893, test loss 0.3051, test acc 0.915\n",
            "epoch 8, train loss 0.3551, train acc 0.899, test loss 0.2907, test acc 0.918\n",
            "epoch 9, train loss 0.3396, train acc 0.903, test loss 0.2782, test acc 0.922\n",
            "epoch 10, train loss 0.3242, train acc 0.906, test loss 0.2678, test acc 0.925\n"
          ]
        }
      ]
    },
    {
      "cell_type": "code",
      "source": [
        "#丢弃率0.5\n",
        "net = Net_mnist_nn()\n",
        "num_epochs = 10\n",
        "lr = 0.01\n",
        "loss = torch.nn.CrossEntropyLoss()\n",
        "optimizer = torch.optim.SGD(net.parameters(),lr)\n",
        "train_mnist_loss_nn_dropn3,test_mnist_loss_nn_dropn3=train_mnist_nn(net,train_iter,loss,num_epochs,lr,optimizer)"
      ],
      "metadata": {
        "colab": {
          "base_uri": "https://localhost:8080/"
        },
        "id": "kLBCttQzFS1J",
        "outputId": "63264497-f0bd-4a43-d366-b46f098d41a7"
      },
      "execution_count": null,
      "outputs": [
        {
          "output_type": "stream",
          "name": "stdout",
          "text": [
            "epoch 1, train loss 2.0122, train acc 0.438, test loss 1.2429, test acc 0.744\n",
            "epoch 2, train loss 1.0104, train acc 0.697, test loss 0.6339, test acc 0.846\n",
            "epoch 3, train loss 0.7257, train acc 0.784, test loss 0.4871, test acc 0.877\n",
            "epoch 4, train loss 0.6163, train acc 0.820, test loss 0.4165, test acc 0.890\n",
            "epoch 5, train loss 0.5546, train acc 0.841, test loss 0.3761, test acc 0.898\n",
            "epoch 6, train loss 0.5109, train acc 0.853, test loss 0.3444, test acc 0.906\n",
            "epoch 7, train loss 0.4820, train acc 0.861, test loss 0.3240, test acc 0.911\n",
            "epoch 8, train loss 0.4561, train acc 0.871, test loss 0.3052, test acc 0.915\n",
            "epoch 9, train loss 0.4378, train acc 0.874, test loss 0.2911, test acc 0.918\n",
            "epoch 10, train loss 0.4177, train acc 0.881, test loss 0.2793, test acc 0.921\n"
          ]
        }
      ]
    },
    {
      "cell_type": "code",
      "source": [
        "Draw_Curve([train_mnist_loss_nn_dropn1,\"dropout0.1\"],[train_mnist_loss_nn_dropn2,\"dropout0.2\"],[train_mnist_loss_nn_dropn3,\"dropout0.5\"],ylabel = \"loss\")"
      ],
      "metadata": {
        "colab": {
          "base_uri": "https://localhost:8080/",
          "height": 279
        },
        "id": "Vfjxc7EuF7iD",
        "outputId": "a441583c-0973-4726-ee2b-ef9303a11895"
      },
      "execution_count": null,
      "outputs": [
        {
          "output_type": "display_data",
          "data": {
            "text/plain": [
              "<Figure size 432x288 with 1 Axes>"
            ],
            "image/png": "[encoded data removed]"
          },
          "metadata": {
            "needs_background": "light"
          }
        }
      ]
    },
    {
      "cell_type": "markdown",
      "source": [
        "# 实现L2正则化"
      ],
      "metadata": {
        "id": "p6Yrb-IXGMGD"
      }
    },
    {
      "cell_type": "markdown",
      "source": [
        "## 手动实现L2正则化"
      ],
      "metadata": {
        "id": "eopFNQeGGQ6e"
      }
    },
    {
      "cell_type": "code",
      "source": [
        "#定义L2范数\n",
        "def l2_penalty(w):\n",
        "  return (w**2).sum()/2"
      ],
      "metadata": {
        "id": "zwfOXibx26_d"
      },
      "execution_count": null,
      "outputs": []
    },
    {
      "cell_type": "code",
      "source": [
        "#参数初始化\n",
        "num_inputs_mnist,num_outputs_mnist,num_hiddens_mnist = 28*28,10,128\n",
        "def init_params():\n",
        "  W1 = torch.tensor(np.random.normal(0,0.01,(num_hiddens_mnist,num_inputs_mnist)),dtype = torch.float)\n",
        "  b1 = torch.zeros(1,dtype = torch.float)\n",
        "  W2 = torch.tensor(np.random.normal(0,0.01,(num_outputs_mnist,num_hiddens_mnist)),dtype = torch.float)\n",
        "  b2 = torch.zeros(1,dtype = torch.float)\n",
        "  params = [W1,b1,W2,b2]\n",
        "  for param in params:\n",
        "    param.requires_grad_(requires_grad = True)\n",
        "  return W1,b1,W2,b2"
      ],
      "metadata": {
        "id": "IDZGtXE8GaYp"
      },
      "execution_count": null,
      "outputs": []
    },
    {
      "cell_type": "code",
      "source": [
        "#定义模型\n",
        "def relu(X):\n",
        "  X = torch.max(input=X,other=torch.tensor(0.0))\n",
        "  return X\n",
        "def net_l2(X):\n",
        "  X = X.view((-1,num_inputs_mnist))\n",
        "  H = relu(torch.matmul(X,W1.t())+b1)\n",
        "  return torch.matmul(H,W2.t())+b2"
      ],
      "metadata": {
        "id": "hy_A1TAU3R3V"
      },
      "execution_count": null,
      "outputs": []
    },
    {
      "cell_type": "code",
      "source": [
        "#计算准确率\n",
        "def evaluate_accuracy_l2(data_iter,net,loss_func,mylambda):\n",
        "  acc_sum,n,test_l_sum,c= 0.0,0,0.0,0\n",
        "  for X,y in data_iter:\n",
        "    acc_sum += (net(X).argmax(dim = 1) == y).sum().item()\n",
        "    l = loss_func(net(X),y) + mylambda * l2_penalty(W1) + mylambda * l2_penalty(W2)\n",
        "    test_l_sum += l.sum().item()\n",
        "    c += 1\n",
        "    n += y.shape[0]\n",
        "  return acc_sum/n,test_l_sum/c"
      ],
      "metadata": {
        "id": "qMH2tx0B8lY0"
      },
      "execution_count": null,
      "outputs": []
    },
    {
      "cell_type": "code",
      "source": [
        "#定义训练函数\n",
        "def train_mnist_l2(net, train_iter, loss_func, num_epoch, lr, optimizer, mylambda):\n",
        "  train_loss_list,train_acc_list,test_loss_list,test_acc_list = [],[],[],[]\n",
        "  \n",
        "  for epoch in range(num_epoch):\n",
        "    train_l_sum,train_acc_sum,n,c = 0.0,0.0,0,0\n",
        "    for X,y in train_iter:\n",
        "      y_hat = net(X)\n",
        "      l = loss_func(y_hat,y) + mylambda * l2_penalty(W1) + mylambda * l2_penalty(W2)\n",
        "      #梯度清理\n",
        "      optimizer.zero_grad()\n",
        "      l.backward()\n",
        "      optimizer.step()\n",
        "      train_l_sum += l.item()\n",
        "      train_acc_sum += (y_hat.argmax(dim=1) == y).sum().item()\n",
        "      n += y.shape[0]\n",
        "      c += 1\n",
        "    test_acc,test_loss = evaluate_accuracy_l2(test_iter,net,loss_func,mylambda)\n",
        "    train_loss_list.append(train_l_sum/c)\n",
        "    train_acc_list.append(train_acc_sum/n)\n",
        "    test_loss_list.append(test_loss)\n",
        "    test_acc_list.append(test_acc)\n",
        "    # print('epoch %d, train loss %.4f, test loss %.4f'%(epoch+1, train_l_sum/n, test_loss))\n",
        "    print('epoch %d, train loss %.4f, train acc %.3f, test loss %.4f, test acc %.3f'\n",
        "    %(epoch+1, train_l_sum/c, train_acc_sum/n, test_loss,test_acc))\n",
        "  return train_loss_list,test_loss_list"
      ],
      "metadata": {
        "id": "qQBQG3se3vKZ"
      },
      "execution_count": null,
      "outputs": []
    },
    {
      "cell_type": "code",
      "source": [
        "# lambda = 1\n",
        "num_epochs = 10\n",
        "lr = 0.01\n",
        "loss = torch.nn.CrossEntropyLoss()\n",
        "W1,b1,W2,b2 = init_params()\n",
        "optimizer = torch.optim.SGD([W1,b1,W2,b2],lr)\n",
        "train_mnist_loss_l2_1,test_mnist_loss_l2_1=train_mnist_l2(net_l2,train_iter,loss,num_epochs,lr,optimizer,1)"
      ],
      "metadata": {
        "colab": {
          "base_uri": "https://localhost:8080/"
        },
        "id": "NWgTyFie4RKK",
        "outputId": "d5363027-be8c-47c0-c4c6-7d6e4926b79a"
      },
      "execution_count": null,
      "outputs": [
        {
          "output_type": "stream",
          "name": "stdout",
          "text": [
            "epoch 1, train loss 2.5756, train acc 0.171, test loss 2.3026, test acc 0.114\n",
            "epoch 2, train loss 2.3026, train acc 0.112, test loss 2.3026, test acc 0.114\n",
            "epoch 3, train loss 2.3026, train acc 0.112, test loss 2.3025, test acc 0.114\n",
            "epoch 4, train loss 2.3025, train acc 0.112, test loss 2.3025, test acc 0.114\n",
            "epoch 5, train loss 2.3025, train acc 0.112, test loss 2.3024, test acc 0.114\n",
            "epoch 6, train loss 2.3024, train acc 0.112, test loss 2.3023, test acc 0.114\n",
            "epoch 7, train loss 2.3024, train acc 0.112, test loss 2.3022, test acc 0.114\n",
            "epoch 8, train loss 2.3023, train acc 0.112, test loss 2.3022, test acc 0.114\n",
            "epoch 9, train loss 2.3022, train acc 0.112, test loss 2.3020, test acc 0.114\n",
            "epoch 10, train loss 2.3022, train acc 0.112, test loss 2.3019, test acc 0.114\n"
          ]
        }
      ]
    },
    {
      "cell_type": "code",
      "source": [
        "# lambda = 0.1\n",
        "num_epochs = 10\n",
        "lr = 0.01\n",
        "loss = torch.nn.CrossEntropyLoss()\n",
        "W1,b1,W2,b2 = init_params()\n",
        "optimizer = torch.optim.SGD([W1,b1,W2,b2],lr)\n",
        "train_mnist_loss_l2_5,test_mnist_loss_l2_5=train_mnist_l2(net_l2,train_iter,loss,num_epochs,lr,optimizer,0.1)"
      ],
      "metadata": {
        "colab": {
          "base_uri": "https://localhost:8080/"
        },
        "id": "JQW-Ih9C_UMp",
        "outputId": "b0ebabb2-e167-4bbc-e7a4-e4e72c2b797e"
      },
      "execution_count": null,
      "outputs": [
        {
          "output_type": "stream",
          "name": "stdout",
          "text": [
            "epoch 1, train loss 2.2980, train acc 0.528, test loss 1.7119, test acc 0.678\n",
            "epoch 2, train loss 1.5615, train acc 0.763, test loss 1.4690, test acc 0.809\n",
            "epoch 3, train loss 1.4693, train acc 0.818, test loss 1.4390, test acc 0.826\n",
            "epoch 4, train loss 1.4558, train acc 0.833, test loss 1.4318, test acc 0.844\n",
            "epoch 5, train loss 1.4529, train acc 0.838, test loss 1.4329, test acc 0.840\n",
            "epoch 6, train loss 1.4517, train acc 0.842, test loss 1.4298, test acc 0.845\n",
            "epoch 7, train loss 1.4514, train acc 0.843, test loss 1.4320, test acc 0.846\n",
            "epoch 8, train loss 1.4512, train acc 0.844, test loss 1.4302, test acc 0.853\n",
            "epoch 9, train loss 1.4510, train acc 0.845, test loss 1.4288, test acc 0.859\n",
            "epoch 10, train loss 1.4510, train acc 0.846, test loss 1.4309, test acc 0.852\n"
          ]
        }
      ]
    },
    {
      "cell_type": "code",
      "source": [
        "# lambda = 0.5\n",
        "num_epochs = 10\n",
        "lr = 0.01\n",
        "W1,b1,W2,b2 = init_params()\n",
        "loss = torch.nn.CrossEntropyLoss()\n",
        "optimizer = torch.optim.SGD([W1,b1,W2,b2],lr)\n",
        "train_mnist_loss_l2_2,test_mnist_loss_l2_2=train_mnist_l2(net_l2,train_iter,loss,num_epochs,lr,optimizer,0.5)"
      ],
      "metadata": {
        "colab": {
          "base_uri": "https://localhost:8080/"
        },
        "id": "PuFRDKdQAZ0V",
        "outputId": "eca5fff4-1665-443b-ce18-a7e31098939a"
      },
      "execution_count": null,
      "outputs": [
        {
          "output_type": "stream",
          "name": "stdout",
          "text": [
            "epoch 1, train loss 2.5727, train acc 0.274, test loss 2.3021, test acc 0.235\n",
            "epoch 2, train loss 2.3013, train acc 0.204, test loss 2.3000, test acc 0.193\n",
            "epoch 3, train loss 2.2996, train acc 0.191, test loss 2.2978, test acc 0.203\n",
            "epoch 4, train loss 2.2979, train acc 0.203, test loss 2.2960, test acc 0.214\n",
            "epoch 5, train loss 2.2969, train acc 0.210, test loss 2.2945, test acc 0.211\n",
            "epoch 6, train loss 2.2965, train acc 0.216, test loss 2.2942, test acc 0.208\n",
            "epoch 7, train loss 2.2965, train acc 0.214, test loss 2.2945, test acc 0.222\n",
            "epoch 8, train loss 2.2965, train acc 0.217, test loss 2.2940, test acc 0.210\n",
            "epoch 9, train loss 2.2965, train acc 0.214, test loss 2.2940, test acc 0.209\n",
            "epoch 10, train loss 2.2965, train acc 0.215, test loss 2.2941, test acc 0.210\n"
          ]
        }
      ]
    },
    {
      "cell_type": "code",
      "source": [
        "# lambda = 0.3\n",
        "num_epochs = 10\n",
        "lr = 0.01\n",
        "W1,b1,W2,b2 = init_params()\n",
        "loss = torch.nn.CrossEntropyLoss()\n",
        "optimizer = torch.optim.SGD([W1,b1,W2,b2],lr)\n",
        "train_mnist_loss_l2_3,test_mnist_loss_l2_3=train_mnist_l2(net_l2,train_iter,loss,num_epochs,lr,optimizer,0.3)"
      ],
      "metadata": {
        "colab": {
          "base_uri": "https://localhost:8080/"
        },
        "id": "Ep3hVagzEBm_",
        "outputId": "516d4cb3-ee9b-4705-d285-cdf9e043716e"
      },
      "execution_count": null,
      "outputs": [
        {
          "output_type": "stream",
          "name": "stdout",
          "text": [
            "epoch 1, train loss 2.5531, train acc 0.371, test loss 2.2417, test acc 0.356\n",
            "epoch 2, train loss 2.1872, train acc 0.424, test loss 2.1454, test acc 0.508\n",
            "epoch 3, train loss 2.1504, train acc 0.521, test loss 2.1371, test acc 0.565\n",
            "epoch 4, train loss 2.1469, train acc 0.542, test loss 2.1351, test acc 0.576\n",
            "epoch 5, train loss 2.1465, train acc 0.546, test loss 2.1351, test acc 0.549\n",
            "epoch 6, train loss 2.1463, train acc 0.547, test loss 2.1358, test acc 0.546\n",
            "epoch 7, train loss 2.1463, train acc 0.547, test loss 2.1342, test acc 0.543\n",
            "epoch 8, train loss 2.1465, train acc 0.547, test loss 2.1348, test acc 0.566\n",
            "epoch 9, train loss 2.1464, train acc 0.549, test loss 2.1356, test acc 0.521\n",
            "epoch 10, train loss 2.1464, train acc 0.547, test loss 2.1347, test acc 0.551\n"
          ]
        }
      ]
    },
    {
      "cell_type": "code",
      "source": [
        "# lambda = 0\n",
        "num_epochs = 10\n",
        "lr = 0.01\n",
        "W1,b1,W2,b2 = init_params()\n",
        "loss = torch.nn.CrossEntropyLoss()\n",
        "optimizer = torch.optim.SGD([W1,b1,W2,b2],lr)\n",
        "train_mnist_loss_l2_0,test_mnist_loss_l2_0=train_mnist_l2(net_l2,train_iter,loss,num_epochs,lr,optimizer,0)"
      ],
      "metadata": {
        "colab": {
          "base_uri": "https://localhost:8080/"
        },
        "id": "d7cMjVvMEuGO",
        "outputId": "f966ce3b-6286-4625-9220-b836c557b206"
      },
      "execution_count": null,
      "outputs": [
        {
          "output_type": "stream",
          "name": "stdout",
          "text": [
            "epoch 1, train loss 1.7617, train acc 0.579, test loss 0.8839, test acc 0.811\n",
            "epoch 2, train loss 0.6374, train acc 0.842, test loss 0.4768, test acc 0.875\n",
            "epoch 3, train loss 0.4444, train acc 0.881, test loss 0.3877, test acc 0.893\n",
            "epoch 4, train loss 0.3837, train acc 0.893, test loss 0.3498, test acc 0.902\n",
            "epoch 5, train loss 0.3532, train acc 0.900, test loss 0.3299, test acc 0.907\n",
            "epoch 6, train loss 0.3339, train acc 0.905, test loss 0.3123, test acc 0.911\n",
            "epoch 7, train loss 0.3195, train acc 0.909, test loss 0.2994, test acc 0.915\n",
            "epoch 8, train loss 0.3082, train acc 0.912, test loss 0.2930, test acc 0.918\n",
            "epoch 9, train loss 0.2982, train acc 0.915, test loss 0.2838, test acc 0.920\n",
            "epoch 10, train loss 0.2897, train acc 0.917, test loss 0.2747, test acc 0.922\n"
          ]
        }
      ]
    },
    {
      "cell_type": "code",
      "source": [
        "Draw_Curve([train_mnist_loss_l2_1,\"lambda=1\"],[train_mnist_loss_l2_3,\"lambda=0.3\"],[train_mnist_loss_l2_0,\"lambda=0\"],[train_mnist_loss_l2_5,\"lambda=0.1\"],ylabel = \"loss\")"
      ],
      "metadata": {
        "colab": {
          "base_uri": "https://localhost:8080/",
          "height": 279
        },
        "id": "f07nUcJSDClT",
        "outputId": "751f7d71-b9a5-4d56-eccb-a15b4de0cbdb"
      },
      "execution_count": null,
      "outputs": [
        {
          "output_type": "display_data",
          "data": {
            "text/plain": [
              "<Figure size 432x288 with 1 Axes>"
            ],
            "image/png": "[encoded data removed]"
          },
          "metadata": {
            "needs_background": "light"
          }
        }
      ]
    },
    {
      "cell_type": "markdown",
      "source": [
        "## torch.nn实现L2正则化"
      ],
      "metadata": {
        "id": "_haAuYyJGVba"
      }
    },
    {
      "cell_type": "code",
      "source": [
        "# 定义网络\n",
        "num_inputs_mnist,num_outputs_mnist,num_hiddens_mnist = 28*28,10,128\n",
        "class Net_mnist_l2(nn.Module):\n",
        "  def __init__(self):\n",
        "    super(Net_mnist_l2,self).__init__()\n",
        "    #定义输入输出和隐藏层的神经元数量\n",
        "    num_inputs_mnist_nn,num_hiddens_mnist_nn,num_outputs_mnist_nn = 28*28,128,10\n",
        "    #定义模型结构\n",
        "    self.input_layer = lambda x: x.view(x.shape[0],-1)\n",
        "    self.hidden_layer = nn.Sequential(\n",
        "      nn.Linear(num_inputs_mnist_nn,num_hiddens_mnist_nn),\n",
        "      nn.ReLU()\n",
        "      # nn.Tanh()\n",
        "      # nn.LeakyReLU()\n",
        "\n",
        "    )\n",
        "    self.output_layer = nn.Linear(num_hiddens_mnist_nn,num_outputs_mnist_nn)\n",
        "    #初始化参数\n",
        "    for h_param in self.hidden_layer.parameters():\n",
        "      torch.nn.init.normal_(h_param,mean = 0,std = 0.01)\n",
        "    for o_param in self.output_layer.parameters():\n",
        "      torch.nn.init.normal_(o_param,mean = 0,std = 0.01)\n",
        "  #定义模型前向传播过程\n",
        "  def forward(self,x):\n",
        "    flatten_input = self.input_layer(x)\n",
        "    hidden_output = self.hidden_layer(flatten_input)\n",
        "    final_output = self.output_layer(hidden_output)\n",
        "    return final_output"
      ],
      "metadata": {
        "id": "L53tXwBSGbAj"
      },
      "execution_count": null,
      "outputs": []
    },
    {
      "cell_type": "code",
      "source": [
        "def train_mnist_nn_l2(net, train_iter, loss_func, num_epoch, lr, lambd):\n",
        "  train_loss_list,train_acc_list,test_loss_list,test_acc_list = [],[],[],[]\n",
        "  optimizer_w = torch.optim.SGD(net.parameters(), lr=lr, weight_decay=lambd)\n",
        "  for epoch in range(num_epoch):\n",
        "    train_l_sum,train_acc_sum,n,c = 0.0,0.0,0,0\n",
        "    for X,y in train_iter:\n",
        "      y_hat = net(X)\n",
        "      l = loss_func(y_hat,y)\n",
        "      #梯度清理\n",
        "      optimizer_w.zero_grad()\n",
        "      l.backward()\n",
        "      optimizer_w.step()\n",
        "      train_l_sum += l.item()\n",
        "      train_acc_sum += (y_hat.argmax(dim=1) == y).sum().item()\n",
        "      n += y.shape[0]\n",
        "      c += 1\n",
        "    test_acc,test_loss = evaluate_accuracy(test_iter,net,loss_func)\n",
        "    train_loss_list.append(train_l_sum/c)\n",
        "    train_acc_list.append(train_acc_sum/n)\n",
        "    test_loss_list.append(test_loss)\n",
        "    test_acc_list.append(test_acc)\n",
        "    # print('epoch %d, train loss %.4f, test loss %.4f'%(epoch+1, train_l_sum/n, test_loss))\n",
        "    print('epoch %d, train loss %.4f, train acc %.3f, test loss %.4f, test acc %.3f'\n",
        "    %(epoch+1, train_l_sum/c, train_acc_sum/n, test_loss,test_acc))\n",
        "  return train_loss_list,test_loss_list"
      ],
      "metadata": {
        "id": "H9GAgHHUJopV"
      },
      "execution_count": null,
      "outputs": []
    },
    {
      "cell_type": "code",
      "source": [
        "# lambda = 0.5\n",
        "num_epochs = 10\n",
        "net = Net_mnist_l2()\n",
        "lr = 0.01\n",
        "loss = torch.nn.CrossEntropyLoss()\n",
        "train_nn_loss_l2_5,test_nn_loss_l2_5=train_mnist_nn_l2(net,train_iter,loss,num_epochs,lr,0.5)"
      ],
      "metadata": {
        "colab": {
          "base_uri": "https://localhost:8080/"
        },
        "id": "R_q-3BwiO8cM",
        "outputId": "960a7d02-02b5-4262-ac7c-ec4d8c3b38eb"
      },
      "execution_count": null,
      "outputs": [
        {
          "output_type": "stream",
          "name": "stdout",
          "text": [
            "epoch 1, train loss 1.8435, train acc 0.574, test loss 1.0072, test acc 0.772\n",
            "epoch 2, train loss 0.7208, train acc 0.828, test loss 0.5400, test acc 0.866\n",
            "epoch 3, train loss 0.4995, train acc 0.874, test loss 0.4354, test acc 0.888\n",
            "epoch 4, train loss 0.4320, train acc 0.889, test loss 0.3932, test acc 0.898\n",
            "epoch 5, train loss 0.3997, train acc 0.896, test loss 0.3706, test acc 0.903\n",
            "epoch 6, train loss 0.3810, train acc 0.900, test loss 0.3570, test acc 0.905\n",
            "epoch 7, train loss 0.3688, train acc 0.903, test loss 0.3488, test acc 0.911\n",
            "epoch 8, train loss 0.3595, train acc 0.906, test loss 0.3391, test acc 0.910\n",
            "epoch 9, train loss 0.3523, train acc 0.908, test loss 0.3338, test acc 0.914\n",
            "epoch 10, train loss 0.3463, train acc 0.910, test loss 0.3293, test acc 0.914\n"
          ]
        }
      ]
    },
    {
      "cell_type": "code",
      "source": [
        "# lambda = 0.1\n",
        "num_epochs = 10\n",
        "net = Net_mnist_l2()\n",
        "lr = 0.01\n",
        "loss = torch.nn.CrossEntropyLoss()\n",
        "train_nn_loss_l2_01,test_nn_loss_l2_01=train_mnist_nn_l2(net,train_iter,loss,num_epochs,lr,0.1)"
      ],
      "metadata": {
        "colab": {
          "base_uri": "https://localhost:8080/"
        },
        "id": "W9oRbLxZQ3BP",
        "outputId": "b1cd4191-094b-4e9e-b9d7-ac35e5020726"
      },
      "execution_count": null,
      "outputs": [
        {
          "output_type": "stream",
          "name": "stdout",
          "text": [
            "epoch 1, train loss 1.8657, train acc 0.568, test loss 1.0325, test acc 0.780\n",
            "epoch 2, train loss 0.7323, train acc 0.824, test loss 0.5461, test acc 0.864\n",
            "epoch 3, train loss 0.5037, train acc 0.872, test loss 0.4407, test acc 0.884\n",
            "epoch 4, train loss 0.4342, train acc 0.888, test loss 0.3957, test acc 0.897\n",
            "epoch 5, train loss 0.4008, train acc 0.895, test loss 0.3717, test acc 0.902\n",
            "epoch 6, train loss 0.3807, train acc 0.900, test loss 0.3577, test acc 0.906\n",
            "epoch 7, train loss 0.3673, train acc 0.904, test loss 0.3462, test acc 0.908\n",
            "epoch 8, train loss 0.3571, train acc 0.906, test loss 0.3377, test acc 0.912\n",
            "epoch 9, train loss 0.3489, train acc 0.909, test loss 0.3306, test acc 0.914\n",
            "epoch 10, train loss 0.3426, train acc 0.912, test loss 0.3250, test acc 0.916\n"
          ]
        }
      ]
    },
    {
      "cell_type": "code",
      "source": [
        "# lambda = 1\n",
        "num_epochs = 10\n",
        "net = Net_mnist_l2()\n",
        "lr = 0.01\n",
        "loss = torch.nn.CrossEntropyLoss()\n",
        "train_nn_loss_l2_1,test_nn_loss_l2_1=train_mnist_nn_l2(net,train_iter,loss,num_epochs,lr,1)"
      ],
      "metadata": {
        "colab": {
          "base_uri": "https://localhost:8080/"
        },
        "id": "41jOaodbRdAx",
        "outputId": "0f9099e3-231d-49d6-c847-b86b32196458"
      },
      "execution_count": null,
      "outputs": [
        {
          "output_type": "stream",
          "name": "stdout",
          "text": [
            "epoch 1, train loss 1.8588, train acc 0.584, test loss 1.0225, test acc 0.770\n",
            "epoch 2, train loss 0.7303, train acc 0.824, test loss 0.5461, test acc 0.864\n",
            "epoch 3, train loss 0.5033, train acc 0.873, test loss 0.4381, test acc 0.888\n",
            "epoch 4, train loss 0.4336, train acc 0.888, test loss 0.3938, test acc 0.898\n",
            "epoch 5, train loss 0.4006, train acc 0.895, test loss 0.3710, test acc 0.902\n",
            "epoch 6, train loss 0.3811, train acc 0.900, test loss 0.3567, test acc 0.906\n",
            "epoch 7, train loss 0.3682, train acc 0.903, test loss 0.3464, test acc 0.909\n",
            "epoch 8, train loss 0.3593, train acc 0.906, test loss 0.3379, test acc 0.912\n",
            "epoch 9, train loss 0.3516, train acc 0.909, test loss 0.3336, test acc 0.913\n",
            "epoch 10, train loss 0.3456, train acc 0.910, test loss 0.3296, test acc 0.916\n"
          ]
        }
      ]
    },
    {
      "cell_type": "code",
      "source": [
        "# lambda = 0\n",
        "num_epochs = 10\n",
        "net = Net_mnist_l2()\n",
        "lr = 0.01\n",
        "loss = torch.nn.CrossEntropyLoss()\n",
        "train_nn_loss_l2_0,test_nn_loss_l2_0=train_mnist_nn_l2(net,train_iter,loss,num_epochs,lr,0)"
      ],
      "metadata": {
        "colab": {
          "base_uri": "https://localhost:8080/"
        },
        "id": "g4rjPB1vSftm",
        "outputId": "df321fc0-e787-4fde-a864-415ecc2b40fe"
      },
      "execution_count": null,
      "outputs": [
        {
          "output_type": "stream",
          "name": "stdout",
          "text": [
            "epoch 1, train loss 1.8913, train acc 0.545, test loss 1.0467, test acc 0.777\n",
            "epoch 2, train loss 0.7338, train acc 0.824, test loss 0.5437, test acc 0.864\n",
            "epoch 3, train loss 0.5032, train acc 0.872, test loss 0.4386, test acc 0.887\n",
            "epoch 4, train loss 0.4349, train acc 0.888, test loss 0.3952, test acc 0.897\n",
            "epoch 5, train loss 0.4020, train acc 0.896, test loss 0.3720, test acc 0.902\n",
            "epoch 6, train loss 0.3828, train acc 0.900, test loss 0.3581, test acc 0.905\n",
            "epoch 7, train loss 0.3704, train acc 0.903, test loss 0.3487, test acc 0.909\n",
            "epoch 8, train loss 0.3612, train acc 0.906, test loss 0.3403, test acc 0.910\n",
            "epoch 9, train loss 0.3538, train acc 0.908, test loss 0.3348, test acc 0.913\n",
            "epoch 10, train loss 0.3478, train acc 0.910, test loss 0.3310, test acc 0.916\n"
          ]
        }
      ]
    },
    {
      "cell_type": "code",
      "source": [
        "Draw_Curve([train_nn_loss_l2_1,\"lambda=1\"],[train_nn_loss_l2_5,\"lambda=0.5\"],[train_nn_loss_l2_0,\"lambda=0\"],[train_nn_loss_l2_01,\"lambda=0.1\"],ylabel = \"loss\")"
      ],
      "metadata": {
        "colab": {
          "base_uri": "https://localhost:8080/",
          "height": 279
        },
        "id": "7AqU1QdjS4sJ",
        "outputId": "4759fbf8-1d67-4880-eb5f-365af40371d4"
      },
      "execution_count": null,
      "outputs": [
        {
          "output_type": "display_data",
          "data": {
            "text/plain": [
              "<Figure size 432x288 with 1 Axes>"
            ],
            "image/png": "[encoded data removed]"
          },
          "metadata": {
            "needs_background": "light"
          }
        }
      ]
    },
    {
      "cell_type": "markdown",
      "source": [
        "# K折交叉验证"
      ],
      "metadata": {
        "id": "mbxCSW2GTNVt"
      }
    },
    {
      "cell_type": "markdown",
      "source": [
        "## 回归"
      ],
      "metadata": {
        "id": "s9P33HPw3333"
      }
    },
    {
      "cell_type": "code",
      "source": [
        "def evaluate_accuracy(data_iter,net,loss_func):\n",
        "    acc_sum,n,test_l_sum,c= 0.0,0,0.0,0\n",
        "    for X,y in data_iter:\n",
        "        acc_sum += (net(X).argmax(dim = 1) == y).sum().item()\n",
        "        l = loss_func(net(X),y)\n",
        "        test_l_sum += l.sum().item()\n",
        "        c += 1\n",
        "        n += y.shape[0]\n",
        "    return acc_sum/n,test_l_sum/c\n",
        "class Net_reg_nn(nn.Module):\n",
        "    def __init__(self):\n",
        "        super(Net_reg_nn,self).__init__()\n",
        "        #定义输入输出和隐藏层的神经元数量\n",
        "        num_inputs_reg_nn,num_hiddens_reg_nn,num_outputs_reg_nn = 500,128,1\n",
        "        #定义模型结构\n",
        "        self.input_layer = lambda x: x.view(x.shape[0],-1)\n",
        "        self.hidden_layer = nn.Sequential(\n",
        "              nn.Linear(num_inputs_reg_nn,num_hiddens_reg_nn),\n",
        "              nn.ReLU()\n",
        "        )\n",
        "        self.output_layer = nn.Linear(num_hiddens_reg_nn,num_outputs_reg_nn)\n",
        "    #初始化参数\n",
        "        for h_param in self.hidden_layer.parameters():\n",
        "            torch.nn.init.normal_(h_param,mean = 0,std = 0.01)\n",
        "        for o_param in self.output_layer.parameters():\n",
        "            torch.nn.init.normal_(o_param,mean = 0,std = 0.01)\n",
        "  #定义模型前向传播过程\n",
        "    def forward(self,x):\n",
        "        flatten_input = self.input_layer(x)\n",
        "        hidden_output = self.hidden_layer(flatten_input)\n",
        "        final_output = self.output_layer(hidden_output)\n",
        "        return final_output\n",
        "\n",
        "def get_kfold_data(k,i,X,y):\n",
        "    fold_size = X.shape[0] // k\n",
        "    print(\"yes\")\n",
        "    val_start = i * fold_size  \n",
        "    if i != k - 1:\n",
        "        val_end = (i + 1) * fold_size\n",
        "        X_valid,y_valid=X[val_start:val_end],y[val_start:val_end]\n",
        "        X_train=torch.cat((X[0:val_start],X[val_end:]),dim=0)\n",
        "        y_train=torch.cat((y[0:val_start],y[val_end:]),dim=0)\n",
        "    else:\n",
        "        X_valid,y_valid=X[val_start:],y[val_start:]\n",
        "        X_train=X[0:val_start]\n",
        "        y_train=y[0:val_start]\n",
        "    return X_train,y_train,X_valid,y_valid\n",
        "def train_reg_k(net, train_data,train_label, valid_data,valid_label):\n",
        "    train_iter = Data.DataLoader(\n",
        "        dataset=Data.TensorDataset(train_data,train_label),\n",
        "        batch_size=batch_size,\n",
        "        shuffle=True,\n",
        "        num_workers=0,  # 多线程来读数据，在Win下需要设置为0\n",
        "  )\n",
        "    valid_iter = Data.DataLoader(\n",
        "        dataset=Data.TensorDataset(valid_data,valid_label),\n",
        "        batch_size=batch_size,\n",
        "        shuffle=False,\n",
        "        num_workers=0,\n",
        "  )\n",
        "    train_acc, train_l = 0.0, 0.0\n",
        "    valid_acc, valid_l = 0.0, 0.0\n",
        "    optimizer = torch.optim.SGD(net.parameters(), lr=0.01)\n",
        "    loss_func = torch.nn.MSELoss()\n",
        "    for epoch in range(20):\n",
        "        train_l_sum,train_acc_sum,n,c = 0.0,0.0,0,0\n",
        "        for X,y in train_iter:\n",
        "            y_hat = net(X)\n",
        "            l = loss_func(y_hat,y)\n",
        "            l.backward()\n",
        "            optimizer.step()\n",
        "            optimizer.zero_grad()\n",
        "            train_l_sum += l.item()\n",
        "            train_acc_sum += (y_hat.argmax(dim=1) == y).sum().item()\n",
        "            n += y.shape[0]\n",
        "            c += 1\n",
        "        test_acc,test_loss = evaluate_accuracy(valid_iter,net,loss_func)\n",
        "        valid_acc += test_acc\n",
        "        valid_l += test_loss\n",
        "        train_acc += train_acc_sum/n\n",
        "        train_l += train_l_sum/n\n",
        "    return train_l/20,valid_l/20,train_acc/20,valid_acc/20\n",
        "def kfold_train(k):\n",
        "    train_loss_sum, valid_loss_sum = 0, 0\n",
        "    train_acc_sum, valid_acc_sum = 0, 0\n",
        "    for i in range(k):\n",
        "        print('第', i+1, '折验证')\n",
        "        train_data, train_label, valid_data, valid_label = get_kfold_data(k, i, train_features_regression,train_labels_regression)\n",
        "        net = Net_reg_nn() \n",
        "        train_loss, val_loss, train_acc, val_acc = train_reg_k(net, train_data,train_label, valid_data,valid_label)\n",
        "        print('train loss %.4f, val loss %.4f' % (train_loss, val_loss))\n",
        "        train_loss_sum += train_loss\n",
        "        valid_loss_sum += val_loss\n",
        "        train_acc_sum += train_acc\n",
        "        valid_acc_sum += val_acc\n",
        "    print('\\n最终k折交叉验证结果：')\n",
        "    print('ave train loss: %.4f, ave valid loss: %.4f' % (train_loss_sum/k, valid_loss_sum/k))\n",
        "  # print('ave valid loss: %.4f, ave valid acc: %.3f' % (valid_loss_sum/k, valid_acc_sum/k))\n",
        "\n",
        "kfold_train(10)"
      ],
      "metadata": {
        "colab": {
          "base_uri": "https://localhost:8080/"
        },
        "id": "ByqsYyyb36RS",
        "outputId": "79bc1fd5-9f46-445c-946c-684d35c1e501"
      },
      "execution_count": null,
      "outputs": [
        {
          "output_type": "stream",
          "name": "stdout",
          "text": [
            "第 1 折验证\n",
            "yes\n",
            "train loss 0.0002, val loss 0.0115\n",
            "第 2 折验证\n",
            "yes\n",
            "train loss 0.0002, val loss 0.0100\n",
            "第 3 折验证\n",
            "yes\n",
            "train loss 0.0002, val loss 0.0103\n",
            "第 4 折验证\n",
            "yes\n",
            "train loss 0.0002, val loss 0.0101\n",
            "第 5 折验证\n",
            "yes\n",
            "train loss 0.0002, val loss 0.0100\n",
            "第 6 折验证\n",
            "yes\n",
            "train loss 0.0001, val loss 0.0099\n",
            "第 7 折验证\n",
            "yes\n",
            "train loss 0.0002, val loss 0.0107\n",
            "第 8 折验证\n",
            "yes\n",
            "train loss 0.0002, val loss 0.0106\n",
            "第 9 折验证\n",
            "yes\n",
            "train loss 0.0002, val loss 0.0097\n",
            "第 10 折验证\n",
            "yes\n",
            "train loss 0.0002, val loss 0.0091\n",
            "\n",
            "最终k折交叉验证结果：\n",
            "ave train loss: 0.0002, ave valid loss: 0.0102\n"
          ]
        }
      ]
    },
    {
      "cell_type": "markdown",
      "source": [
        "## 二分类"
      ],
      "metadata": {
        "id": "8DdOFCGcSSju"
      }
    },
    {
      "cell_type": "code",
      "source": [
        "def evaluate_accuracy(data_iter,net,loss_func):\n",
        "    acc_sum,n,test_l_sum,c= 0.0,0,0.0,0\n",
        "    for X,y in data_iter:\n",
        "        acc_sum += (net(X).argmax(dim = 1) == y).sum().item()\n",
        "        l = loss_func(net(X),y)\n",
        "        test_l_sum += l.sum().item()\n",
        "        c += 1\n",
        "        n += y.shape[0]\n",
        "    return acc_sum/n,test_l_sum/c\n",
        "class train_bin_nn(nn.Module):\n",
        "    def __init__(self):\n",
        "        super(train_bin_nn,self).__init__()\n",
        "        #定义输入输出和隐藏层的神经元数量\n",
        "        num_inputs_reg_nn,num_hiddens_reg_nn,num_outputs_reg_nn = 200,128,1\n",
        "        #定义模型结构\n",
        "        self.input_layer = lambda x: x.view(x.shape[0],-1)\n",
        "        self.hidden_layer = nn.Sequential(\n",
        "              nn.Linear(num_inputs_reg_nn,num_hiddens_reg_nn),\n",
        "              nn.ReLU()\n",
        "        )\n",
        "        self.output_layer = nn.Linear(num_hiddens_reg_nn,num_outputs_reg_nn)\n",
        "    #初始化参数\n",
        "        for h_param in self.hidden_layer.parameters():\n",
        "            torch.nn.init.normal_(h_param,mean = 0,std = 0.01)\n",
        "        for o_param in self.output_layer.parameters():\n",
        "            torch.nn.init.normal_(o_param,mean = 0,std = 0.01)\n",
        "  #定义模型前向传播过程\n",
        "    def forward(self,x):\n",
        "        flatten_input = self.input_layer(x)\n",
        "        hidden_output = self.hidden_layer(flatten_input)\n",
        "        final_output = self.output_layer(hidden_output)\n",
        "        return final_output\n",
        "\n",
        "def get_kfold_data(k,i,X,y):\n",
        "    fold_size = X.shape[0] // k\n",
        "    val_start = i * fold_size\n",
        "    \n",
        "    if i != k - 1:\n",
        "        val_end = (i + 1) * fold_size\n",
        "        X_valid,y_valid=X[val_start:val_end],y[val_start:val_end]\n",
        "        X_train=torch.cat((X[0:val_start],X[val_end:]),dim=0)\n",
        "        y_train=torch.cat((y[0:val_start],y[val_end:]),dim=0)\n",
        "    else:\n",
        "        X_valid,y_valid=X[val_start:],y[val_start:]\n",
        "        X_train=X[0:val_start]\n",
        "        y_train=y[0:val_start]\n",
        "    return X_train,y_train,X_valid,y_valid\n",
        "def train_reg_k(net, train_data,train_label, valid_data,valid_label):\n",
        "    train_iter = Data.DataLoader(\n",
        "        dataset=Data.TensorDataset(train_data,train_label),\n",
        "        batch_size=batch_size,\n",
        "        shuffle=True,\n",
        "        num_workers=0,  # 多线程来读数据，在Win下需要设置为0\n",
        "  )\n",
        "    valid_iter = Data.DataLoader(\n",
        "        dataset=Data.TensorDataset(valid_data,valid_label),\n",
        "        batch_size=batch_size,\n",
        "        shuffle=False,\n",
        "        num_workers=0,\n",
        "  )\n",
        "    train_acc, train_l = 0.0, 0.0\n",
        "    valid_acc, valid_l = 0.0, 0.0\n",
        "    optimizer = torch.optim.SGD(net.parameters(), lr=0.01)\n",
        "    loss_func = torch.nn.MSELoss()\n",
        "    for epoch in range(20):\n",
        "        train_l_sum,train_acc_sum,n,c = 0.0,0.0,0,0\n",
        "        for X,y in train_iter:\n",
        "            y_hat = net(X)\n",
        "            l = loss_func(y_hat,y)\n",
        "            l.backward()\n",
        "            optimizer.step()\n",
        "            optimizer.zero_grad()\n",
        "            train_l_sum += l.item()\n",
        "            train_acc_sum += (y_hat.argmax(dim=1) == y).sum().item()\n",
        "            n += y.shape[0]\n",
        "            c += 1\n",
        "        test_acc,test_loss = evaluate_accuracy(valid_iter,net,loss_func)\n",
        "        valid_acc += test_acc\n",
        "        valid_l += test_loss\n",
        "        train_acc += train_acc_sum/n\n",
        "        train_l += train_l_sum/n\n",
        "    return train_l/20,valid_l/20,train_acc/20,valid_acc/20\n",
        "def kfold_train(k):\n",
        "    train_loss_sum, valid_loss_sum = 0, 0\n",
        "    train_acc_sum, valid_acc_sum = 0, 0\n",
        "    for i in range(k):\n",
        "        print('第', i+1, '折验证')\n",
        "        train_data, train_label, valid_data, valid_label = get_kfold_data(k, i, train_features_binary,train_labels_binary)\n",
        "        net = train_bin_nn() \n",
        "        train_loss, val_loss, train_acc, val_acc = train_reg_k(net, train_data,train_label, valid_data,valid_label)\n",
        "        print('train loss %f, val loss %f' % (train_loss, val_loss))\n",
        "        train_loss_sum += train_loss\n",
        "        valid_loss_sum += val_loss\n",
        "        train_acc_sum += train_acc\n",
        "        valid_acc_sum += val_acc\n",
        "    print('\\n最终k折交叉验证结果：')\n",
        "    print('ave train loss: %f, ave valid loss: %f' % (train_loss_sum/k, valid_loss_sum/k))\n",
        "  # print('ave valid loss: %.4f, ave valid acc: %.3f' % (valid_loss_sum/k, valid_acc_sum/k))\n",
        "\n",
        "kfold_train(10)"
      ],
      "metadata": {
        "colab": {
          "base_uri": "https://localhost:8080/"
        },
        "id": "JeshSqdXSQ2X",
        "outputId": "524efb27-dae7-46ad-a703-4aefe85e7c64"
      },
      "execution_count": null,
      "outputs": [
        {
          "output_type": "stream",
          "name": "stdout",
          "text": [
            "第 1 折验证\n",
            "train loss 0.000008, val loss 0.000083\n",
            "第 2 折验证\n",
            "train loss 0.000008, val loss 0.000109\n",
            "第 3 折验证\n",
            "train loss 0.000008, val loss 0.000080\n",
            "第 4 折验证\n",
            "train loss 0.000008, val loss 0.000111\n",
            "第 5 折验证\n",
            "train loss 0.000008, val loss 0.000100\n",
            "第 6 折验证\n",
            "train loss 0.000007, val loss 0.000831\n",
            "第 7 折验证\n",
            "train loss 0.000006, val loss 0.000763\n",
            "第 8 折验证\n",
            "train loss 0.000008, val loss 0.000879\n",
            "第 9 折验证\n",
            "train loss 0.000008, val loss 0.000815\n",
            "第 10 折验证\n",
            "train loss 0.000008, val loss 0.000841\n",
            "\n",
            "最终k折交叉验证结果：\n",
            "ave train loss: 0.000008, ave valid loss: 0.000461\n"
          ]
        }
      ]
    },
    {
      "cell_type": "markdown",
      "source": [
        "## 手写数字"
      ],
      "metadata": {
        "id": "yHCe5mBdUPNQ"
      }
    },
    {
      "cell_type": "code",
      "source": [
        "def evaluate_accuracy_dropn(data_iter,net,loss_func):\n",
        "  acc_sum,n,test_l_sum,c= 0.0,0,0.0,0\n",
        "  for X,y in data_iter:\n",
        "    if isinstance(net,torch.nn.Module):\n",
        "      net.eval()\n",
        "      acc_sum += (net(X).argmax(dim = 1) == y).sum().item()\n",
        "      l = loss_func(net(X),y)\n",
        "      test_l_sum += l.sum().item()\n",
        "      net.train()\n",
        "    c += 1\n",
        "    n += y.shape[0]\n",
        "  return acc_sum/n,test_l_sum/c\n",
        "\n",
        "class Net_mnist_nn(nn.Module):\n",
        "  def __init__(self):\n",
        "    super(Net_mnist_nn,self).__init__()\n",
        "    #定义输入输出和隐藏层的神经元数量\n",
        "    num_inputs_mnist_nn,num_hiddens_mnist_nn,num_outputs_mnist_nn = 28*28,64,10\n",
        "    #定义模型结构\n",
        "    self.input_layer = lambda x: x.view(x.shape[0],-1)\n",
        "    self.hidden_layer = nn.Sequential(\n",
        "      nn.Linear(num_inputs_mnist_nn,num_hiddens_mnist_nn),\n",
        "      nn.ReLU()\n",
        "    )\n",
        "    self.dropout = nn.Dropout(0.1)   #修改丢弃率\n",
        "    self.output_layer = nn.Linear(num_hiddens_mnist_nn,num_outputs_mnist_nn)\n",
        "    #初始化参数\n",
        "    for h_param in self.hidden_layer.parameters():\n",
        "      torch.nn.init.normal_(h_param,mean = 0,std = 0.01)\n",
        "    for o_param in self.output_layer.parameters():\n",
        "      torch.nn.init.normal_(o_param,mean = 0,std = 0.01)\n",
        "  #定义模型前向传播过程\n",
        "  def forward(self,x):\n",
        "    flatten_input = self.input_layer(x)\n",
        "    hidden_drop = self.hidden_layer(flatten_input)\n",
        "    drop_output = self.dropout(hidden_drop)\n",
        "    final_output = self.output_layer(drop_output)\n",
        "    return final_output\n",
        "\n",
        "def get_kfold_datam(k,i,data):\n",
        "  fold_size = data.targets.shape[0] // k\n",
        "  valid_data = copy.deepcopy(data)\n",
        "  train_data = copy.deepcopy(data)\n",
        "  val_start = i * fold_size\n",
        "  if i != k - 1:\n",
        "    val_end = (i + 1) * fold_size\n",
        "    valid_data.data=valid_data.data[val_start:val_end]\n",
        "    valid_data.targets=valid_data.targets[val_start:val_end]\n",
        "    train_data.data=torch.cat((train_data.data[0:val_start],train_data.data[val_end:]),dim=0)\n",
        "    train_data.targets=torch.cat((train_data.targets[0:val_start],train_data.targets[val_end:]),dim=0)\n",
        "  else:\n",
        "    valid_data.data, valid_data.targets = valid_data.data[val_start:], valid_data.targets[val_start:]\n",
        "    train_data.data, train_data.targets = train_data.data[0:val_start], train_data.targets[0:val_start]\n",
        "  return train_data,valid_data\n",
        "def train_reg_k(net, train_data, valid_data):\n",
        "    train_iter = Data.DataLoader(\n",
        "        dataset=train_data,\n",
        "        batch_size=batch_size,\n",
        "        shuffle=True,\n",
        "        num_workers=0,  # 多线程来读数据，在Win下需要设置为0\n",
        "  )\n",
        "    valid_iter = Data.DataLoader(\n",
        "        dataset=valid_data,\n",
        "        batch_size=batch_size,\n",
        "        shuffle=False,\n",
        "        num_workers=0,\n",
        "  )\n",
        "    train_acc, train_l = 0.0, 0.0\n",
        "    valid_acc, valid_l = 0.0, 0.0\n",
        "    lr = 0.005\n",
        "    loss_func = torch.nn.CrossEntropyLoss()\n",
        "    optimizer = torch.optim.SGD(net.parameters(),lr)\n",
        "    for epoch in range(20):\n",
        "        train_l_sum,train_acc_sum,n,c = 0.0,0.0,0,0\n",
        "        for X,y in train_iter:\n",
        "            y_hat = net(X)\n",
        "            l = loss_func(y_hat,y)\n",
        "            l.backward()\n",
        "            optimizer.step()\n",
        "            optimizer.zero_grad()\n",
        "            train_l_sum += l.item()\n",
        "            train_acc_sum += (y_hat.argmax(dim=1) == y).sum().item()\n",
        "            n += y.shape[0]\n",
        "            c += 1\n",
        "        test_acc,test_loss = evaluate_accuracy_dropn(valid_iter,net,loss_func)\n",
        "        valid_acc += test_acc\n",
        "        valid_l += test_loss\n",
        "        train_acc += train_acc_sum/n\n",
        "        train_l += train_l_sum/n\n",
        "    return train_l/20,valid_l/20,train_acc/20,valid_acc/20\n",
        "def kfold_train(k):\n",
        "    train_loss_sum, valid_loss_sum = 0, 0\n",
        "    train_acc_sum, valid_acc_sum = 0, 0\n",
        "    for i in range(k):\n",
        "        print('第', i+1, '折验证')\n",
        "        train_data, valid_data = get_kfold_datam(k, i, mnist_train)\n",
        "        net = Net_mnist_nn() \n",
        "        train_loss, val_loss, train_acc, val_acc = train_reg_k(net, train_data, valid_data)\n",
        "        print('train loss %f, val loss %f' % (train_loss, val_loss))\n",
        "        train_loss_sum += train_loss\n",
        "        valid_loss_sum += val_loss\n",
        "        train_acc_sum += train_acc\n",
        "        valid_acc_sum += val_acc\n",
        "    print('\\n最终k折交叉验证结果：')\n",
        "    print('ave train loss: %f, ave valid loss: %f' % (train_loss_sum/k, valid_loss_sum/k))\n",
        "  # print('ave valid loss: %.4f, ave valid acc: %.3f' % (valid_loss_sum/k, valid_acc_sum/k))\n",
        "\n",
        "#时间有点久，20分钟\n",
        "kfold_train(10)"
      ],
      "metadata": {
        "colab": {
          "base_uri": "https://localhost:8080/"
        },
        "id": "L3UdZkIHSR7M",
        "outputId": "1358d66d-4fe0-4b8f-9f57-f2c91cb35408"
      },
      "execution_count": null,
      "outputs": [
        {
          "output_type": "stream",
          "name": "stdout",
          "text": [
            "第 1 折验证\n",
            "train loss 0.009626, val loss 0.521514\n",
            "第 2 折验证\n",
            "train loss 0.009604, val loss 0.534526\n",
            "第 3 折验证\n",
            "train loss 0.009692, val loss 0.584136\n",
            "第 4 折验证\n",
            "train loss 0.009859, val loss 0.534114\n",
            "第 5 折验证\n",
            "train loss 0.009854, val loss 0.561288\n",
            "第 6 折验证\n",
            "train loss 0.009589, val loss 0.556092\n",
            "第 7 折验证\n",
            "train loss 0.009707, val loss 0.552787\n",
            "第 8 折验证\n",
            "train loss 0.009660, val loss 0.558840\n",
            "第 9 折验证\n",
            "train loss 0.009543, val loss 0.551572\n",
            "第 10 折验证\n",
            "train loss 0.009846, val loss 0.489079\n",
            "\n",
            "最终k折交叉验证结果：\n",
            "ave train loss: 0.009698, ave valid loss: 0.544395\n"
          ]
        }
      ]
    }
  ]
}
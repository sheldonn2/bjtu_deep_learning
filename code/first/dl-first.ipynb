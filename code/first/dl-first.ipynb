{
 "cells": [
  {
   "cell_type": "code",
   "execution_count": 1,
   "id": "1e1ed5b9",
   "metadata": {},
   "outputs": [],
   "source": [
    "import torch\n",
    "import numpy as np\n",
    "import matplotlib.pyplot as plt\n",
    "import torch.utils.data as Data\n",
    "from torch import nn\n",
    "import torchvision\n",
    "import torchvision.transforms as transforms"
   ]
  },
  {
   "cell_type": "markdown",
   "id": "7a27a2ef",
   "metadata": {},
   "source": [
    "# 基本操作考察1"
   ]
  },
  {
   "cell_type": "markdown",
   "id": "65c9d3e6",
   "metadata": {},
   "source": [
    "随机初始化两个张量，大小分别为1×3、2×1,为了更清晰展示广播机制，我们额外增加了三种情况，两个张量行相同、列相同、以及都不相同"
   ]
  },
  {
   "cell_type": "code",
   "execution_count": 3,
   "id": "cd19dde6",
   "metadata": {},
   "outputs": [
    {
     "name": "stdout",
     "output_type": "stream",
     "text": [
      "M1=tensor([[0.2312, 0.7066, 0.5867]])，\n",
      "N1=tensor([[0.4584],\n",
      "        [0.8953]])\n",
      "M2=tensor([[0.8342, 0.3535, 0.0899],\n",
      "        [0.4031, 0.2094, 0.1924],\n",
      "        [0.2035, 0.0441, 0.3485],\n",
      "        [0.0467, 0.4922, 0.8113]])，\n",
      "N2=tensor([[0.8088],\n",
      "        [0.5130],\n",
      "        [0.4667],\n",
      "        [0.6728]])\n",
      "M3=tensor([[0.5369, 0.6460, 0.6574, 0.5177, 0.5796]])，\n",
      "N3=tensor([[0.5861, 0.4159, 0.8393, 0.0640, 0.1969],\n",
      "        [0.2473, 0.1555, 0.8113, 0.1179, 0.1041],\n",
      "        [0.2926, 0.4889, 0.7247, 0.6124, 0.5315],\n",
      "        [0.9463, 0.6352, 0.8119, 0.3597, 0.3714]])\n",
      "M4=tensor([[0.3679, 0.2498, 0.8950, 0.6603]])，\n",
      "N4=tensor([[0.4259, 0.3173, 0.5236],\n",
      "        [0.0112, 0.8634, 0.7791],\n",
      "        [0.6999, 0.1987, 0.1783],\n",
      "        [0.6236, 0.2867, 0.5797]])\n"
     ]
    }
   ],
   "source": [
    "M1 = torch.rand(1,3)\n",
    "N1 = torch.rand(2,1)\n",
    "print(\"M1={}，\\nN1={}\".format(M1,N1))\n",
    "M2 = torch.rand(4,3)\n",
    "N2 = torch.rand(4,1)\n",
    "print(\"M2={}，\\nN2={}\".format(M2,N2))\n",
    "M3 = torch.rand(1,5)\n",
    "N3 = torch.rand(4,5)\n",
    "print(\"M3={}，\\nN3={}\".format(M3,N3))\n",
    "M4 = torch.rand(1,4)\n",
    "N4 = torch.rand(4,3)\n",
    "print(\"M4={}，\\nN4={}\".format(M4,N4))"
   ]
  },
  {
   "cell_type": "markdown",
   "id": "77b411fd",
   "metadata": {},
   "source": [
    "第一类减法：直接用运算符-运算"
   ]
  },
  {
   "cell_type": "code",
   "execution_count": 4,
   "id": "c8ab4325",
   "metadata": {},
   "outputs": [
    {
     "name": "stdout",
     "output_type": "stream",
     "text": [
      "M1 - N1 = tensor([[-0.2272,  0.2482,  0.1283],\n",
      "        [-0.6641, -0.1886, -0.3086]])\n",
      "M2 - N2 = tensor([[ 0.0253, -0.4553, -0.7189],\n",
      "        [-0.1099, -0.3035, -0.3205],\n",
      "        [-0.2632, -0.4226, -0.1182],\n",
      "        [-0.6261, -0.1806,  0.1385]])\n",
      "M3 - N3 = tensor([[-0.0493,  0.2302, -0.1819,  0.4536,  0.3827],\n",
      "        [ 0.2896,  0.4905, -0.1539,  0.3997,  0.4755],\n",
      "        [ 0.2442,  0.1572, -0.0672, -0.0947,  0.0481],\n",
      "        [-0.4095,  0.0108, -0.1545,  0.1580,  0.2082]])\n"
     ]
    },
    {
     "ename": "RuntimeError",
     "evalue": "The size of tensor a (4) must match the size of tensor b (3) at non-singleton dimension 1",
     "output_type": "error",
     "traceback": [
      "\u001b[1;31m---------------------------------------------------------------------------\u001b[0m",
      "\u001b[1;31mRuntimeError\u001b[0m                              Traceback (most recent call last)",
      "\u001b[1;32m~\\AppData\\Local\\Temp/ipykernel_4064/3584868395.py\u001b[0m in \u001b[0;36m<module>\u001b[1;34m\u001b[0m\n\u001b[0;32m      2\u001b[0m \u001b[0mprint\u001b[0m\u001b[1;33m(\u001b[0m\u001b[1;34m\"M2 - N2 =\"\u001b[0m\u001b[1;33m,\u001b[0m\u001b[0mM2\u001b[0m \u001b[1;33m-\u001b[0m \u001b[0mN2\u001b[0m\u001b[1;33m)\u001b[0m\u001b[1;33m\u001b[0m\u001b[1;33m\u001b[0m\u001b[0m\n\u001b[0;32m      3\u001b[0m \u001b[0mprint\u001b[0m\u001b[1;33m(\u001b[0m\u001b[1;34m\"M3 - N3 =\"\u001b[0m\u001b[1;33m,\u001b[0m\u001b[0mM3\u001b[0m \u001b[1;33m-\u001b[0m \u001b[0mN3\u001b[0m\u001b[1;33m)\u001b[0m\u001b[1;33m\u001b[0m\u001b[1;33m\u001b[0m\u001b[0m\n\u001b[1;32m----> 4\u001b[1;33m \u001b[0mprint\u001b[0m\u001b[1;33m(\u001b[0m\u001b[1;34m\"M4 - N4 =\"\u001b[0m\u001b[1;33m,\u001b[0m\u001b[0mM4\u001b[0m \u001b[1;33m-\u001b[0m \u001b[0mN4\u001b[0m\u001b[1;33m)\u001b[0m\u001b[1;33m\u001b[0m\u001b[1;33m\u001b[0m\u001b[0m\n\u001b[0m",
      "\u001b[1;31mRuntimeError\u001b[0m: The size of tensor a (4) must match the size of tensor b (3) at non-singleton dimension 1"
     ]
    }
   ],
   "source": [
    "print(\"M1 - N1 =\",M1 - N1)\n",
    "print(\"M2 - N2 =\",M2 - N2)\n",
    "print(\"M3 - N3 =\",M3 - N3)\n",
    "print(\"M4 - N4 =\",M4 - N4)"
   ]
  },
  {
   "cell_type": "markdown",
   "id": "289bc666",
   "metadata": {},
   "source": [
    "第二类减法：使用函数sub"
   ]
  },
  {
   "cell_type": "code",
   "execution_count": 5,
   "id": "24ab233c",
   "metadata": {},
   "outputs": [
    {
     "name": "stdout",
     "output_type": "stream",
     "text": [
      "M1 - N1 = tensor([[-0.2272,  0.2482,  0.1283],\n",
      "        [-0.6641, -0.1886, -0.3086]])\n",
      "M2 - N2 = tensor([[ 0.0253, -0.4553, -0.7189],\n",
      "        [-0.1099, -0.3035, -0.3205],\n",
      "        [-0.2632, -0.4226, -0.1182],\n",
      "        [-0.6261, -0.1806,  0.1385]])\n",
      "M3 - N3 = tensor([[-0.0493,  0.2302, -0.1819,  0.4536,  0.3827],\n",
      "        [ 0.2896,  0.4905, -0.1539,  0.3997,  0.4755],\n",
      "        [ 0.2442,  0.1572, -0.0672, -0.0947,  0.0481],\n",
      "        [-0.4095,  0.0108, -0.1545,  0.1580,  0.2082]])\n"
     ]
    },
    {
     "ename": "RuntimeError",
     "evalue": "The size of tensor a (4) must match the size of tensor b (3) at non-singleton dimension 1",
     "output_type": "error",
     "traceback": [
      "\u001b[1;31m---------------------------------------------------------------------------\u001b[0m",
      "\u001b[1;31mRuntimeError\u001b[0m                              Traceback (most recent call last)",
      "\u001b[1;32m~\\AppData\\Local\\Temp/ipykernel_4064/800732637.py\u001b[0m in \u001b[0;36m<module>\u001b[1;34m\u001b[0m\n\u001b[0;32m      2\u001b[0m \u001b[0mprint\u001b[0m\u001b[1;33m(\u001b[0m\u001b[1;34m\"M2 - N2 =\"\u001b[0m\u001b[1;33m,\u001b[0m\u001b[0mtorch\u001b[0m\u001b[1;33m.\u001b[0m\u001b[0msub\u001b[0m\u001b[1;33m(\u001b[0m\u001b[0mM2\u001b[0m\u001b[1;33m,\u001b[0m\u001b[0mN2\u001b[0m\u001b[1;33m)\u001b[0m\u001b[1;33m)\u001b[0m\u001b[1;33m\u001b[0m\u001b[1;33m\u001b[0m\u001b[0m\n\u001b[0;32m      3\u001b[0m \u001b[0mprint\u001b[0m\u001b[1;33m(\u001b[0m\u001b[1;34m\"M3 - N3 =\"\u001b[0m\u001b[1;33m,\u001b[0m\u001b[0mtorch\u001b[0m\u001b[1;33m.\u001b[0m\u001b[0msub\u001b[0m\u001b[1;33m(\u001b[0m\u001b[0mM3\u001b[0m\u001b[1;33m,\u001b[0m\u001b[0mN3\u001b[0m\u001b[1;33m)\u001b[0m\u001b[1;33m)\u001b[0m\u001b[1;33m\u001b[0m\u001b[1;33m\u001b[0m\u001b[0m\n\u001b[1;32m----> 4\u001b[1;33m \u001b[0mprint\u001b[0m\u001b[1;33m(\u001b[0m\u001b[1;34m\"M4 - N4 =\"\u001b[0m\u001b[1;33m,\u001b[0m\u001b[0mtorch\u001b[0m\u001b[1;33m.\u001b[0m\u001b[0msub\u001b[0m\u001b[1;33m(\u001b[0m\u001b[0mM4\u001b[0m\u001b[1;33m,\u001b[0m\u001b[0mN4\u001b[0m\u001b[1;33m)\u001b[0m\u001b[1;33m)\u001b[0m\u001b[1;33m\u001b[0m\u001b[1;33m\u001b[0m\u001b[0m\n\u001b[0m",
      "\u001b[1;31mRuntimeError\u001b[0m: The size of tensor a (4) must match the size of tensor b (3) at non-singleton dimension 1"
     ]
    }
   ],
   "source": [
    "print(\"M1 - N1 =\",torch.sub(M1,N1))\n",
    "print(\"M2 - N2 =\",torch.sub(M2,N2))\n",
    "print(\"M3 - N3 =\",torch.sub(M3,N3))\n",
    "print(\"M4 - N4 =\",torch.sub(M4,N4))"
   ]
  },
  {
   "cell_type": "markdown",
   "id": "15fc379b",
   "metadata": {},
   "source": [
    "第三类减法：直接调用变量的sub_函数"
   ]
  },
  {
   "cell_type": "code",
   "execution_count": 7,
   "id": "7ecf386f",
   "metadata": {},
   "outputs": [
    {
     "ename": "RuntimeError",
     "evalue": "output with shape [1, 3] doesn't match the broadcast shape [2, 3]",
     "output_type": "error",
     "traceback": [
      "\u001b[1;31m---------------------------------------------------------------------------\u001b[0m",
      "\u001b[1;31mRuntimeError\u001b[0m                              Traceback (most recent call last)",
      "\u001b[1;32m~\\AppData\\Local\\Temp/ipykernel_4064/479955144.py\u001b[0m in \u001b[0;36m<module>\u001b[1;34m\u001b[0m\n\u001b[1;32m----> 1\u001b[1;33m \u001b[0mM1\u001b[0m\u001b[1;33m.\u001b[0m\u001b[0msub_\u001b[0m\u001b[1;33m(\u001b[0m\u001b[0mN1\u001b[0m\u001b[1;33m)\u001b[0m\u001b[1;33m\u001b[0m\u001b[1;33m\u001b[0m\u001b[0m\n\u001b[0m\u001b[0;32m      2\u001b[0m \u001b[0mM2\u001b[0m\u001b[1;33m.\u001b[0m\u001b[0msub_\u001b[0m\u001b[1;33m(\u001b[0m\u001b[0mN2\u001b[0m\u001b[1;33m)\u001b[0m\u001b[1;33m\u001b[0m\u001b[1;33m\u001b[0m\u001b[0m\n\u001b[0;32m      3\u001b[0m \u001b[0mM3\u001b[0m\u001b[1;33m.\u001b[0m\u001b[0msub_\u001b[0m\u001b[1;33m(\u001b[0m\u001b[0mN3\u001b[0m\u001b[1;33m)\u001b[0m\u001b[1;33m\u001b[0m\u001b[1;33m\u001b[0m\u001b[0m\n\u001b[0;32m      4\u001b[0m \u001b[0mM4\u001b[0m\u001b[1;33m.\u001b[0m\u001b[0msub_\u001b[0m\u001b[1;33m(\u001b[0m\u001b[0mN4\u001b[0m\u001b[1;33m)\u001b[0m\u001b[1;33m\u001b[0m\u001b[1;33m\u001b[0m\u001b[0m\n\u001b[0;32m      5\u001b[0m \u001b[0mprint\u001b[0m\u001b[1;33m(\u001b[0m\u001b[1;34m\"M1 - N1 =\"\u001b[0m\u001b[1;33m,\u001b[0m\u001b[0mM1\u001b[0m\u001b[1;33m)\u001b[0m\u001b[1;33m\u001b[0m\u001b[1;33m\u001b[0m\u001b[0m\n",
      "\u001b[1;31mRuntimeError\u001b[0m: output with shape [1, 3] doesn't match the broadcast shape [2, 3]"
     ]
    }
   ],
   "source": [
    "M1.sub_(N1)\n",
    "M2.sub_(N2)\n",
    "M3.sub_(N3)\n",
    "M4.sub_(N4)\n",
    "print(\"M1 - N1 =\",M1)\n",
    "print(\"M2 - N2 =\",M2)\n",
    "print(\"M3 - N3 =\",M3)\n",
    "print(\"M4 - N4 =\",M4)"
   ]
  },
  {
   "cell_type": "markdown",
   "id": "d2e5afd2",
   "metadata": {},
   "source": [
    "# 基本操作考察2"
   ]
  },
  {
   "cell_type": "markdown",
   "id": "35ce88d3",
   "metadata": {},
   "source": [
    "使用normal函数生成正态分布的随机数矩阵P、Q"
   ]
  },
  {
   "cell_type": "code",
   "execution_count": 8,
   "id": "763f08b3",
   "metadata": {},
   "outputs": [
    {
     "name": "stdout",
     "output_type": "stream",
     "text": [
      "tensor([[ 0.0001,  0.0102],\n",
      "        [-0.0006,  0.0087],\n",
      "        [ 0.0036, -0.0125]])\n",
      "tensor([[-0.0100, -0.0023],\n",
      "        [ 0.0141, -0.0138],\n",
      "        [ 0.0134,  0.0019],\n",
      "        [-0.0072,  0.0096]])\n"
     ]
    }
   ],
   "source": [
    "P = torch.normal(0,0.01,(3,2))\n",
    "print(P)\n",
    "Q = torch.normal(0,0.01,(4,2))\n",
    "print(Q)"
   ]
  },
  {
   "cell_type": "markdown",
   "id": "d98b7400",
   "metadata": {},
   "source": [
    "对Q矩阵进行转置操作"
   ]
  },
  {
   "cell_type": "code",
   "execution_count": 9,
   "id": "734a08ab",
   "metadata": {},
   "outputs": [
    {
     "name": "stdout",
     "output_type": "stream",
     "text": [
      "tensor([[-0.0100,  0.0141,  0.0134, -0.0072],\n",
      "        [-0.0023, -0.0138,  0.0019,  0.0096]])\n"
     ]
    }
   ],
   "source": [
    "Qt = torch.t(Q)\n",
    "print(Qt)"
   ]
  },
  {
   "cell_type": "markdown",
   "id": "f2a90bc7",
   "metadata": {},
   "source": [
    "实现矩阵乘法PQt"
   ]
  },
  {
   "cell_type": "code",
   "execution_count": 10,
   "id": "d3273ca0",
   "metadata": {},
   "outputs": [
    {
     "name": "stdout",
     "output_type": "stream",
     "text": [
      "tensor([[-2.4190e-05, -1.3947e-04,  2.0696e-05,  9.7643e-05],\n",
      "        [-1.3622e-05, -1.2847e-04,  8.2410e-06,  8.8088e-05],\n",
      "        [-7.1627e-06,  2.2295e-04,  2.4194e-05, -1.4628e-04]])\n"
     ]
    }
   ],
   "source": [
    "print(torch.mm(P,Qt))"
   ]
  },
  {
   "cell_type": "markdown",
   "id": "2b831462",
   "metadata": {},
   "source": [
    "# 基本操作考察3"
   ]
  },
  {
   "cell_type": "markdown",
   "id": "bae76643",
   "metadata": {},
   "source": [
    "给定公式 𝑦3 = 𝑦1 + 𝑦2 = 𝑥2 + 𝑥3，且 𝑥 = 1 注意：要想使x支持求导，必须让x为浮点类型，否则会报错：RuntimeError: Only Tensors of floating point dtype can require gradients"
   ]
  },
  {
   "cell_type": "code",
   "execution_count": 11,
   "id": "52a6a19c",
   "metadata": {},
   "outputs": [
    {
     "name": "stdout",
     "output_type": "stream",
     "text": [
      "y1 =  tensor(1., grad_fn=<MulBackward0>) True\n",
      "y2 =  tensor(1.) False\n",
      "y3 =  tensor(2., grad_fn=<AddBackward0>) True\n",
      "y4 =  tensor(1., grad_fn=<PowBackward0>) True\n",
      "y5 =  tensor(2., grad_fn=<AddBackward0>) True\n"
     ]
    }
   ],
   "source": [
    "x = torch.tensor(1.0, requires_grad = True)\n",
    "y1 = x * x\n",
    "with torch.no_grad():\n",
    "    y2 = x ** 3\n",
    "y3 = y1 + y2\n",
    "y4 = x ** 3\n",
    "y5 = y1 + y4\n",
    "print(\"y1 = \", y1, y1.requires_grad)\n",
    "print(\"y2 = \", y2, y2.requires_grad)\n",
    "print(\"y3 = \", y3, y3.requires_grad)\n",
    "print(\"y4 = \", y4, y4.requires_grad)\n",
    "print(\"y5 = \", y5, y5.requires_grad)"
   ]
  },
  {
   "cell_type": "markdown",
   "id": "eb2916c7",
   "metadata": {},
   "source": [
    "使用backward进行求导,再次求导记得清零，grad在反向传播过程中是累加的 注意：当我们第二次backward的时候，计算图的结构已经被破坏了（buffer的梯度被释放了），解决方式：重新构造计算图，或者使用retain_graph=True"
   ]
  },
  {
   "cell_type": "code",
   "execution_count": 12,
   "id": "618fa2c6",
   "metadata": {},
   "outputs": [
    {
     "name": "stdout",
     "output_type": "stream",
     "text": [
      "中断y2梯度追踪的求导结果 tensor(2.)\n"
     ]
    }
   ],
   "source": [
    "y3.backward(retain_graph=True)\n",
    "print(\"中断y2梯度追踪的求导结果\", x.grad)"
   ]
  },
  {
   "cell_type": "code",
   "execution_count": 13,
   "id": "ed83e428",
   "metadata": {},
   "outputs": [
    {
     "name": "stdout",
     "output_type": "stream",
     "text": [
      "正常情况下的求导结果 tensor(5.)\n"
     ]
    }
   ],
   "source": [
    "x.grad.data.zero_()\n",
    "y5.backward()\n",
    "print(\"正常情况下的求导结果\", x.grad)"
   ]
  },
  {
   "cell_type": "markdown",
   "id": "7beb9ed2",
   "metadata": {},
   "source": [
    "# 实现 logistic 回归"
   ]
  },
  {
   "cell_type": "markdown",
   "id": "d3e431c2",
   "metadata": {},
   "source": [
    "人工构造数据集"
   ]
  },
  {
   "cell_type": "code",
   "execution_count": 41,
   "id": "f9fef99b",
   "metadata": {},
   "outputs": [
    {
     "data": {
      "image/png": "[encoded data removed]",
      "text/plain": [
       "<Figure size 432x288 with 1 Axes>"
      ]
     },
     "metadata": {
      "needs_background": "light"
     },
     "output_type": "display_data"
    }
   ],
   "source": [
    "num_inputs = 2\n",
    "n_data = torch.ones(1000, num_inputs)\n",
    "x1 = torch.normal(2 * n_data, 1)\n",
    "y1 = torch.zeros(1000)\n",
    "x2 = torch.normal(-2 * n_data, 1)\n",
    "y2 = torch.ones(1000)\n",
    "\n",
    "x = torch.cat((x1, x2), 0).type(torch.FloatTensor)\n",
    "y = torch.cat((y1, y2), 0).type(torch.FloatTensor)\n",
    "\n",
    "plt.scatter(x.data.numpy()[:, 0], x.data.numpy()[:, 1], c=y.data.numpy(), s=10, lw=0, cmap='RdYlGn')\n",
    "plt.show()"
   ]
  },
  {
   "cell_type": "markdown",
   "id": "aeed8274",
   "metadata": {},
   "source": [
    "## 手动从0实现 logistic 回归"
   ]
  },
  {
   "cell_type": "markdown",
   "id": "2699a876",
   "metadata": {},
   "source": [
    "读取数据"
   ]
  },
  {
   "cell_type": "code",
   "execution_count": 42,
   "id": "bd23c58e",
   "metadata": {},
   "outputs": [],
   "source": [
    "def data_iter(batch_size,features,labels):\n",
    "    num_examples=len(features)\n",
    "    indices=list(range(num_examples))\n",
    "    np.random.shuffle(indices)\n",
    "    for i in range(0,num_examples,batch_size):\n",
    "        j=torch.LongTensor(indices[i:min(i+batch_size,num_examples)])\n",
    "        yield features.index_select(0,j),labels.index_select(0,j)"
   ]
  },
  {
   "cell_type": "markdown",
   "id": "15efa345",
   "metadata": {},
   "source": [
    "模型参数初始化，本实验将权重初始化成均值为0、标准差为0.01的正态随机数，偏置初始化为0。"
   ]
  },
  {
   "cell_type": "code",
   "execution_count": 43,
   "id": "0457786d",
   "metadata": {},
   "outputs": [
    {
     "data": {
      "text/plain": [
       "tensor([0.], requires_grad=True)"
      ]
     },
     "execution_count": 43,
     "metadata": {},
     "output_type": "execute_result"
    }
   ],
   "source": [
    "w=torch.tensor(np.random.normal(0,0.01,(2,1)),dtype=torch.float32)\n",
    "b=torch.zeros(1,dtype=torch.float32)\n",
    "w.requires_grad_(requires_grad=True)\n",
    "b.requires_grad_(requires_grad=True)"
   ]
  },
  {
   "cell_type": "markdown",
   "id": "6eea4903",
   "metadata": {},
   "source": [
    "构建logistic回归模型"
   ]
  },
  {
   "cell_type": "code",
   "execution_count": 44,
   "id": "31216b1e",
   "metadata": {},
   "outputs": [],
   "source": [
    "def logitic(X, w, b):\n",
    "    y_hat = torch.mm(X, w) + b\n",
    "    return 1/(1+torch.pow(np.e,-y_hat))"
   ]
  },
  {
   "cell_type": "markdown",
   "id": "1e850ea6",
   "metadata": {},
   "source": [
    "实现二元交叉熵损失函数和小批量随机梯度下降算法优化函数"
   ]
  },
  {
   "cell_type": "code",
   "execution_count": 45,
   "id": "5718d8f0",
   "metadata": {},
   "outputs": [],
   "source": [
    "def BCE_loss(y_hat, y):\n",
    "    y = y.view(y_hat.size())  #将标签的格式修改成预测的形状\n",
    "    return  -y.mul(torch.log(y_hat))-(1-y).mul(torch.log(1-y_hat))\n",
    "\n",
    "def sgd(params, lr, batch_size):  \n",
    "    for param in params:  \n",
    "        param.data -= lr * param.grad / batch_size"
   ]
  },
  {
   "cell_type": "markdown",
   "id": "9d30dd49",
   "metadata": {},
   "source": [
    "训练过程"
   ]
  },
  {
   "cell_type": "code",
   "execution_count": 46,
   "id": "0a420103",
   "metadata": {
    "scrolled": true
   },
   "outputs": [
    {
     "name": "stdout",
     "output_type": "stream",
     "text": [
      "epoch 1, loss 0.6561, train acc 0.981\n",
      "epoch 2, loss 0.5885, train acc 0.999\n",
      "epoch 3, loss 0.5319, train acc 1.000\n",
      "epoch 4, loss 0.4842, train acc 1.000\n",
      "epoch 5, loss 0.4438, train acc 1.000\n",
      "epoch 6, loss 0.4093, train acc 1.000\n",
      "epoch 7, loss 0.3797, train acc 1.000\n",
      "epoch 8, loss 0.3540, train acc 1.000\n",
      "epoch 9, loss 0.3315, train acc 1.000\n",
      "epoch 10, loss 0.3118, train acc 1.000\n",
      "epoch 11, loss 0.2943, train acc 1.000\n",
      "epoch 12, loss 0.2788, train acc 1.000\n",
      "epoch 13, loss 0.2649, train acc 1.000\n",
      "epoch 14, loss 0.2524, train acc 1.000\n",
      "epoch 15, loss 0.2411, train acc 1.000\n",
      "epoch 16, loss 0.2308, train acc 1.000\n",
      "epoch 17, loss 0.2215, train acc 1.000\n",
      "epoch 18, loss 0.2129, train acc 1.000\n",
      "epoch 19, loss 0.2050, train acc 1.000\n",
      "epoch 20, loss 0.1978, train acc 1.000\n",
      "epoch 21, loss 0.1911, train acc 1.000\n",
      "epoch 22, loss 0.1848, train acc 1.000\n",
      "epoch 23, loss 0.1791, train acc 1.000\n",
      "epoch 24, loss 0.1737, train acc 1.000\n",
      "epoch 25, loss 0.1686, train acc 1.000\n",
      "epoch 26, loss 0.1639, train acc 1.000\n",
      "epoch 27, loss 0.1595, train acc 1.000\n",
      "epoch 28, loss 0.1553, train acc 1.000\n",
      "epoch 29, loss 0.1514, train acc 1.000\n",
      "epoch 30, loss 0.1477, train acc 1.000\n",
      "epoch 31, loss 0.1442, train acc 1.000\n",
      "epoch 32, loss 0.1408, train acc 1.000\n",
      "epoch 33, loss 0.1377, train acc 1.000\n",
      "epoch 34, loss 0.1347, train acc 1.000\n",
      "epoch 35, loss 0.1319, train acc 1.000\n",
      "epoch 36, loss 0.1291, train acc 1.000\n",
      "epoch 37, loss 0.1266, train acc 1.000\n",
      "epoch 38, loss 0.1241, train acc 1.000\n",
      "epoch 39, loss 0.1217, train acc 1.000\n",
      "epoch 40, loss 0.1195, train acc 1.000\n",
      "epoch 41, loss 0.1173, train acc 1.000\n",
      "epoch 42, loss 0.1153, train acc 1.000\n",
      "epoch 43, loss 0.1133, train acc 1.000\n",
      "epoch 44, loss 0.1114, train acc 1.000\n",
      "epoch 45, loss 0.1096, train acc 1.000\n",
      "epoch 46, loss 0.1078, train acc 1.000\n",
      "epoch 47, loss 0.1061, train acc 1.000\n",
      "epoch 48, loss 0.1045, train acc 1.000\n",
      "epoch 49, loss 0.1029, train acc 1.000\n",
      "epoch 50, loss 0.1014, train acc 1.000\n",
      "epoch 51, loss 0.0999, train acc 1.000\n",
      "epoch 52, loss 0.0985, train acc 1.000\n",
      "epoch 53, loss 0.0971, train acc 1.000\n",
      "epoch 54, loss 0.0958, train acc 1.000\n",
      "epoch 55, loss 0.0945, train acc 1.000\n",
      "epoch 56, loss 0.0933, train acc 1.000\n",
      "epoch 57, loss 0.0921, train acc 1.000\n",
      "epoch 58, loss 0.0909, train acc 1.000\n",
      "epoch 59, loss 0.0898, train acc 1.000\n",
      "epoch 60, loss 0.0887, train acc 1.000\n",
      "epoch 61, loss 0.0876, train acc 1.000\n",
      "epoch 62, loss 0.0866, train acc 1.000\n",
      "epoch 63, loss 0.0856, train acc 1.000\n",
      "epoch 64, loss 0.0846, train acc 1.000\n",
      "epoch 65, loss 0.0836, train acc 1.000\n",
      "epoch 66, loss 0.0827, train acc 1.000\n",
      "epoch 67, loss 0.0818, train acc 1.000\n",
      "epoch 68, loss 0.0809, train acc 1.000\n",
      "epoch 69, loss 0.0801, train acc 1.000\n",
      "epoch 70, loss 0.0793, train acc 1.000\n",
      "epoch 71, loss 0.0784, train acc 1.000\n",
      "epoch 72, loss 0.0776, train acc 1.000\n",
      "epoch 73, loss 0.0769, train acc 1.000\n",
      "epoch 74, loss 0.0761, train acc 1.000\n",
      "epoch 75, loss 0.0754, train acc 1.000\n",
      "epoch 76, loss 0.0747, train acc 1.000\n",
      "epoch 77, loss 0.0740, train acc 1.000\n",
      "epoch 78, loss 0.0733, train acc 1.000\n",
      "epoch 79, loss 0.0726, train acc 1.000\n",
      "epoch 80, loss 0.0720, train acc 1.000\n",
      "epoch 81, loss 0.0713, train acc 1.000\n",
      "epoch 82, loss 0.0707, train acc 1.000\n",
      "epoch 83, loss 0.0701, train acc 1.000\n",
      "epoch 84, loss 0.0695, train acc 1.000\n",
      "epoch 85, loss 0.0689, train acc 1.000\n",
      "epoch 86, loss 0.0683, train acc 1.000\n",
      "epoch 87, loss 0.0677, train acc 1.000\n",
      "epoch 88, loss 0.0672, train acc 1.000\n",
      "epoch 89, loss 0.0666, train acc 1.000\n",
      "epoch 90, loss 0.0661, train acc 1.000\n",
      "epoch 91, loss 0.0656, train acc 1.000\n",
      "epoch 92, loss 0.0651, train acc 1.000\n",
      "epoch 93, loss 0.0646, train acc 1.000\n",
      "epoch 94, loss 0.0641, train acc 1.000\n",
      "epoch 95, loss 0.0636, train acc 1.000\n",
      "epoch 96, loss 0.0631, train acc 1.000\n",
      "epoch 97, loss 0.0627, train acc 1.000\n",
      "epoch 98, loss 0.0622, train acc 1.000\n",
      "epoch 99, loss 0.0618, train acc 1.000\n",
      "epoch 100, loss 0.0613, train acc 1.000\n",
      "epoch 101, loss 0.0609, train acc 1.000\n",
      "epoch 102, loss 0.0605, train acc 1.000\n",
      "epoch 103, loss 0.0601, train acc 1.000\n",
      "epoch 104, loss 0.0597, train acc 1.000\n",
      "epoch 105, loss 0.0593, train acc 1.000\n",
      "epoch 106, loss 0.0589, train acc 1.000\n",
      "epoch 107, loss 0.0585, train acc 1.000\n",
      "epoch 108, loss 0.0581, train acc 1.000\n",
      "epoch 109, loss 0.0577, train acc 1.000\n",
      "epoch 110, loss 0.0573, train acc 1.000\n",
      "epoch 111, loss 0.0570, train acc 1.000\n",
      "epoch 112, loss 0.0566, train acc 1.000\n",
      "epoch 113, loss 0.0563, train acc 1.000\n",
      "epoch 114, loss 0.0559, train acc 1.000\n",
      "epoch 115, loss 0.0556, train acc 1.000\n",
      "epoch 116, loss 0.0552, train acc 1.000\n",
      "epoch 117, loss 0.0549, train acc 1.000\n",
      "epoch 118, loss 0.0546, train acc 1.000\n",
      "epoch 119, loss 0.0543, train acc 1.000\n",
      "epoch 120, loss 0.0539, train acc 1.000\n",
      "epoch 121, loss 0.0536, train acc 1.000\n",
      "epoch 122, loss 0.0533, train acc 1.000\n",
      "epoch 123, loss 0.0530, train acc 1.000\n",
      "epoch 124, loss 0.0527, train acc 1.000\n",
      "epoch 125, loss 0.0524, train acc 1.000\n",
      "epoch 126, loss 0.0521, train acc 1.000\n",
      "epoch 127, loss 0.0519, train acc 1.000\n",
      "epoch 128, loss 0.0516, train acc 1.000\n",
      "epoch 129, loss 0.0513, train acc 1.000\n",
      "epoch 130, loss 0.0510, train acc 1.000\n",
      "epoch 131, loss 0.0507, train acc 1.000\n",
      "epoch 132, loss 0.0505, train acc 1.000\n",
      "epoch 133, loss 0.0502, train acc 1.000\n",
      "epoch 134, loss 0.0500, train acc 1.000\n",
      "epoch 135, loss 0.0497, train acc 1.000\n",
      "epoch 136, loss 0.0494, train acc 1.000\n",
      "epoch 137, loss 0.0492, train acc 1.000\n",
      "epoch 138, loss 0.0489, train acc 1.000\n",
      "epoch 139, loss 0.0487, train acc 1.000\n",
      "epoch 140, loss 0.0485, train acc 1.000\n",
      "epoch 141, loss 0.0482, train acc 1.000\n",
      "epoch 142, loss 0.0480, train acc 1.000\n",
      "epoch 143, loss 0.0478, train acc 1.000\n",
      "epoch 144, loss 0.0475, train acc 1.000\n",
      "epoch 145, loss 0.0473, train acc 1.000\n",
      "epoch 146, loss 0.0471, train acc 1.000\n",
      "epoch 147, loss 0.0469, train acc 1.000\n",
      "epoch 148, loss 0.0466, train acc 1.000\n",
      "epoch 149, loss 0.0464, train acc 1.000\n",
      "epoch 150, loss 0.0462, train acc 1.000\n",
      "epoch 151, loss 0.0460, train acc 1.000\n",
      "epoch 152, loss 0.0458, train acc 1.000\n",
      "epoch 153, loss 0.0456, train acc 1.000\n",
      "epoch 154, loss 0.0454, train acc 1.000\n",
      "epoch 155, loss 0.0452, train acc 1.000\n",
      "epoch 156, loss 0.0450, train acc 1.000\n",
      "epoch 157, loss 0.0448, train acc 1.000\n",
      "epoch 158, loss 0.0446, train acc 1.000\n",
      "epoch 159, loss 0.0444, train acc 1.000\n",
      "epoch 160, loss 0.0442, train acc 1.000\n",
      "epoch 161, loss 0.0440, train acc 1.000\n",
      "epoch 162, loss 0.0439, train acc 1.000\n",
      "epoch 163, loss 0.0437, train acc 1.000\n",
      "epoch 164, loss 0.0435, train acc 1.000\n",
      "epoch 165, loss 0.0433, train acc 1.000\n",
      "epoch 166, loss 0.0431, train acc 1.000\n",
      "epoch 167, loss 0.0430, train acc 1.000\n",
      "epoch 168, loss 0.0428, train acc 1.000\n",
      "epoch 169, loss 0.0426, train acc 1.000\n",
      "epoch 170, loss 0.0424, train acc 1.000\n",
      "epoch 171, loss 0.0423, train acc 1.000\n",
      "epoch 172, loss 0.0421, train acc 1.000\n",
      "epoch 173, loss 0.0419, train acc 1.000\n",
      "epoch 174, loss 0.0418, train acc 1.000\n",
      "epoch 175, loss 0.0416, train acc 1.000\n",
      "epoch 176, loss 0.0415, train acc 1.000\n",
      "epoch 177, loss 0.0413, train acc 1.000\n",
      "epoch 178, loss 0.0411, train acc 1.000\n",
      "epoch 179, loss 0.0410, train acc 1.000\n",
      "epoch 180, loss 0.0408, train acc 1.000\n",
      "epoch 181, loss 0.0407, train acc 1.000\n",
      "epoch 182, loss 0.0405, train acc 1.000\n",
      "epoch 183, loss 0.0404, train acc 1.000\n",
      "epoch 184, loss 0.0402, train acc 1.000\n",
      "epoch 185, loss 0.0401, train acc 1.000\n",
      "epoch 186, loss 0.0399, train acc 1.000\n",
      "epoch 187, loss 0.0398, train acc 1.000\n",
      "epoch 188, loss 0.0397, train acc 1.000\n",
      "epoch 189, loss 0.0395, train acc 1.000\n",
      "epoch 190, loss 0.0394, train acc 1.000\n",
      "epoch 191, loss 0.0392, train acc 1.000\n",
      "epoch 192, loss 0.0391, train acc 1.000\n",
      "epoch 193, loss 0.0390, train acc 1.000\n",
      "epoch 194, loss 0.0388, train acc 1.000\n",
      "epoch 195, loss 0.0387, train acc 1.000\n",
      "epoch 196, loss 0.0386, train acc 1.000\n",
      "epoch 197, loss 0.0384, train acc 1.000\n",
      "epoch 198, loss 0.0383, train acc 1.000\n",
      "epoch 199, loss 0.0382, train acc 1.000\n",
      "epoch 200, loss 0.0381, train acc 1.000\n",
      "epoch 201, loss 0.0379, train acc 1.000\n",
      "epoch 202, loss 0.0378, train acc 1.000\n",
      "epoch 203, loss 0.0377, train acc 1.000\n",
      "epoch 204, loss 0.0376, train acc 1.000\n",
      "epoch 205, loss 0.0374, train acc 1.000\n",
      "epoch 206, loss 0.0373, train acc 1.000\n",
      "epoch 207, loss 0.0372, train acc 1.000\n",
      "epoch 208, loss 0.0371, train acc 1.000\n",
      "epoch 209, loss 0.0370, train acc 1.000\n",
      "epoch 210, loss 0.0368, train acc 1.000\n",
      "epoch 211, loss 0.0367, train acc 1.000\n",
      "epoch 212, loss 0.0366, train acc 1.000\n",
      "epoch 213, loss 0.0365, train acc 1.000\n",
      "epoch 214, loss 0.0364, train acc 1.000\n",
      "epoch 215, loss 0.0363, train acc 1.000\n",
      "epoch 216, loss 0.0362, train acc 1.000\n",
      "epoch 217, loss 0.0360, train acc 1.000\n",
      "epoch 218, loss 0.0359, train acc 1.000\n",
      "epoch 219, loss 0.0358, train acc 1.000\n",
      "epoch 220, loss 0.0357, train acc 1.000\n",
      "epoch 221, loss 0.0356, train acc 1.000\n",
      "epoch 222, loss 0.0355, train acc 1.000\n",
      "epoch 223, loss 0.0354, train acc 1.000\n",
      "epoch 224, loss 0.0353, train acc 1.000\n",
      "epoch 225, loss 0.0352, train acc 1.000\n",
      "epoch 226, loss 0.0351, train acc 1.000\n",
      "epoch 227, loss 0.0350, train acc 1.000\n",
      "epoch 228, loss 0.0349, train acc 1.000\n",
      "epoch 229, loss 0.0348, train acc 1.000\n",
      "epoch 230, loss 0.0347, train acc 1.000\n",
      "epoch 231, loss 0.0346, train acc 1.000\n",
      "epoch 232, loss 0.0345, train acc 1.000\n",
      "epoch 233, loss 0.0344, train acc 1.000\n",
      "epoch 234, loss 0.0343, train acc 1.000\n",
      "epoch 235, loss 0.0342, train acc 1.000\n",
      "epoch 236, loss 0.0341, train acc 1.000\n",
      "epoch 237, loss 0.0340, train acc 1.000\n",
      "epoch 238, loss 0.0339, train acc 1.000\n",
      "epoch 239, loss 0.0338, train acc 1.000\n",
      "epoch 240, loss 0.0337, train acc 1.000\n",
      "epoch 241, loss 0.0337, train acc 1.000\n",
      "epoch 242, loss 0.0336, train acc 1.000\n",
      "epoch 243, loss 0.0335, train acc 1.000\n",
      "epoch 244, loss 0.0334, train acc 1.000\n",
      "epoch 245, loss 0.0333, train acc 1.000\n",
      "epoch 246, loss 0.0332, train acc 1.000\n",
      "epoch 247, loss 0.0331, train acc 1.000\n",
      "epoch 248, loss 0.0330, train acc 1.000\n",
      "epoch 249, loss 0.0329, train acc 1.000\n",
      "epoch 250, loss 0.0329, train acc 1.000\n",
      "epoch 251, loss 0.0328, train acc 1.000\n",
      "epoch 252, loss 0.0327, train acc 1.000\n",
      "epoch 253, loss 0.0326, train acc 1.000\n",
      "epoch 254, loss 0.0325, train acc 1.000\n",
      "epoch 255, loss 0.0324, train acc 1.000\n",
      "epoch 256, loss 0.0324, train acc 1.000\n",
      "epoch 257, loss 0.0323, train acc 1.000\n",
      "epoch 258, loss 0.0322, train acc 1.000\n",
      "epoch 259, loss 0.0321, train acc 1.000\n",
      "epoch 260, loss 0.0320, train acc 1.000\n",
      "epoch 261, loss 0.0320, train acc 1.000\n",
      "epoch 262, loss 0.0319, train acc 1.000\n",
      "epoch 263, loss 0.0318, train acc 1.000\n",
      "epoch 264, loss 0.0317, train acc 1.000\n",
      "epoch 265, loss 0.0316, train acc 1.000\n",
      "epoch 266, loss 0.0316, train acc 1.000\n",
      "epoch 267, loss 0.0315, train acc 1.000\n",
      "epoch 268, loss 0.0314, train acc 1.000\n",
      "epoch 269, loss 0.0313, train acc 1.000\n",
      "epoch 270, loss 0.0313, train acc 1.000\n",
      "epoch 271, loss 0.0312, train acc 1.000\n",
      "epoch 272, loss 0.0311, train acc 1.000\n",
      "epoch 273, loss 0.0310, train acc 1.000\n",
      "epoch 274, loss 0.0310, train acc 1.000\n",
      "epoch 275, loss 0.0309, train acc 1.000\n",
      "epoch 276, loss 0.0308, train acc 1.000\n",
      "epoch 277, loss 0.0308, train acc 1.000\n",
      "epoch 278, loss 0.0307, train acc 1.000\n",
      "epoch 279, loss 0.0306, train acc 1.000\n",
      "epoch 280, loss 0.0305, train acc 1.000\n",
      "epoch 281, loss 0.0305, train acc 1.000\n",
      "epoch 282, loss 0.0304, train acc 1.000\n",
      "epoch 283, loss 0.0303, train acc 1.000\n",
      "epoch 284, loss 0.0303, train acc 1.000\n",
      "epoch 285, loss 0.0302, train acc 1.000\n",
      "epoch 286, loss 0.0301, train acc 1.000\n",
      "epoch 287, loss 0.0301, train acc 1.000\n",
      "epoch 288, loss 0.0300, train acc 1.000\n",
      "epoch 289, loss 0.0299, train acc 1.000\n",
      "epoch 290, loss 0.0299, train acc 1.000\n",
      "epoch 291, loss 0.0298, train acc 1.000\n",
      "epoch 292, loss 0.0297, train acc 1.000\n",
      "epoch 293, loss 0.0297, train acc 1.000\n",
      "epoch 294, loss 0.0296, train acc 1.000\n",
      "epoch 295, loss 0.0295, train acc 1.000\n",
      "epoch 296, loss 0.0295, train acc 1.000\n",
      "epoch 297, loss 0.0294, train acc 1.000\n",
      "epoch 298, loss 0.0293, train acc 1.000\n",
      "epoch 299, loss 0.0293, train acc 1.000\n",
      "epoch 300, loss 0.0292, train acc 1.000\n"
     ]
    }
   ],
   "source": [
    "lr = 0.001\n",
    "num_epochs = 300\n",
    "n = 2000\n",
    "batch_size = 50\n",
    "net = logitic\n",
    "loss = BCE_loss\n",
    "features = x\n",
    "labels = y\n",
    "train_acc= []\n",
    "train_loss = []\n",
    "\n",
    "for epoch in range(num_epochs):\n",
    "    train_loss_sum, train_acc_sum = 0.0,0.0\n",
    "    for X, y in data_iter(batch_size, features, labels):\n",
    "        y_hat = net(X, w, b)\n",
    "        loss_batch = loss(y_hat, y).sum()\n",
    "        loss_batch.backward()\n",
    "        sgd([w, b], lr, batch_size)\n",
    "        w.grad.data.zero_()\n",
    "        b.grad.data.zero_() \n",
    "        #item取出单元素张量的元素值并返回该值，保持原元素类型不变,所以在求loss,以及accuracy rate的时候一般用item()\n",
    "        train_loss_sum += loss_batch.item()\n",
    "        for i in range(batch_size):\n",
    "            if y_hat[i] > 0.5:\n",
    "                y_hat[i] = torch.tensor(1.0)\n",
    "            else:\n",
    "                y_hat[i] = torch.tensor(0.0)\n",
    "        for i in range(batch_size):\n",
    "            if y_hat[i] == y[i]:\n",
    "                train_acc_sum += 1 \n",
    "    train_acc.append(train_acc_sum/n)\n",
    "    train_loss.append(train_loss_sum/n)\n",
    "    print('epoch %d, loss %.4f, train acc %.3f'\n",
    "          % (epoch + 1, train_loss[epoch], train_acc[epoch]))"
   ]
  },
  {
   "cell_type": "markdown",
   "id": "9aba2ae0",
   "metadata": {},
   "source": [
    "定义画图函数，用于绘制loss图像和acc图像"
   ]
  },
  {
   "cell_type": "code",
   "execution_count": 21,
   "id": "e0cfc6aa",
   "metadata": {},
   "outputs": [],
   "source": [
    "def Draw_Curve(*args,xlabel = \"epoch\",ylabel = \"value\"):\n",
    "    for i in args:\n",
    "        x = np.linspace(0,len(i[0]),len(i[0]))  \n",
    "        plt.plot(x,i[0],label=i[1],linewidth=1.5)  \n",
    "    plt.xlabel(xlabel)\n",
    "    plt.ylabel(ylabel)\n",
    "    plt.legend()\n",
    "    plt.show()"
   ]
  },
  {
   "cell_type": "markdown",
   "id": "cdb9fa77",
   "metadata": {},
   "source": [
    "将训练数据的特征和标签组合，把dataset放入DataLoader  "
   ]
  },
  {
   "cell_type": "code",
   "execution_count": 47,
   "id": "3afb3c41",
   "metadata": {},
   "outputs": [],
   "source": [
    "dataset = Data.TensorDataset(features, labels)  \n",
    "train_data_iter = Data.DataLoader(dataset=dataset, # torch TensorDataset format  \n",
    "                            batch_size=batch_size, # mini batch size  \n",
    "                            shuffle=True, # 是否打乱数据 (训练集一般需要进行打乱)  \n",
    "                            num_workers=0, # 多线程来读数据， 注意在Windows下需要设置为0  \n",
    "                           )  "
   ]
  },
  {
   "cell_type": "markdown",
   "id": "04d8af77",
   "metadata": {},
   "source": [
    "利用nn.Module构建模型，初始化参数，定义损失函数和优化器"
   ]
  },
  {
   "cell_type": "code",
   "execution_count": 48,
   "id": "8e876496",
   "metadata": {},
   "outputs": [
    {
     "name": "stdout",
     "output_type": "stream",
     "text": [
      "Parameter containing:\n",
      "tensor([[-0.0016, -0.0113]], requires_grad=True)\n",
      "Parameter containing:\n",
      "tensor([0.], requires_grad=True)\n"
     ]
    }
   ],
   "source": [
    "class Logistic(nn.Module):  \n",
    "    def __init__(self,n_features):  \n",
    "        super(Logistic, self).__init__()  \n",
    "        self.lr = nn.Linear(n_features, 1)  \n",
    "        self.sm = nn.Sigmoid()  \n",
    "    \n",
    "    def forward(self, x): \n",
    "        x = self.lr(x)  \n",
    "        x = self.sm(x)  \n",
    "        return x  \n",
    "logistic_model = Logistic(num_inputs) \n",
    "criterion = nn.BCELoss()  \n",
    "optimizer = torch.optim.SGD(logistic_model.parameters(), lr=1e-3)  \n",
    "nn.init.normal_(logistic_model.lr.weight, mean=0, std=0.01)  \n",
    "nn.init.constant_(logistic_model.lr.bias, val=0)\n",
    "print(logistic_model.lr.weight)  \n",
    "print(logistic_model.lr.bias)  "
   ]
  },
  {
   "cell_type": "markdown",
   "id": "64990870",
   "metadata": {},
   "source": [
    "训练过程"
   ]
  },
  {
   "cell_type": "code",
   "execution_count": 49,
   "id": "2d9567df",
   "metadata": {
    "scrolled": true
   },
   "outputs": [
    {
     "name": "stdout",
     "output_type": "stream",
     "text": [
      "epoch 1, loss 0.0129, train acc 0.996\n",
      "epoch 2, loss 0.0116, train acc 0.999\n",
      "epoch 3, loss 0.0105, train acc 0.999\n",
      "epoch 4, loss 0.0095, train acc 0.999\n",
      "epoch 5, loss 0.0088, train acc 1.000\n",
      "epoch 6, loss 0.0081, train acc 1.000\n",
      "epoch 7, loss 0.0075, train acc 1.000\n",
      "epoch 8, loss 0.0070, train acc 1.000\n",
      "epoch 9, loss 0.0066, train acc 1.000\n",
      "epoch 10, loss 0.0062, train acc 1.000\n",
      "epoch 11, loss 0.0058, train acc 1.000\n",
      "epoch 12, loss 0.0055, train acc 1.000\n",
      "epoch 13, loss 0.0053, train acc 1.000\n",
      "epoch 14, loss 0.0050, train acc 1.000\n",
      "epoch 15, loss 0.0048, train acc 1.000\n",
      "epoch 16, loss 0.0046, train acc 1.000\n",
      "epoch 17, loss 0.0044, train acc 1.000\n",
      "epoch 18, loss 0.0042, train acc 1.000\n",
      "epoch 19, loss 0.0041, train acc 1.000\n",
      "epoch 20, loss 0.0039, train acc 1.000\n",
      "epoch 21, loss 0.0038, train acc 1.000\n",
      "epoch 22, loss 0.0037, train acc 1.000\n",
      "epoch 23, loss 0.0036, train acc 1.000\n",
      "epoch 24, loss 0.0035, train acc 1.000\n",
      "epoch 25, loss 0.0034, train acc 1.000\n",
      "epoch 26, loss 0.0033, train acc 1.000\n",
      "epoch 27, loss 0.0032, train acc 1.000\n",
      "epoch 28, loss 0.0031, train acc 1.000\n",
      "epoch 29, loss 0.0030, train acc 1.000\n",
      "epoch 30, loss 0.0029, train acc 1.000\n",
      "epoch 31, loss 0.0029, train acc 1.000\n",
      "epoch 32, loss 0.0028, train acc 1.000\n",
      "epoch 33, loss 0.0027, train acc 1.000\n",
      "epoch 34, loss 0.0027, train acc 1.000\n",
      "epoch 35, loss 0.0026, train acc 1.000\n",
      "epoch 36, loss 0.0026, train acc 1.000\n",
      "epoch 37, loss 0.0025, train acc 1.000\n",
      "epoch 38, loss 0.0025, train acc 1.000\n",
      "epoch 39, loss 0.0024, train acc 1.000\n",
      "epoch 40, loss 0.0024, train acc 1.000\n",
      "epoch 41, loss 0.0023, train acc 1.000\n",
      "epoch 42, loss 0.0023, train acc 1.000\n",
      "epoch 43, loss 0.0023, train acc 1.000\n",
      "epoch 44, loss 0.0022, train acc 1.000\n",
      "epoch 45, loss 0.0022, train acc 1.000\n",
      "epoch 46, loss 0.0022, train acc 1.000\n",
      "epoch 47, loss 0.0021, train acc 1.000\n",
      "epoch 48, loss 0.0021, train acc 1.000\n",
      "epoch 49, loss 0.0021, train acc 1.000\n",
      "epoch 50, loss 0.0020, train acc 1.000\n",
      "epoch 51, loss 0.0020, train acc 1.000\n",
      "epoch 52, loss 0.0020, train acc 1.000\n",
      "epoch 53, loss 0.0019, train acc 1.000\n",
      "epoch 54, loss 0.0019, train acc 1.000\n",
      "epoch 55, loss 0.0019, train acc 1.000\n",
      "epoch 56, loss 0.0019, train acc 1.000\n",
      "epoch 57, loss 0.0018, train acc 1.000\n",
      "epoch 58, loss 0.0018, train acc 1.000\n",
      "epoch 59, loss 0.0018, train acc 1.000\n",
      "epoch 60, loss 0.0018, train acc 1.000\n",
      "epoch 61, loss 0.0017, train acc 1.000\n",
      "epoch 62, loss 0.0017, train acc 1.000\n",
      "epoch 63, loss 0.0017, train acc 1.000\n",
      "epoch 64, loss 0.0017, train acc 1.000\n",
      "epoch 65, loss 0.0017, train acc 1.000\n",
      "epoch 66, loss 0.0017, train acc 1.000\n",
      "epoch 67, loss 0.0016, train acc 1.000\n",
      "epoch 68, loss 0.0016, train acc 1.000\n",
      "epoch 69, loss 0.0016, train acc 1.000\n",
      "epoch 70, loss 0.0016, train acc 1.000\n",
      "epoch 71, loss 0.0016, train acc 1.000\n",
      "epoch 72, loss 0.0016, train acc 1.000\n",
      "epoch 73, loss 0.0015, train acc 1.000\n",
      "epoch 74, loss 0.0015, train acc 1.000\n",
      "epoch 75, loss 0.0015, train acc 1.000\n",
      "epoch 76, loss 0.0015, train acc 1.000\n",
      "epoch 77, loss 0.0015, train acc 1.000\n",
      "epoch 78, loss 0.0015, train acc 1.000\n",
      "epoch 79, loss 0.0015, train acc 1.000\n",
      "epoch 80, loss 0.0014, train acc 1.000\n",
      "epoch 81, loss 0.0014, train acc 1.000\n",
      "epoch 82, loss 0.0014, train acc 1.000\n",
      "epoch 83, loss 0.0014, train acc 1.000\n",
      "epoch 84, loss 0.0014, train acc 1.000\n",
      "epoch 85, loss 0.0014, train acc 1.000\n",
      "epoch 86, loss 0.0014, train acc 1.000\n",
      "epoch 87, loss 0.0014, train acc 1.000\n",
      "epoch 88, loss 0.0013, train acc 1.000\n",
      "epoch 89, loss 0.0013, train acc 1.000\n",
      "epoch 90, loss 0.0013, train acc 1.000\n",
      "epoch 91, loss 0.0013, train acc 1.000\n",
      "epoch 92, loss 0.0013, train acc 1.000\n",
      "epoch 93, loss 0.0013, train acc 1.000\n",
      "epoch 94, loss 0.0013, train acc 1.000\n",
      "epoch 95, loss 0.0013, train acc 1.000\n",
      "epoch 96, loss 0.0013, train acc 1.000\n",
      "epoch 97, loss 0.0013, train acc 1.000\n",
      "epoch 98, loss 0.0012, train acc 1.000\n",
      "epoch 99, loss 0.0012, train acc 1.000\n",
      "epoch 100, loss 0.0012, train acc 1.000\n",
      "epoch 101, loss 0.0012, train acc 1.000\n",
      "epoch 102, loss 0.0012, train acc 1.000\n",
      "epoch 103, loss 0.0012, train acc 1.000\n",
      "epoch 104, loss 0.0012, train acc 1.000\n",
      "epoch 105, loss 0.0012, train acc 1.000\n",
      "epoch 106, loss 0.0012, train acc 1.000\n",
      "epoch 107, loss 0.0012, train acc 1.000\n",
      "epoch 108, loss 0.0012, train acc 1.000\n",
      "epoch 109, loss 0.0012, train acc 1.000\n",
      "epoch 110, loss 0.0011, train acc 1.000\n",
      "epoch 111, loss 0.0011, train acc 1.000\n",
      "epoch 112, loss 0.0011, train acc 1.000\n",
      "epoch 113, loss 0.0011, train acc 1.000\n",
      "epoch 114, loss 0.0011, train acc 1.000\n",
      "epoch 115, loss 0.0011, train acc 1.000\n",
      "epoch 116, loss 0.0011, train acc 1.000\n",
      "epoch 117, loss 0.0011, train acc 1.000\n",
      "epoch 118, loss 0.0011, train acc 1.000\n",
      "epoch 119, loss 0.0011, train acc 1.000\n",
      "epoch 120, loss 0.0011, train acc 1.000\n",
      "epoch 121, loss 0.0011, train acc 1.000\n",
      "epoch 122, loss 0.0011, train acc 1.000\n",
      "epoch 123, loss 0.0011, train acc 1.000\n",
      "epoch 124, loss 0.0011, train acc 1.000\n",
      "epoch 125, loss 0.0010, train acc 1.000\n",
      "epoch 126, loss 0.0010, train acc 1.000\n",
      "epoch 127, loss 0.0010, train acc 1.000\n",
      "epoch 128, loss 0.0010, train acc 1.000\n",
      "epoch 129, loss 0.0010, train acc 1.000\n",
      "epoch 130, loss 0.0010, train acc 1.000\n",
      "epoch 131, loss 0.0010, train acc 1.000\n",
      "epoch 132, loss 0.0010, train acc 1.000\n",
      "epoch 133, loss 0.0010, train acc 1.000\n",
      "epoch 134, loss 0.0010, train acc 1.000\n",
      "epoch 135, loss 0.0010, train acc 1.000\n",
      "epoch 136, loss 0.0010, train acc 1.000\n",
      "epoch 137, loss 0.0010, train acc 1.000\n",
      "epoch 138, loss 0.0010, train acc 1.000\n",
      "epoch 139, loss 0.0010, train acc 1.000\n",
      "epoch 140, loss 0.0010, train acc 1.000\n",
      "epoch 141, loss 0.0010, train acc 1.000\n",
      "epoch 142, loss 0.0010, train acc 1.000\n",
      "epoch 143, loss 0.0010, train acc 1.000\n",
      "epoch 144, loss 0.0009, train acc 1.000\n",
      "epoch 145, loss 0.0009, train acc 1.000\n",
      "epoch 146, loss 0.0009, train acc 1.000\n",
      "epoch 147, loss 0.0009, train acc 1.000\n",
      "epoch 148, loss 0.0009, train acc 1.000\n",
      "epoch 149, loss 0.0009, train acc 1.000\n",
      "epoch 150, loss 0.0009, train acc 1.000\n",
      "epoch 151, loss 0.0009, train acc 1.000\n",
      "epoch 152, loss 0.0009, train acc 1.000\n",
      "epoch 153, loss 0.0009, train acc 1.000\n",
      "epoch 154, loss 0.0009, train acc 1.000\n",
      "epoch 155, loss 0.0009, train acc 1.000\n",
      "epoch 156, loss 0.0009, train acc 1.000\n",
      "epoch 157, loss 0.0009, train acc 1.000\n",
      "epoch 158, loss 0.0009, train acc 1.000\n",
      "epoch 159, loss 0.0009, train acc 1.000\n",
      "epoch 160, loss 0.0009, train acc 1.000\n",
      "epoch 161, loss 0.0009, train acc 1.000\n",
      "epoch 162, loss 0.0009, train acc 1.000\n",
      "epoch 163, loss 0.0009, train acc 1.000\n",
      "epoch 164, loss 0.0009, train acc 1.000\n",
      "epoch 165, loss 0.0009, train acc 1.000\n",
      "epoch 166, loss 0.0009, train acc 1.000\n",
      "epoch 167, loss 0.0009, train acc 1.000\n",
      "epoch 168, loss 0.0009, train acc 1.000\n",
      "epoch 169, loss 0.0009, train acc 1.000\n",
      "epoch 170, loss 0.0008, train acc 1.000\n",
      "epoch 171, loss 0.0008, train acc 1.000\n",
      "epoch 172, loss 0.0008, train acc 1.000\n",
      "epoch 173, loss 0.0008, train acc 1.000\n",
      "epoch 174, loss 0.0008, train acc 1.000\n",
      "epoch 175, loss 0.0008, train acc 1.000\n",
      "epoch 176, loss 0.0008, train acc 1.000\n",
      "epoch 177, loss 0.0008, train acc 1.000\n",
      "epoch 178, loss 0.0008, train acc 1.000\n",
      "epoch 179, loss 0.0008, train acc 1.000\n",
      "epoch 180, loss 0.0008, train acc 1.000\n",
      "epoch 181, loss 0.0008, train acc 1.000\n",
      "epoch 182, loss 0.0008, train acc 1.000\n",
      "epoch 183, loss 0.0008, train acc 1.000\n",
      "epoch 184, loss 0.0008, train acc 1.000\n",
      "epoch 185, loss 0.0008, train acc 1.000\n",
      "epoch 186, loss 0.0008, train acc 1.000\n",
      "epoch 187, loss 0.0008, train acc 1.000\n",
      "epoch 188, loss 0.0008, train acc 1.000\n",
      "epoch 189, loss 0.0008, train acc 1.000\n",
      "epoch 190, loss 0.0008, train acc 1.000\n",
      "epoch 191, loss 0.0008, train acc 1.000\n",
      "epoch 192, loss 0.0008, train acc 1.000\n",
      "epoch 193, loss 0.0008, train acc 1.000\n",
      "epoch 194, loss 0.0008, train acc 1.000\n",
      "epoch 195, loss 0.0008, train acc 1.000\n",
      "epoch 196, loss 0.0008, train acc 1.000\n",
      "epoch 197, loss 0.0008, train acc 1.000\n",
      "epoch 198, loss 0.0008, train acc 1.000\n",
      "epoch 199, loss 0.0008, train acc 1.000\n",
      "epoch 200, loss 0.0008, train acc 1.000\n",
      "epoch 201, loss 0.0008, train acc 1.000\n",
      "epoch 202, loss 0.0008, train acc 1.000\n",
      "epoch 203, loss 0.0008, train acc 1.000\n",
      "epoch 204, loss 0.0008, train acc 1.000\n",
      "epoch 205, loss 0.0007, train acc 1.000\n",
      "epoch 206, loss 0.0007, train acc 1.000\n",
      "epoch 207, loss 0.0007, train acc 1.000\n",
      "epoch 208, loss 0.0007, train acc 1.000\n",
      "epoch 209, loss 0.0007, train acc 1.000\n",
      "epoch 210, loss 0.0007, train acc 1.000\n",
      "epoch 211, loss 0.0007, train acc 1.000\n",
      "epoch 212, loss 0.0007, train acc 1.000\n",
      "epoch 213, loss 0.0007, train acc 1.000\n",
      "epoch 214, loss 0.0007, train acc 1.000\n",
      "epoch 215, loss 0.0007, train acc 1.000\n",
      "epoch 216, loss 0.0007, train acc 1.000\n",
      "epoch 217, loss 0.0007, train acc 1.000\n",
      "epoch 218, loss 0.0007, train acc 1.000\n",
      "epoch 219, loss 0.0007, train acc 1.000\n",
      "epoch 220, loss 0.0007, train acc 1.000\n",
      "epoch 221, loss 0.0007, train acc 1.000\n",
      "epoch 222, loss 0.0007, train acc 1.000\n",
      "epoch 223, loss 0.0007, train acc 1.000\n",
      "epoch 224, loss 0.0007, train acc 1.000\n",
      "epoch 225, loss 0.0007, train acc 1.000\n",
      "epoch 226, loss 0.0007, train acc 1.000\n",
      "epoch 227, loss 0.0007, train acc 1.000\n",
      "epoch 228, loss 0.0007, train acc 1.000\n",
      "epoch 229, loss 0.0007, train acc 1.000\n",
      "epoch 230, loss 0.0007, train acc 1.000\n",
      "epoch 231, loss 0.0007, train acc 1.000\n",
      "epoch 232, loss 0.0007, train acc 1.000\n",
      "epoch 233, loss 0.0007, train acc 1.000\n",
      "epoch 234, loss 0.0007, train acc 1.000\n",
      "epoch 235, loss 0.0007, train acc 1.000\n",
      "epoch 236, loss 0.0007, train acc 1.000\n",
      "epoch 237, loss 0.0007, train acc 1.000\n",
      "epoch 238, loss 0.0007, train acc 1.000\n",
      "epoch 239, loss 0.0007, train acc 1.000\n",
      "epoch 240, loss 0.0007, train acc 1.000\n",
      "epoch 241, loss 0.0007, train acc 1.000\n",
      "epoch 242, loss 0.0007, train acc 1.000\n",
      "epoch 243, loss 0.0007, train acc 1.000\n",
      "epoch 244, loss 0.0007, train acc 1.000\n",
      "epoch 245, loss 0.0007, train acc 1.000\n",
      "epoch 246, loss 0.0007, train acc 1.000\n",
      "epoch 247, loss 0.0007, train acc 1.000\n",
      "epoch 248, loss 0.0007, train acc 1.000\n",
      "epoch 249, loss 0.0007, train acc 1.000\n",
      "epoch 250, loss 0.0007, train acc 1.000\n",
      "epoch 251, loss 0.0007, train acc 1.000\n",
      "epoch 252, loss 0.0007, train acc 1.000\n",
      "epoch 253, loss 0.0007, train acc 1.000\n",
      "epoch 254, loss 0.0007, train acc 1.000\n",
      "epoch 255, loss 0.0006, train acc 1.000\n",
      "epoch 256, loss 0.0006, train acc 1.000\n",
      "epoch 257, loss 0.0006, train acc 1.000\n",
      "epoch 258, loss 0.0006, train acc 1.000\n",
      "epoch 259, loss 0.0006, train acc 1.000\n",
      "epoch 260, loss 0.0006, train acc 1.000\n",
      "epoch 261, loss 0.0006, train acc 1.000\n",
      "epoch 262, loss 0.0006, train acc 1.000\n",
      "epoch 263, loss 0.0006, train acc 1.000\n",
      "epoch 264, loss 0.0006, train acc 1.000\n",
      "epoch 265, loss 0.0006, train acc 1.000\n",
      "epoch 266, loss 0.0006, train acc 1.000\n",
      "epoch 267, loss 0.0006, train acc 1.000\n",
      "epoch 268, loss 0.0006, train acc 1.000\n",
      "epoch 269, loss 0.0006, train acc 1.000\n",
      "epoch 270, loss 0.0006, train acc 1.000\n",
      "epoch 271, loss 0.0006, train acc 1.000\n",
      "epoch 272, loss 0.0006, train acc 1.000\n",
      "epoch 273, loss 0.0006, train acc 1.000\n",
      "epoch 274, loss 0.0006, train acc 1.000\n",
      "epoch 275, loss 0.0006, train acc 1.000\n",
      "epoch 276, loss 0.0006, train acc 1.000\n",
      "epoch 277, loss 0.0006, train acc 1.000\n",
      "epoch 278, loss 0.0006, train acc 1.000\n",
      "epoch 279, loss 0.0006, train acc 1.000\n",
      "epoch 280, loss 0.0006, train acc 1.000\n",
      "epoch 281, loss 0.0006, train acc 1.000\n",
      "epoch 282, loss 0.0006, train acc 1.000\n",
      "epoch 283, loss 0.0006, train acc 1.000\n",
      "epoch 284, loss 0.0006, train acc 1.000\n",
      "epoch 285, loss 0.0006, train acc 1.000\n",
      "epoch 286, loss 0.0006, train acc 1.000\n",
      "epoch 287, loss 0.0006, train acc 1.000\n",
      "epoch 288, loss 0.0006, train acc 1.000\n",
      "epoch 289, loss 0.0006, train acc 1.000\n",
      "epoch 290, loss 0.0006, train acc 1.000\n",
      "epoch 291, loss 0.0006, train acc 1.000\n",
      "epoch 292, loss 0.0006, train acc 1.000\n",
      "epoch 293, loss 0.0006, train acc 1.000\n",
      "epoch 294, loss 0.0006, train acc 1.000\n",
      "epoch 295, loss 0.0006, train acc 1.000\n",
      "epoch 296, loss 0.0006, train acc 1.000\n",
      "epoch 297, loss 0.0006, train acc 1.000\n",
      "epoch 298, loss 0.0006, train acc 1.000\n",
      "epoch 299, loss 0.0006, train acc 1.000\n",
      "epoch 300, loss 0.0006, train acc 1.000\n"
     ]
    }
   ],
   "source": [
    "num_epochs = 300 \n",
    "train_acc_nn = []\n",
    "train_loss_nn =[] \n",
    "for epoch in range( num_epochs):  \n",
    "    train_l_sum, train_acc_sum,n = 0.0,0.0,0  \n",
    "    for X, y in train_data_iter:  \n",
    "        y_hat = logistic_model(X)  \n",
    "        l = criterion(y_hat, y.view(-1, 1))  \n",
    "        optimizer.zero_grad() # 梯度清零，等价于logistic_model.zero_grad()  \n",
    "        l.backward()  \n",
    "        optimizer.step()  \n",
    "        train_l_sum += l.item()  \n",
    "        y_hat = torch.squeeze(torch.where(y_hat>0.5,torch.tensor(1.0),torch.tensor(0.0)))  \n",
    "        train_acc_sum += (y_hat==y).sum().item()  \n",
    "        n+= y.shape[0]  \n",
    "    train_acc_nn.append(train_acc_sum/n)\n",
    "    train_loss_nn.append(train_l_sum/n)\n",
    "    print('epoch %d, loss %.4f, train acc %.3f'\n",
    "          % (epoch + 1, train_loss_nn[epoch], train_acc_nn[epoch]))"
   ]
  },
  {
   "cell_type": "markdown",
   "id": "88a70773",
   "metadata": {},
   "source": [
    "绘制loss函数和acc函数"
   ]
  },
  {
   "cell_type": "code",
   "execution_count": 50,
   "id": "b7e8b722",
   "metadata": {},
   "outputs": [
    {
     "data": {
      "image/png": "[encoded data removed]",
      "text/plain": [
       "<Figure size 432x288 with 1 Axes>"
      ]
     },
     "metadata": {
      "needs_background": "light"
     },
     "output_type": "display_data"
    },
    {
     "data": {
      "image/png": "[encoded data removed]",
      "text/plain": [
       "<Figure size 432x288 with 1 Axes>"
      ]
     },
     "metadata": {
      "needs_background": "light"
     },
     "output_type": "display_data"
    },
    {
     "data": {
      "image/png": "[encoded data removed]",
      "text/plain": [
       "<Figure size 432x288 with 1 Axes>"
      ]
     },
     "metadata": {
      "needs_background": "light"
     },
     "output_type": "display_data"
    },
    {
     "data": {
      "image/png": "[encoded data removed]",
      "text/plain": [
       "<Figure size 432x288 with 1 Axes>"
      ]
     },
     "metadata": {
      "needs_background": "light"
     },
     "output_type": "display_data"
    }
   ],
   "source": [
    "Draw_Curve([train_loss,\"train_loss\"],ylabel = \"loss\")\n",
    "Draw_Curve([train_acc,\"train_acc\"],ylabel = \"acc\")\n",
    "Draw_Curve([train_loss_nn,\"train_loss_nn\"],ylabel = \"loss\")\n",
    "Draw_Curve([train_acc_nn,\"train_acc_nn\"],ylabel = \"acc\")"
   ]
  },
  {
   "cell_type": "markdown",
   "id": "196c259c",
   "metadata": {},
   "source": [
    "# 实现softmax"
   ]
  },
  {
   "cell_type": "markdown",
   "id": "ddaa341b",
   "metadata": {},
   "source": [
    "使用dataloader加载数据"
   ]
  },
  {
   "cell_type": "code",
   "execution_count": 51,
   "id": "2209dec9",
   "metadata": {},
   "outputs": [],
   "source": [
    "mnist_train = torchvision.datasets.FashionMNIST(root=\"F:/postgraduate-study/deep Learning-wan/data/first\", train=True, download=False, transform=transforms.ToTensor())\n",
    "mnist_test = torchvision.datasets.FashionMNIST(root=\"F:/postgraduate-study/deep Learning-wan/data/first\", train=False, download=False, transform=transforms.ToTensor())\n",
    "batch_size = 256\n",
    "train_iter = torch.utils.data.DataLoader(mnist_train, batch_size=batch_size, shuffle=True, num_workers=0)\n",
    "test_iter = torch.utils.data.DataLoader(mnist_test, batch_size=batch_size, shuffle=False, num_workers=0)"
   ]
  },
  {
   "cell_type": "markdown",
   "id": "7c91bd3b",
   "metadata": {},
   "source": [
    "## 从0实现 softmax 回归"
   ]
  },
  {
   "cell_type": "markdown",
   "id": "5faa00df",
   "metadata": {},
   "source": [
    "初始化模型参数"
   ]
  },
  {
   "cell_type": "code",
   "execution_count": 52,
   "id": "ac2da6c0",
   "metadata": {},
   "outputs": [
    {
     "data": {
      "text/plain": [
       "tensor([0., 0., 0., 0., 0., 0., 0., 0., 0., 0.], requires_grad=True)"
      ]
     },
     "execution_count": 52,
     "metadata": {},
     "output_type": "execute_result"
    }
   ],
   "source": [
    "import numpy as np\n",
    "num_inputs = 28 * 28\n",
    "num_outputs = 10\n",
    "\n",
    "W = torch.tensor(np.random.normal(0,0.01,(num_inputs,num_outputs)),dtype=torch.float)\n",
    "b = torch.zeros(num_outputs,dtype=torch.float)\n",
    "W.requires_grad_(requires_grad=True)\n",
    "b.requires_grad_(requires_grad=True)"
   ]
  },
  {
   "cell_type": "markdown",
   "id": "9ca06113",
   "metadata": {},
   "source": [
    "构建模型"
   ]
  },
  {
   "cell_type": "code",
   "execution_count": 53,
   "id": "08d0e91d",
   "metadata": {},
   "outputs": [],
   "source": [
    "def softmax(X):\n",
    "    X_exp = X.exp()\n",
    "    partition = X_exp.sum(dim=1, keepdim=True)\n",
    "    return X_exp / partition\n",
    "\n",
    "def net(X):\n",
    "    return softmax(torch.mm(X.view((-1,num_inputs)),W)+b)"
   ]
  },
  {
   "cell_type": "markdown",
   "id": "059e4512",
   "metadata": {},
   "source": [
    "定义交叉熵损失函数和优化函数"
   ]
  },
  {
   "cell_type": "code",
   "execution_count": 54,
   "id": "30bc6721",
   "metadata": {},
   "outputs": [],
   "source": [
    "def cross_entropy(y_hat,y):\n",
    "    return - torch.log(y_hat.gather(1,y.view(-1,1)))\n",
    "def sgd(params, lr, batch_size):\n",
    "    for param in params:\n",
    "        param.data -= lr * param.grad / batch_size # 注意这里更改param时用的param.data"
   ]
  },
  {
   "cell_type": "markdown",
   "id": "e25b17b5",
   "metadata": {},
   "source": [
    "计算acc函数"
   ]
  },
  {
   "cell_type": "code",
   "execution_count": 55,
   "id": "c49fbb62",
   "metadata": {},
   "outputs": [],
   "source": [
    "def evaluate_accuracy(data_iter,net):\n",
    "    acc_sum,n,test_l_sum= 0.0,0,0.0\n",
    "    for X,y in data_iter:\n",
    "        acc_sum += (net(X).argmax(dim = 1) == y).float().sum().item()\n",
    "        l = loss(net(X),y).sum()\n",
    "        test_l_sum += l.item()\n",
    "        n += y.shape[0]\n",
    "    return acc_sum/n,test_l_sum/n"
   ]
  },
  {
   "cell_type": "markdown",
   "id": "6ec91bec",
   "metadata": {},
   "source": [
    "训练过程"
   ]
  },
  {
   "cell_type": "code",
   "execution_count": 56,
   "id": "db8845f2",
   "metadata": {
    "scrolled": true
   },
   "outputs": [
    {
     "name": "stdout",
     "output_type": "stream",
     "text": [
      "epoch 1, loss 1.3602, train acc 0.643, test acc 0.682\n",
      "epoch 2, loss 0.9162, train acc 0.717, test acc 0.722\n",
      "epoch 3, loss 0.8034, train acc 0.750, test acc 0.746\n",
      "epoch 4, loss 0.7432, train acc 0.767, test acc 0.759\n",
      "epoch 5, loss 0.7036, train acc 0.779, test acc 0.771\n",
      "epoch 6, loss 0.6749, train acc 0.788, test acc 0.778\n",
      "epoch 7, loss 0.6525, train acc 0.795, test acc 0.784\n",
      "epoch 8, loss 0.6345, train acc 0.799, test acc 0.787\n",
      "epoch 9, loss 0.6197, train acc 0.803, test acc 0.792\n",
      "epoch 10, loss 0.6070, train acc 0.806, test acc 0.797\n",
      "epoch 11, loss 0.5962, train acc 0.809, test acc 0.799\n",
      "epoch 12, loss 0.5866, train acc 0.812, test acc 0.801\n",
      "epoch 13, loss 0.5780, train acc 0.814, test acc 0.805\n",
      "epoch 14, loss 0.5705, train acc 0.817, test acc 0.805\n",
      "epoch 15, loss 0.5637, train acc 0.818, test acc 0.808\n",
      "epoch 16, loss 0.5576, train acc 0.820, test acc 0.808\n",
      "epoch 17, loss 0.5520, train acc 0.821, test acc 0.811\n",
      "epoch 18, loss 0.5468, train acc 0.822, test acc 0.810\n",
      "epoch 19, loss 0.5421, train acc 0.824, test acc 0.812\n",
      "epoch 20, loss 0.5376, train acc 0.825, test acc 0.812\n",
      "epoch 21, loss 0.5336, train acc 0.825, test acc 0.814\n",
      "epoch 22, loss 0.5297, train acc 0.827, test acc 0.814\n",
      "epoch 23, loss 0.5261, train acc 0.828, test acc 0.814\n",
      "epoch 24, loss 0.5227, train acc 0.828, test acc 0.816\n",
      "epoch 25, loss 0.5196, train acc 0.829, test acc 0.816\n",
      "epoch 26, loss 0.5166, train acc 0.830, test acc 0.816\n",
      "epoch 27, loss 0.5137, train acc 0.831, test acc 0.818\n",
      "epoch 28, loss 0.5111, train acc 0.831, test acc 0.820\n",
      "epoch 29, loss 0.5085, train acc 0.832, test acc 0.820\n",
      "epoch 30, loss 0.5061, train acc 0.833, test acc 0.820\n",
      "epoch 31, loss 0.5038, train acc 0.834, test acc 0.822\n",
      "epoch 32, loss 0.5017, train acc 0.834, test acc 0.822\n",
      "epoch 33, loss 0.4995, train acc 0.835, test acc 0.822\n",
      "epoch 34, loss 0.4975, train acc 0.835, test acc 0.823\n",
      "epoch 35, loss 0.4956, train acc 0.836, test acc 0.823\n",
      "epoch 36, loss 0.4937, train acc 0.836, test acc 0.824\n",
      "epoch 37, loss 0.4919, train acc 0.837, test acc 0.824\n",
      "epoch 38, loss 0.4902, train acc 0.837, test acc 0.824\n",
      "epoch 39, loss 0.4887, train acc 0.838, test acc 0.824\n",
      "epoch 40, loss 0.4870, train acc 0.838, test acc 0.826\n",
      "epoch 41, loss 0.4855, train acc 0.839, test acc 0.827\n",
      "epoch 42, loss 0.4840, train acc 0.839, test acc 0.827\n",
      "epoch 43, loss 0.4825, train acc 0.839, test acc 0.828\n",
      "epoch 44, loss 0.4811, train acc 0.840, test acc 0.826\n",
      "epoch 45, loss 0.4798, train acc 0.841, test acc 0.826\n",
      "epoch 46, loss 0.4785, train acc 0.841, test acc 0.828\n",
      "epoch 47, loss 0.4772, train acc 0.841, test acc 0.829\n",
      "epoch 48, loss 0.4761, train acc 0.841, test acc 0.828\n",
      "epoch 49, loss 0.4748, train acc 0.842, test acc 0.829\n",
      "epoch 50, loss 0.4737, train acc 0.842, test acc 0.830\n",
      "epoch 51, loss 0.4726, train acc 0.842, test acc 0.829\n",
      "epoch 52, loss 0.4716, train acc 0.843, test acc 0.831\n",
      "epoch 53, loss 0.4704, train acc 0.843, test acc 0.830\n",
      "epoch 54, loss 0.4695, train acc 0.843, test acc 0.830\n",
      "epoch 55, loss 0.4684, train acc 0.844, test acc 0.832\n",
      "epoch 56, loss 0.4674, train acc 0.844, test acc 0.831\n",
      "epoch 57, loss 0.4664, train acc 0.844, test acc 0.830\n",
      "epoch 58, loss 0.4655, train acc 0.844, test acc 0.831\n",
      "epoch 59, loss 0.4647, train acc 0.845, test acc 0.831\n",
      "epoch 60, loss 0.4638, train acc 0.845, test acc 0.831\n",
      "epoch 61, loss 0.4630, train acc 0.845, test acc 0.832\n",
      "epoch 62, loss 0.4620, train acc 0.846, test acc 0.829\n",
      "epoch 63, loss 0.4613, train acc 0.846, test acc 0.831\n",
      "epoch 64, loss 0.4604, train acc 0.846, test acc 0.831\n",
      "epoch 65, loss 0.4597, train acc 0.846, test acc 0.832\n",
      "epoch 66, loss 0.4589, train acc 0.847, test acc 0.832\n",
      "epoch 67, loss 0.4581, train acc 0.847, test acc 0.832\n",
      "epoch 68, loss 0.4575, train acc 0.847, test acc 0.833\n",
      "epoch 69, loss 0.4567, train acc 0.847, test acc 0.832\n",
      "epoch 70, loss 0.4559, train acc 0.847, test acc 0.832\n",
      "epoch 71, loss 0.4553, train acc 0.847, test acc 0.832\n",
      "epoch 72, loss 0.4546, train acc 0.847, test acc 0.832\n",
      "epoch 73, loss 0.4539, train acc 0.849, test acc 0.832\n",
      "epoch 74, loss 0.4532, train acc 0.849, test acc 0.833\n",
      "epoch 75, loss 0.4526, train acc 0.848, test acc 0.834\n",
      "epoch 76, loss 0.4520, train acc 0.848, test acc 0.833\n",
      "epoch 77, loss 0.4514, train acc 0.849, test acc 0.833\n",
      "epoch 78, loss 0.4507, train acc 0.848, test acc 0.833\n",
      "epoch 79, loss 0.4502, train acc 0.849, test acc 0.833\n",
      "epoch 80, loss 0.4496, train acc 0.849, test acc 0.834\n",
      "epoch 81, loss 0.4491, train acc 0.849, test acc 0.833\n",
      "epoch 82, loss 0.4485, train acc 0.849, test acc 0.834\n",
      "epoch 83, loss 0.4478, train acc 0.850, test acc 0.832\n",
      "epoch 84, loss 0.4473, train acc 0.850, test acc 0.835\n",
      "epoch 85, loss 0.4468, train acc 0.850, test acc 0.834\n",
      "epoch 86, loss 0.4464, train acc 0.850, test acc 0.835\n",
      "epoch 87, loss 0.4458, train acc 0.850, test acc 0.834\n",
      "epoch 88, loss 0.4453, train acc 0.850, test acc 0.834\n",
      "epoch 89, loss 0.4448, train acc 0.850, test acc 0.834\n",
      "epoch 90, loss 0.4443, train acc 0.851, test acc 0.836\n",
      "epoch 91, loss 0.4438, train acc 0.850, test acc 0.834\n",
      "epoch 92, loss 0.4434, train acc 0.850, test acc 0.835\n",
      "epoch 93, loss 0.4428, train acc 0.851, test acc 0.834\n",
      "epoch 94, loss 0.4423, train acc 0.851, test acc 0.834\n",
      "epoch 95, loss 0.4419, train acc 0.851, test acc 0.834\n",
      "epoch 96, loss 0.4415, train acc 0.851, test acc 0.835\n",
      "epoch 97, loss 0.4410, train acc 0.851, test acc 0.834\n",
      "epoch 98, loss 0.4406, train acc 0.851, test acc 0.834\n",
      "epoch 99, loss 0.4402, train acc 0.851, test acc 0.836\n",
      "epoch 100, loss 0.4397, train acc 0.852, test acc 0.835\n"
     ]
    }
   ],
   "source": [
    "num_epochs = 100\n",
    "lr = 0.01\n",
    "test_acc,train_acc= [],[]\n",
    "train_loss,test_loss =[],[] \n",
    "loss  = cross_entropy\n",
    "params  = [W,b]\n",
    "for epoch in range(num_epochs):\n",
    "    train_l_sum, train_acc_sum, n = 0.0, 0.0, 0\n",
    "    for X,y in train_iter:\n",
    "        y_hat = net(X)\n",
    "        l = loss(y_hat,y).sum()\n",
    "        l.backward()\n",
    "        sgd(params, lr, batch_size)\n",
    "        W.grad.data.zero_()\n",
    "        b.grad.data.zero_()\n",
    "        train_l_sum += l.item()\n",
    "        train_acc_sum += (y_hat.argmax(dim=1) == y).sum().item()\n",
    "        n += y.shape[0]\n",
    "    test_a,test_l = evaluate_accuracy(test_iter, net)\n",
    "    test_acc.append(test_a)\n",
    "    test_loss.append(test_l)\n",
    "    train_acc.append(train_acc_sum/n)\n",
    "    train_loss.append(train_l_sum/n)\n",
    "    print('epoch %d, loss %.4f, train acc %.3f, test acc %.3f'\n",
    "          % (epoch + 1, train_loss[epoch], train_acc[epoch], test_acc[epoch]))\n"
   ]
  },
  {
   "cell_type": "markdown",
   "id": "ab4550cd",
   "metadata": {},
   "source": [
    "## 利用torch.nn实现 softmax 回归"
   ]
  },
  {
   "cell_type": "markdown",
   "id": "fa1ee0da",
   "metadata": {},
   "source": [
    "构建模型"
   ]
  },
  {
   "cell_type": "code",
   "execution_count": 57,
   "id": "09c305d2",
   "metadata": {},
   "outputs": [],
   "source": [
    "class softmaxnet(torch.nn.Module):\n",
    "    def __init__(self, n_features, n_labels):\n",
    "        super(softmaxnet, self).__init__()\n",
    "        self.linear = torch.nn.Linear(n_features, n_labels)\n",
    "\n",
    "    def forward(self, x):\n",
    "        x_ = x.view((-1, num_inputs))\n",
    "        y_hat = self.linear(x_)\n",
    "        return y_hat\n",
    "net = softmaxnet(num_inputs, num_outputs)"
   ]
  },
  {
   "cell_type": "markdown",
   "id": "19ce7542",
   "metadata": {},
   "source": [
    "初始化参数,定义损失函数和优化函数"
   ]
  },
  {
   "cell_type": "code",
   "execution_count": 58,
   "id": "4d9da597",
   "metadata": {},
   "outputs": [
    {
     "name": "stdout",
     "output_type": "stream",
     "text": [
      "Parameter containing:\n",
      "tensor([[-1.4633e-02,  1.1763e-02,  1.2063e-02,  ..., -8.8989e-03,\n",
      "         -3.3527e-03,  9.1619e-04],\n",
      "        [-6.8643e-03, -1.0391e-02, -8.7322e-04,  ...,  3.3743e-03,\n",
      "          3.2603e-03, -9.1506e-03],\n",
      "        [ 5.0523e-03, -2.5719e-03, -3.8446e-04,  ...,  2.4095e-03,\n",
      "         -3.9648e-03, -1.6499e-02],\n",
      "        ...,\n",
      "        [-5.9679e-03,  7.7812e-06, -3.1700e-03,  ...,  1.7495e-02,\n",
      "          5.2439e-03,  6.7462e-03],\n",
      "        [ 1.2518e-02,  4.0740e-03, -9.5051e-03,  ...,  9.2311e-03,\n",
      "          9.3971e-03,  5.1680e-03],\n",
      "        [-1.8379e-04,  1.6663e-02,  3.7217e-03,  ..., -2.1886e-02,\n",
      "         -9.5560e-03,  5.7000e-03]], requires_grad=True)\n",
      "Parameter containing:\n",
      "tensor([0., 0., 0., 0., 0., 0., 0., 0., 0., 0.], requires_grad=True)\n"
     ]
    }
   ],
   "source": [
    "nn.init.normal_(net.linear.weight, mean=0, std=0.01)  \n",
    "nn.init.constant_(net.linear.bias, val=0) #也可以直接修改bias的data： net[0].bias.data.fill_(0)  \n",
    "print(net.linear.weight)  \n",
    "print(net.linear.bias)\n",
    "loss = nn.CrossEntropyLoss()\n",
    "optimizer = torch.optim.SGD(net.parameters(),lr = 0.005)"
   ]
  },
  {
   "cell_type": "markdown",
   "id": "2e91bc0f",
   "metadata": {},
   "source": [
    "训练过程"
   ]
  },
  {
   "cell_type": "code",
   "execution_count": 59,
   "id": "548e38db",
   "metadata": {
    "scrolled": true
   },
   "outputs": [
    {
     "name": "stdout",
     "output_type": "stream",
     "text": [
      "epoch 1, loss 0.0063, train acc 0.610, test acc 0.652\n",
      "epoch 2, loss 0.0044, train acc 0.679, test acc 0.678\n",
      "epoch 3, loss 0.0038, train acc 0.703, test acc 0.704\n",
      "epoch 4, loss 0.0034, train acc 0.727, test acc 0.724\n",
      "epoch 5, loss 0.0032, train acc 0.744, test acc 0.735\n",
      "epoch 6, loss 0.0031, train acc 0.756, test acc 0.747\n",
      "epoch 7, loss 0.0030, train acc 0.765, test acc 0.755\n",
      "epoch 8, loss 0.0029, train acc 0.772, test acc 0.762\n",
      "epoch 9, loss 0.0028, train acc 0.778, test acc 0.765\n",
      "epoch 10, loss 0.0027, train acc 0.783, test acc 0.768\n",
      "epoch 11, loss 0.0027, train acc 0.787, test acc 0.772\n",
      "epoch 12, loss 0.0026, train acc 0.791, test acc 0.776\n",
      "epoch 13, loss 0.0026, train acc 0.794, test acc 0.781\n",
      "epoch 14, loss 0.0025, train acc 0.797, test acc 0.785\n",
      "epoch 15, loss 0.0025, train acc 0.799, test acc 0.786\n",
      "epoch 16, loss 0.0025, train acc 0.801, test acc 0.789\n",
      "epoch 17, loss 0.0024, train acc 0.803, test acc 0.790\n",
      "epoch 18, loss 0.0024, train acc 0.805, test acc 0.793\n",
      "epoch 19, loss 0.0024, train acc 0.806, test acc 0.795\n",
      "epoch 20, loss 0.0024, train acc 0.808, test acc 0.795\n",
      "epoch 21, loss 0.0023, train acc 0.809, test acc 0.798\n",
      "epoch 22, loss 0.0023, train acc 0.811, test acc 0.800\n",
      "epoch 23, loss 0.0023, train acc 0.812, test acc 0.798\n",
      "epoch 24, loss 0.0023, train acc 0.813, test acc 0.803\n",
      "epoch 25, loss 0.0023, train acc 0.814, test acc 0.804\n",
      "epoch 26, loss 0.0023, train acc 0.815, test acc 0.804\n",
      "epoch 27, loss 0.0022, train acc 0.816, test acc 0.805\n",
      "epoch 28, loss 0.0022, train acc 0.817, test acc 0.806\n",
      "epoch 29, loss 0.0022, train acc 0.818, test acc 0.806\n",
      "epoch 30, loss 0.0022, train acc 0.818, test acc 0.808\n",
      "epoch 31, loss 0.0022, train acc 0.819, test acc 0.808\n",
      "epoch 32, loss 0.0022, train acc 0.820, test acc 0.809\n",
      "epoch 33, loss 0.0022, train acc 0.821, test acc 0.809\n",
      "epoch 34, loss 0.0022, train acc 0.822, test acc 0.809\n",
      "epoch 35, loss 0.0021, train acc 0.822, test acc 0.810\n",
      "epoch 36, loss 0.0021, train acc 0.824, test acc 0.811\n",
      "epoch 37, loss 0.0021, train acc 0.824, test acc 0.811\n",
      "epoch 38, loss 0.0021, train acc 0.825, test acc 0.811\n",
      "epoch 39, loss 0.0021, train acc 0.825, test acc 0.813\n",
      "epoch 40, loss 0.0021, train acc 0.825, test acc 0.813\n",
      "epoch 41, loss 0.0021, train acc 0.826, test acc 0.813\n",
      "epoch 42, loss 0.0021, train acc 0.826, test acc 0.814\n",
      "epoch 43, loss 0.0021, train acc 0.827, test acc 0.814\n",
      "epoch 44, loss 0.0021, train acc 0.827, test acc 0.814\n",
      "epoch 45, loss 0.0021, train acc 0.828, test acc 0.815\n",
      "epoch 46, loss 0.0021, train acc 0.829, test acc 0.815\n",
      "epoch 47, loss 0.0020, train acc 0.829, test acc 0.815\n",
      "epoch 48, loss 0.0020, train acc 0.829, test acc 0.815\n",
      "epoch 49, loss 0.0020, train acc 0.829, test acc 0.816\n",
      "epoch 50, loss 0.0020, train acc 0.830, test acc 0.818\n",
      "epoch 51, loss 0.0020, train acc 0.830, test acc 0.817\n",
      "epoch 52, loss 0.0020, train acc 0.831, test acc 0.817\n",
      "epoch 53, loss 0.0020, train acc 0.832, test acc 0.818\n",
      "epoch 54, loss 0.0020, train acc 0.831, test acc 0.818\n",
      "epoch 55, loss 0.0020, train acc 0.832, test acc 0.819\n",
      "epoch 56, loss 0.0020, train acc 0.833, test acc 0.820\n",
      "epoch 57, loss 0.0020, train acc 0.833, test acc 0.820\n",
      "epoch 58, loss 0.0020, train acc 0.833, test acc 0.820\n",
      "epoch 59, loss 0.0020, train acc 0.833, test acc 0.820\n",
      "epoch 60, loss 0.0020, train acc 0.834, test acc 0.820\n",
      "epoch 61, loss 0.0020, train acc 0.834, test acc 0.821\n",
      "epoch 62, loss 0.0020, train acc 0.834, test acc 0.821\n",
      "epoch 63, loss 0.0020, train acc 0.835, test acc 0.821\n",
      "epoch 64, loss 0.0020, train acc 0.835, test acc 0.822\n",
      "epoch 65, loss 0.0020, train acc 0.835, test acc 0.823\n",
      "epoch 66, loss 0.0020, train acc 0.835, test acc 0.824\n",
      "epoch 67, loss 0.0019, train acc 0.836, test acc 0.822\n",
      "epoch 68, loss 0.0019, train acc 0.836, test acc 0.823\n",
      "epoch 69, loss 0.0019, train acc 0.836, test acc 0.824\n",
      "epoch 70, loss 0.0019, train acc 0.837, test acc 0.823\n",
      "epoch 71, loss 0.0019, train acc 0.836, test acc 0.824\n",
      "epoch 72, loss 0.0019, train acc 0.837, test acc 0.825\n",
      "epoch 73, loss 0.0019, train acc 0.837, test acc 0.824\n",
      "epoch 74, loss 0.0019, train acc 0.837, test acc 0.825\n",
      "epoch 75, loss 0.0019, train acc 0.837, test acc 0.825\n",
      "epoch 76, loss 0.0019, train acc 0.838, test acc 0.826\n",
      "epoch 77, loss 0.0019, train acc 0.838, test acc 0.826\n",
      "epoch 78, loss 0.0019, train acc 0.838, test acc 0.825\n",
      "epoch 79, loss 0.0019, train acc 0.838, test acc 0.826\n",
      "epoch 80, loss 0.0019, train acc 0.839, test acc 0.826\n",
      "epoch 81, loss 0.0019, train acc 0.839, test acc 0.827\n",
      "epoch 82, loss 0.0019, train acc 0.840, test acc 0.827\n",
      "epoch 83, loss 0.0019, train acc 0.839, test acc 0.828\n",
      "epoch 84, loss 0.0019, train acc 0.840, test acc 0.827\n",
      "epoch 85, loss 0.0019, train acc 0.840, test acc 0.827\n",
      "epoch 86, loss 0.0019, train acc 0.840, test acc 0.827\n",
      "epoch 87, loss 0.0019, train acc 0.840, test acc 0.827\n",
      "epoch 88, loss 0.0019, train acc 0.840, test acc 0.828\n",
      "epoch 89, loss 0.0019, train acc 0.840, test acc 0.828\n",
      "epoch 90, loss 0.0019, train acc 0.841, test acc 0.828\n",
      "epoch 91, loss 0.0019, train acc 0.840, test acc 0.828\n",
      "epoch 92, loss 0.0019, train acc 0.841, test acc 0.828\n",
      "epoch 93, loss 0.0019, train acc 0.841, test acc 0.828\n",
      "epoch 94, loss 0.0019, train acc 0.841, test acc 0.828\n",
      "epoch 95, loss 0.0019, train acc 0.842, test acc 0.830\n",
      "epoch 96, loss 0.0019, train acc 0.842, test acc 0.830\n",
      "epoch 97, loss 0.0019, train acc 0.842, test acc 0.828\n",
      "epoch 98, loss 0.0019, train acc 0.842, test acc 0.830\n",
      "epoch 99, loss 0.0019, train acc 0.842, test acc 0.829\n",
      "epoch 100, loss 0.0019, train acc 0.842, test acc 0.828\n"
     ]
    }
   ],
   "source": [
    "num_epochs = 100\n",
    "test_acc_nn,train_acc_nn = [],[]\n",
    "train_loss_nn,test_loss_nn =[],[] \n",
    "for epoch in range(num_epochs):\n",
    "        train_l_sum, train_acc_sum, n = 0.0, 0.0, 0\n",
    "        for X,y in train_iter:\n",
    "            y_hat = net(X)\n",
    "            l = loss(y_hat,y).sum()\n",
    "            optimizer.zero_grad()\n",
    "            l.backward()\n",
    "            optimizer.step()\n",
    "            train_l_sum += l.item()\n",
    "            train_acc_sum += (y_hat.argmax(dim=1) == y).sum().item()\n",
    "            n += y.shape[0]\n",
    "            \n",
    "        test_a,test_l = evaluate_accuracy(test_iter, net)\n",
    "        test_acc_nn.append(test_a)\n",
    "        test_loss_nn.append(test_l)\n",
    "        train_acc_nn.append(train_acc_sum/n)\n",
    "        train_loss_nn.append(train_l_sum/n)\n",
    "        print('epoch %d, loss %.4f, train acc %.3f, test acc %.3f'\n",
    "              % (epoch + 1, train_loss_nn[epoch], train_acc_nn[epoch], test_acc_nn[epoch]))"
   ]
  },
  {
   "cell_type": "code",
   "execution_count": 60,
   "id": "06c8f700",
   "metadata": {
    "scrolled": false
   },
   "outputs": [
    {
     "data": {
      "image/png": "[encoded data removed]",
      "text/plain": [
       "<Figure size 432x288 with 1 Axes>"
      ]
     },
     "metadata": {
      "needs_background": "light"
     },
     "output_type": "display_data"
    },
    {
     "data": {
      "image/png": "[encoded data removed]",
      "text/plain": [
       "<Figure size 432x288 with 1 Axes>"
      ]
     },
     "metadata": {
      "needs_background": "light"
     },
     "output_type": "display_data"
    },
    {
     "data": {
      "image/png": "[encoded data removed]",
      "text/plain": [
       "<Figure size 432x288 with 1 Axes>"
      ]
     },
     "metadata": {
      "needs_background": "light"
     },
     "output_type": "display_data"
    },
    {
     "data": {
      "image/png": "[encoded data removed]",
      "text/plain": [
       "<Figure size 432x288 with 1 Axes>"
      ]
     },
     "metadata": {
      "needs_background": "light"
     },
     "output_type": "display_data"
    },
    {
     "data": {
      "image/png": "[encoded data removed]",
      "text/plain": [
       "<Figure size 432x288 with 1 Axes>"
      ]
     },
     "metadata": {
      "needs_background": "light"
     },
     "output_type": "display_data"
    },
    {
     "data": {
      "image/png": "[encoded data removed]",
      "text/plain": [
       "<Figure size 432x288 with 1 Axes>"
      ]
     },
     "metadata": {
      "needs_background": "light"
     },
     "output_type": "display_data"
    },
    {
     "data": {
      "image/png": "[encoded data removed]",
      "text/plain": [
       "<Figure size 432x288 with 1 Axes>"
      ]
     },
     "metadata": {
      "needs_background": "light"
     },
     "output_type": "display_data"
    },
    {
     "data": {
      "image/png": "[encoded data removed]",
      "text/plain": [
       "<Figure size 432x288 with 1 Axes>"
      ]
     },
     "metadata": {
      "needs_background": "light"
     },
     "output_type": "display_data"
    }
   ],
   "source": [
    "Draw_Curve([train_loss,\"train_loss\"],ylabel = \"loss\")\n",
    "Draw_Curve([train_acc,\"train_acc\"],ylabel = \"acc\")\n",
    "Draw_Curve([test_loss,\"test_loss\"],ylabel = \"loss\")\n",
    "Draw_Curve([test_acc,\"test_acc\"],ylabel = \"acc\")\n",
    "Draw_Curve([train_loss_nn,\"train_loss_nn\"],ylabel = \"loss\")\n",
    "Draw_Curve([train_acc_nn,\"train_acc_nn\"],ylabel = \"acc\")\n",
    "Draw_Curve([test_loss_nn,\"test_loss_nn\"],ylabel = \"loss\")\n",
    "Draw_Curve([test_acc_nn,\"test_acc_nn\"],ylabel = \"acc\")"
   ]
  },
  {
   "cell_type": "code",
   "execution_count": null,
   "id": "c1597966",
   "metadata": {},
   "outputs": [],
   "source": []
  }
 ],
 "metadata": {
  "kernelspec": {
   "display_name": "pytorch",
   "language": "python",
   "name": "pytorch"
  },
  "language_info": {
   "codemirror_mode": {
    "name": "ipython",
    "version": 3
   },
   "file_extension": ".py",
   "mimetype": "text/x-python",
   "name": "python",
   "nbconvert_exporter": "python",
   "pygments_lexer": "ipython3",
   "version": "3.8.10"
  }
 },
 "nbformat": 4,
 "nbformat_minor": 5
}
